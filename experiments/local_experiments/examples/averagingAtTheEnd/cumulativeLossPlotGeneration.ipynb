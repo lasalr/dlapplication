{
 "cells": [
  {
   "cell_type": "markdown",
   "metadata": {},
   "source": [
    "# Cumulative Loss"
   ]
  },
  {
   "cell_type": "code",
   "execution_count": 1,
   "metadata": {},
   "outputs": [],
   "source": [
    "import matplotlib\n",
    "import numpy as np\n",
    "import matplotlib.pyplot as plt\n",
    "%matplotlib inline \n",
    "import time\n",
    "from IPython.display import clear_output\n",
    "import ipywidgets as widgets\n",
    "import os\n",
    "import math"
   ]
  },
  {
   "cell_type": "code",
   "execution_count": 2,
   "metadata": {},
   "outputs": [],
   "source": [
    "plt.rcParams[\"figure.figsize\"] = (16,8)"
   ]
  },
  {
   "cell_type": "code",
   "execution_count": 3,
   "metadata": {},
   "outputs": [
    {
     "data": {
      "application/vnd.jupyter.widget-view+json": {
       "model_id": "a17aae83f0774e68b1c679da0df29e77",
       "version_major": 2,
       "version_minor": 0
      },
      "text/plain": [
       "Dropdown(description='Experiment:', options={'.ipynb_checkpoints': '.ipynb_checkpoints', 'RadonMachine_test_20…"
      ]
     },
     "metadata": {},
     "output_type": "display_data"
    }
   ],
   "source": [
    "dirs = [d for d in os.listdir('.') if os.path.isdir(d)]\n",
    "dirs = np.sort(dirs)\n",
    "wFolder = widgets.Dropdown(\n",
    "    options=dict(zip(dirs,dirs)),\n",
    "    description='Experiment:',\n",
    ")\n",
    "display(wFolder)"
   ]
  },
  {
   "cell_type": "code",
   "execution_count": 4,
   "metadata": {},
   "outputs": [
    {
     "name": "stdout",
     "output_type": "stream",
     "text": [
      "RadonMachine_test_2020-08-11_19-26-29\n"
     ]
    }
   ],
   "source": [
    "experimentFolder = wFolder.value\n",
    "print(experimentFolder)"
   ]
  },
  {
   "cell_type": "code",
   "execution_count": 5,
   "metadata": {},
   "outputs": [
    {
     "name": "stdout",
     "output_type": "stream",
     "text": [
      "Learners amount is  3\n"
     ]
    }
   ],
   "source": [
    "nodesAmount = 0\n",
    "dirs = [d for d in os.listdir(experimentFolder) if os.path.isdir(os.path.join(experimentFolder,d))]\n",
    "for d in dirs:\n",
    "    if 'worker' in d:\n",
    "        nodesAmount += 1\n",
    "print(\"Learners amount is \", str(nodesAmount))"
   ]
  },
  {
   "cell_type": "markdown",
   "metadata": {},
   "source": [
    "## Mean Cumulative Loss Aligned by Amount of Examples Seen"
   ]
  },
  {
   "cell_type": "code",
   "execution_count": 6,
   "metadata": {},
   "outputs": [],
   "source": [
    "displayStep = 10\n",
    "# should be larger or equal to displayStep or it will just record same image several times\n",
    "recordStep = 10\n",
    "recordUnique = False\n",
    "displayDiagonal = False"
   ]
  },
  {
   "cell_type": "code",
   "execution_count": null,
   "metadata": {},
   "outputs": [],
   "source": [
    "files = []\n",
    "losses = []\n",
    "for i in range(nodesAmount):\n",
    "    files.append(open(os.path.join(experimentFolder, \"worker\" + str(i), \"losses.txt\"), \"r\"))\n",
    "    losses.append([0])\n",
    "t = [0]\n",
    "commonStep = 0\n",
    "\n",
    "while 1:\n",
    "    for i in range(nodesAmount):\n",
    "        file = files[i]\n",
    "        where = file.tell()\n",
    "        line = file.readline()\n",
    "        if not line:\n",
    "            time.sleep(1)\n",
    "            file.seek(where)\n",
    "        else:\n",
    "            losses[i].append(losses[i][-1] + float(line[:-1].split('\\t')[1]))\n",
    "    currentStep = min([len(l) for l in losses])\n",
    "    if currentStep > commonStep:\n",
    "        commonStep = currentStep\n",
    "        if commonStep % displayStep == 0:\n",
    "            clear_output(wait=True)\n",
    "            cutLosses = [l[1:commonStep] for l in losses]\n",
    "            mu = np.array(cutLosses).mean(axis=0)\n",
    "            sigma = np.array(cutLosses).std(axis=0)\n",
    "            fig = plt.figure()\n",
    "            if displayDiagonal:\n",
    "                plt.plot(t, t, lw=2, color='blue', ls = 'dashed')\n",
    "            plt.plot(t, mu, lw=2, label='Mean Cumulative Loss', color='red')\n",
    "            plt.fill_between(t, mu+sigma, mu-sigma, facecolor='red', alpha=0.5)\n",
    "            plt.legend(loc='upper left')\n",
    "            plt.xlabel(\"# Batches per Learner\")\n",
    "            plt.ylabel(\"Cumulative Loss\")\n",
    "            plt.grid()\n",
    "            plt.show()\n",
    "        t.append(t[-1] + 1)\n",
    "        if commonStep % recordStep == 0:\n",
    "            if recordUnique:\n",
    "                fig.savefig(os.path.join(experimentFolder, 'cumulative_loss' + str(commonStep) + '.png'), dpi=100)\n",
    "            else:\n",
    "                fig.savefig(os.path.join(experimentFolder, 'cumulative_loss.png'), dpi=100) "
   ]
  },
  {
   "cell_type": "code",
   "execution_count": null,
   "metadata": {},
   "outputs": [],
   "source": [
    "for file in files:\n",
    "    file.close()"
   ]
  },
  {
   "cell_type": "markdown",
   "metadata": {},
   "source": [
    "## Cumulative Loss (Different from Optimized) Aligned by Amount of Examples"
   ]
  },
  {
   "cell_type": "markdown",
   "metadata": {},
   "source": [
    "In order to build cumulative loss development for the loss that was not optimized. For example, epsilon-sensitive loss for regression."
   ]
  },
  {
   "cell_type": "code",
   "execution_count": null,
   "metadata": {
    "jupyter": {
     "outputs_hidden": true
    }
   },
   "outputs": [],
   "source": [
    "def displayLoss(prediction, label, name, **argv):\n",
    "    if name == 'epsilon_sensitive':\n",
    "        if len(label) == 1 and len(prediction) == 1:\n",
    "            if abs(label[0] - prediction[0]) > argv['epsilon']:\n",
    "                return abs(label[0] - prediction[0])\n",
    "            else:\n",
    "                return 0\n",
    "    elif name == 'squared':\n",
    "        if len(label) == 1 and len(prediction) == 1:                \n",
    "            return (label[0] - prediction[0])**2\n",
    "    else:\n",
    "        print(\"Not known loss function, please define it first.\")\n",
    "        return 0"
   ]
  },
  {
   "cell_type": "code",
   "execution_count": null,
   "metadata": {
    "jupyter": {
     "outputs_hidden": true
    }
   },
   "outputs": [],
   "source": [
    "displayStep = 100\n",
    "# should be larger or equal to displayStep or it will just record same image several times\n",
    "recordStep = 100\n",
    "recordUnique = False\n",
    "lossF = 'squared'\n",
    "displayDiagonal = False"
   ]
  },
  {
   "cell_type": "code",
   "execution_count": null,
   "metadata": {},
   "outputs": [],
   "source": [
    "files = []\n",
    "cumDisplayLosses = []\n",
    "for i in range(nodesAmount):\n",
    "    files.append(open(os.path.join(experimentFolder, \"worker\" + str(i), \"predictions.txt\"), \"r\"))\n",
    "    cumDisplayLosses.append([0])\n",
    "t = [0]\n",
    "\n",
    "commonStep = 0\n",
    "\n",
    "while 1:\n",
    "    for i in range(nodesAmount):\n",
    "        file = files[i]\n",
    "        where = file.tell()\n",
    "        line = file.readline()\n",
    "        if not line:\n",
    "            time.sleep(1)\n",
    "            file.seek(where)\n",
    "        else:\n",
    "            pred = [float(x) for x in line[:-1].split('\\t')[1].split(',')]\n",
    "            label = [float(x) for x in line[:-1].split('\\t')[2].split(',')]\n",
    "            cumDisplayLosses[i].append(cumDisplayLosses[i][-1] + displayLoss(pred, label, lossF, epsilon = 0.001))\n",
    "    currentStep = min([len(a) for a in cumDisplayLosses])\n",
    "    if currentStep > commonStep:\n",
    "        commonStep = currentStep\n",
    "        if commonStep % displayStep == 0:\n",
    "            clear_output(wait=True)\n",
    "            cutDisplayLosses = [a[1:commonStep] for a in cumDisplayLosses]\n",
    "            mu = np.array(cutDisplayLosses).mean(axis=0)\n",
    "            sigma = np.array(cutDisplayLosses).std(axis=0)\n",
    "            fig = plt.figure()\n",
    "            if displayDiagonal:\n",
    "                plt.plot(t, t, lw=2, color='blue', ls = 'dashed')\n",
    "            plt.plot(t, mu, lw=2, label='Mean Cumulative ' + lossF + ' Loss', color='red')\n",
    "            plt.fill_between(t, mu+sigma, mu-sigma, facecolor='red', alpha=0.5)\n",
    "            plt.xlabel(\"# Examples\")\n",
    "            plt.ylabel(\"Cumulative Loss\")\n",
    "            plt.legend(loc='upper left')\n",
    "            plt.grid()\n",
    "            plt.show()\n",
    "        t.append(t[-1] + 1)\n",
    "        if commonStep % recordStep == 0:\n",
    "            if recordUnique:\n",
    "                fig.savefig(os.path.join(experimentFolder, \n",
    "                                         'cumulative_' + lossF + '_loss' + str(commonStep) + '.png'), dpi=100)\n",
    "            else:\n",
    "                fig.savefig(os.path.join(experimentFolder, 'cumulative_' + lossF + '_loss.png'), dpi=100)"
   ]
  },
  {
   "cell_type": "code",
   "execution_count": null,
   "metadata": {
    "jupyter": {
     "outputs_hidden": true
    }
   },
   "outputs": [],
   "source": [
    "for file in files:\n",
    "    file.close()"
   ]
  },
  {
   "cell_type": "markdown",
   "metadata": {},
   "source": [
    "## Cumulative Loss Aligned by Time"
   ]
  },
  {
   "cell_type": "code",
   "execution_count": null,
   "metadata": {},
   "outputs": [],
   "source": [
    "# setup of the plots saving\n",
    "displayStep = 1\n",
    "recordStep = 1\n",
    "recordUnique = False\n",
    "uniqueImageCounter = 0\n",
    "# draw a point for every second of experiment time\n",
    "frequencyStep = 2\n",
    "displaySync = True"
   ]
  },
  {
   "cell_type": "code",
   "execution_count": null,
   "metadata": {},
   "outputs": [],
   "source": [
    "# get zero timestamp, i.e., beginning of the experiment\n",
    "expSummary = open(os.path.join(experimentFolder,\"summary.txt\")).read()\n",
    "for l in expSummary.split(\"\\n\"):\n",
    "    if \"Start\" in l:\n",
    "        startTimestamp = float(l.split(\"\\t\")[-1][:-1])\n",
    "        break"
   ]
  },
  {
   "cell_type": "code",
   "execution_count": null,
   "metadata": {},
   "outputs": [],
   "source": [
    "files = []\n",
    "for i in range(nodesAmount):\n",
    "    files.append(open(os.path.join(experimentFolder, \"worker\" + str(i), \"losses.txt\"), \"r\"))\n",
    "    \n",
    "if displaySync:\n",
    "    syncFile = open(os.path.join(experimentFolder, \"coordinator\", \"communication\", \"send_model.txt\"), \"r\")"
   ]
  },
  {
   "cell_type": "code",
   "execution_count": null,
   "metadata": {},
   "outputs": [],
   "source": [
    "plot = [0]\n",
    "syncPoints = []\n",
    "change = False\n",
    "while True:\n",
    "    for f in files:\n",
    "        where = f.tell()\n",
    "        line = f.readline()\n",
    "        if line:\n",
    "            change = True\n",
    "            parsedLine = line[:-1].split(\"\\t\")\n",
    "            lineTimestamp = float(parsedLine[0])\n",
    "            # identify to which point in time this line will go\n",
    "            xPoint = math.ceil((lineTimestamp - startTimestamp) / frequencyStep)\n",
    "            loss = float(parsedLine[1])\n",
    "            if len(plot) < xPoint:\n",
    "                for i in range(xPoint - len(plot)):\n",
    "                    plot.append(plot[-1])\n",
    "            for i in range(len(plot) - xPoint + xPoint, xPoint + 1, 1):\n",
    "                plot[i - 1] += loss\n",
    "    if displaySync:\n",
    "        where = syncFile.tell()\n",
    "        line = syncFile.readline()\n",
    "        if line:\n",
    "            change = True\n",
    "            parsedLine = line[:-1].split(\"\\t\")\n",
    "            lineTimestamp = float(parsedLine[0])\n",
    "            # if model was sent only to one learner it is not a synchronization\n",
    "            if parsedLine[2].count(\".\") > 1:\n",
    "                syncPoints.append(math.ceil((lineTimestamp - startTimestamp) / frequencyStep))\n",
    "          \n",
    "    # do not need to call plotting if no new lines were read\n",
    "    if not change:\n",
    "        time.sleep(1)\n",
    "        continue\n",
    "\n",
    "    change = False\n",
    "    if len(plot) % displayStep == 0:\n",
    "        clear_output(wait=True)\n",
    "        fig = plt.figure()\n",
    "        plt.plot(range(len(plot)), plot, label='Cumulative Loss', color='red')\n",
    "        if displaySync:\n",
    "            displayedSyncs = [p for p in syncPoints if p < len(plot)]\n",
    "            plt.scatter(displayedSyncs, np.array(plot)[displayedSyncs], color='blue', \n",
    "                        alpha=0.6, lw=5, s=2500, marker='|')\n",
    "        plt.legend(loc='upper left')\n",
    "        plt.xlabel(\"Time (every \" + str(frequencyStep) + \"s)\")\n",
    "        plt.ylabel(\"Cumulative Loss\")\n",
    "        plt.grid()\n",
    "        plt.show()\n",
    "    if len(plot) % recordStep == 0:\n",
    "        if recordUnique:\n",
    "            fig.savefig(os.path.join(experimentFolder, \n",
    "                                     'cumulative_loss_time' + str(uniqueImageCounter) + '.png'), dpi=100)\n",
    "            uniqueImageCounter += 1\n",
    "        else:\n",
    "            fig.savefig(os.path.join(experimentFolder, 'cumulative_loss_time.png'), dpi=100) "
   ]
  },
  {
   "cell_type": "code",
   "execution_count": null,
   "metadata": {},
   "outputs": [],
   "source": [
    "for file in files:\n",
    "    file.close()\n",
    "    \n",
    "if displaySync:\n",
    "    syncFile.close()"
   ]
  },
  {
   "cell_type": "code",
   "execution_count": null,
   "metadata": {
    "collapsed": true,
    "jupyter": {
     "outputs_hidden": true
    }
   },
   "outputs": [],
   "source": []
  }
 ],
 "metadata": {
  "anaconda-cloud": {},
  "kernelspec": {
   "display_name": "Python 3",
   "language": "python",
   "name": "python3"
  },
  "language_info": {
   "codemirror_mode": {
    "name": "ipython",
    "version": 3
   },
   "file_extension": ".py",
   "mimetype": "text/x-python",
   "name": "python",
   "nbconvert_exporter": "python",
   "pygments_lexer": "ipython3",
   "version": "3.8.3"
  }
 },
 "nbformat": 4,
 "nbformat_minor": 4
}

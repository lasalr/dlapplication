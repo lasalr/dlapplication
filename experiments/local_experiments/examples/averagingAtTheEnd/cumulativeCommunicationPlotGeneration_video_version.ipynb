{
 "cells": [
  {
   "cell_type": "code",
   "execution_count": 1,
   "metadata": {
    "jupyter": {
     "outputs_hidden": true
    }
   },
   "outputs": [],
   "source": [
    "import matplotlib\n",
    "import numpy as np\n",
    "import matplotlib.pyplot as plt\n",
    "%matplotlib inline\n",
    "import time\n",
    "from IPython.display import clear_output\n",
    "import ipywidgets as widgets\n",
    "import os"
   ]
  },
  {
   "cell_type": "code",
   "execution_count": 2,
   "metadata": {
    "jupyter": {
     "outputs_hidden": true
    }
   },
   "outputs": [],
   "source": [
    "plt.rcParams[\"figure.figsize\"] = (16,8)"
   ]
  },
  {
   "cell_type": "code",
   "execution_count": 3,
   "metadata": {},
   "outputs": [
    {
     "data": {
      "application/vnd.jupyter.widget-view+json": {
       "model_id": "5bd49af28e3a4757afdc45b8f8361f3e",
       "version_major": 2,
       "version_minor": 0
      },
      "text/plain": [
       "Dropdown(description='Experiment:', options={'.ipynb_checkpoints': '.ipynb_checkpoints', 'RadonMachine_test_20…"
      ]
     },
     "metadata": {},
     "output_type": "display_data"
    }
   ],
   "source": [
    "dirs = [d for d in os.listdir('.') if os.path.isdir(d)]\n",
    "dirs = np.sort(dirs)\n",
    "wFolder = widgets.Dropdown(\n",
    "    options=dict(zip(dirs,dirs)),\n",
    "    description='Experiment:',\n",
    ")\n",
    "display(wFolder)"
   ]
  },
  {
   "cell_type": "code",
   "execution_count": 4,
   "metadata": {
    "jupyter": {
     "outputs_hidden": true
    }
   },
   "outputs": [],
   "source": [
    "experimentFolder = wFolder.value"
   ]
  },
  {
   "cell_type": "code",
   "execution_count": 5,
   "metadata": {},
   "outputs": [
    {
     "name": "stdout",
     "output_type": "stream",
     "text": [
      "Learners amount is  3\n"
     ]
    }
   ],
   "source": [
    "nodesAmount = 0\n",
    "dirs = [d for d in os.listdir(experimentFolder) if os.path.isdir(os.path.join(experimentFolder,d))]\n",
    "for d in dirs:\n",
    "    if 'worker' in d:\n",
    "        nodesAmount += 1\n",
    "print(\"Learners amount is \", str(nodesAmount))"
   ]
  },
  {
   "cell_type": "markdown",
   "metadata": {},
   "source": [
    "Coordinator files"
   ]
  },
  {
   "cell_type": "code",
   "execution_count": 6,
   "metadata": {
    "jupyter": {
     "outputs_hidden": true
    }
   },
   "outputs": [],
   "source": [
    "communication = []\n",
    "files = []\n",
    "\n",
    "allFiles = [f for f in os.listdir(os.path.join(experimentFolder, \"coordinator\", \"communication\"))]\n",
    "\n",
    "for file in allFiles:\n",
    "    files.append(open(os.path.join(experimentFolder, \"coordinator\",\"communication\", file), \"r\"))"
   ]
  },
  {
   "cell_type": "code",
   "execution_count": 7,
   "metadata": {},
   "outputs": [
    {
     "data": {
      "text/plain": [
       "[<_io.TextIOWrapper name='RadonMachine_test_2020-08-11_19-26-29\\\\coordinator\\\\communication\\\\registrations.txt' mode='r' encoding='cp1252'>,\n",
       " <_io.TextIOWrapper name='RadonMachine_test_2020-08-11_19-26-29\\\\coordinator\\\\communication\\\\send_model.txt' mode='r' encoding='cp1252'>,\n",
       " <_io.TextIOWrapper name='RadonMachine_test_2020-08-11_19-26-29\\\\coordinator\\\\communication\\\\violations.txt' mode='r' encoding='cp1252'>]"
      ]
     },
     "execution_count": 7,
     "metadata": {},
     "output_type": "execute_result"
    }
   ],
   "source": [
    "files"
   ]
  },
  {
   "cell_type": "code",
   "execution_count": 8,
   "metadata": {
    "jupyter": {
     "outputs_hidden": true
    }
   },
   "outputs": [],
   "source": [
    "# coordinator\n",
    "data_sendModel = files[0]#.read()\n",
    "data_violations = files[1]#.read()\n",
    "data_registrations = files[2]#.read()"
   ]
  },
  {
   "cell_type": "markdown",
   "metadata": {},
   "source": [
    "## Plot"
   ]
  },
  {
   "cell_type": "code",
   "execution_count": 9,
   "metadata": {},
   "outputs": [
    {
     "name": "stdout",
     "output_type": "stream",
     "text": [
      "1597138000.545\tnodes25272\tnewModel.1\t341\tsend\n",
      "\n"
     ]
    },
    {
     "ename": "ValueError",
     "evalue": "invalid literal for int() with base 10: 'send\\n'",
     "output_type": "error",
     "traceback": [
      "\u001b[1;31m---------------------------------------------------------------------------\u001b[0m",
      "\u001b[1;31mValueError\u001b[0m                                Traceback (most recent call last)",
      "\u001b[1;32m<ipython-input-9-3076a70b46db>\u001b[0m in \u001b[0;36m<module>\u001b[1;34m\u001b[0m\n\u001b[0;32m    161\u001b[0m                     \u001b[1;31m# here: index 4 = message size\u001b[0m\u001b[1;33m\u001b[0m\u001b[1;33m\u001b[0m\u001b[1;33m\u001b[0m\u001b[0m\n\u001b[0;32m    162\u001b[0m                     \u001b[0mprint\u001b[0m\u001b[1;33m(\u001b[0m\u001b[0mvline\u001b[0m\u001b[1;33m)\u001b[0m\u001b[1;33m\u001b[0m\u001b[1;33m\u001b[0m\u001b[0m\n\u001b[1;32m--> 163\u001b[1;33m                     \u001b[0mmessage_size\u001b[0m \u001b[1;33m=\u001b[0m \u001b[0mmessage_size\u001b[0m \u001b[1;33m+\u001b[0m \u001b[0mint\u001b[0m\u001b[1;33m(\u001b[0m\u001b[0mvline\u001b[0m\u001b[1;33m.\u001b[0m\u001b[0msplit\u001b[0m\u001b[1;33m(\u001b[0m\u001b[1;34m\"\\t\"\u001b[0m\u001b[1;33m)\u001b[0m\u001b[1;33m[\u001b[0m\u001b[1;36m4\u001b[0m\u001b[1;33m]\u001b[0m\u001b[1;33m)\u001b[0m\u001b[1;33m\u001b[0m\u001b[1;33m\u001b[0m\u001b[0m\n\u001b[0m\u001b[0;32m    164\u001b[0m                     \u001b[1;31m#print(\"violation message added with ts \" + str(float(vline.split(\"\\t\")[0])))\u001b[0m\u001b[1;33m\u001b[0m\u001b[1;33m\u001b[0m\u001b[1;33m\u001b[0m\u001b[0m\n\u001b[0;32m    165\u001b[0m                     \u001b[1;31m#print(\"message_size: \" + str(message_size))\u001b[0m\u001b[1;33m\u001b[0m\u001b[1;33m\u001b[0m\u001b[1;33m\u001b[0m\u001b[0m\n",
      "\u001b[1;31mValueError\u001b[0m: invalid literal for int() with base 10: 'send\\n'"
     ]
    }
   ],
   "source": [
    "files = []\n",
    "timestamps = []\n",
    "\n",
    "for i in range(nodesAmount):\n",
    "    files.append(open(os.path.join(experimentFolder, \"worker\" + str(i), \"losses.txt\"), \"r\"))\n",
    "    timestamps.append([])\n",
    "\n",
    "\n",
    "t = [0]\n",
    "commonStep = 0\n",
    "displayStep = 1\n",
    "recordStep = 1\n",
    "recordUnique = True\n",
    "\n",
    "vlines_buffer = []\n",
    "rlines_buffer = []\n",
    "slines_buffer = []\n",
    "\n",
    "message_size = 0\n",
    "message_sizes = []\n",
    "\n",
    "fig = plt.figure()\n",
    "fig, ax = plt.subplots(1)\n",
    "\n",
    "while 1:\n",
    "    for i in range(nodesAmount):\n",
    "        file = files[i]\n",
    "        where = file.tell()\n",
    "        line = file.readline()\n",
    "        if not line:\n",
    "            time.sleep(1)\n",
    "            file.seek(where)\n",
    "        else:\n",
    "            timestamps[i].append(float(line.split('\\t')[0]))\n",
    "            \n",
    "    currentStep = min([len(ts) for ts in timestamps]) #minimum not needed? just length of any list; because above always one timestamp gets inserted per worker\n",
    "    if currentStep > commonStep: #if everywhere has been written something\n",
    "        commonStep = currentStep\n",
    "\n",
    "        # get synchr timestamp\n",
    "        # MAYBE IT IS NOT NECESSARY TO CHECK ALL OF THE TIME STAMPS BUT JUST TAKE THOSE OF LAST WORKER...\n",
    "        # now need to find the largest timestamp; so first of all the worker with most of the time stamps and in there the largest\n",
    "        if sum(np.array([len(ts) for ts in timestamps])-max([len(ts) for ts in timestamps]))==0: #then all lengths are equal\n",
    "            #print(\"equal lengths\")\n",
    "            #print(timestamps)\n",
    "            time_step = float(np.amax(timestamps))\n",
    "            #print(\"maximal time step: \" + str(time_step))\n",
    "        \n",
    "        else:\n",
    "            #print(\"\")\n",
    "            #print(\"different lengths\")\n",
    "            #print(\"\")\n",
    "            min_length = min([len(ts) for ts in timestamps])\n",
    "            # cut lists until min length and take maximal time stamp\n",
    "            #print(\"min length: \" + str(min_length)) \n",
    "            #print([ts[:min_length] for ts in timestamps])\n",
    "            #print(timestamps)\n",
    "            #print([ts[:min_length] for ts in timestamps])\n",
    "            time_step = float(np.amax([ts[:min_length] for ts in timestamps]))\n",
    "            #print(\"maximal time step of cut list: \"+ str(time_step))\n",
    "\n",
    "\n",
    "       \n",
    "        # get data of registration and violation files up to this time step\n",
    "        #print(\"CHOSEN TIME STEP:\" + str(time_step))\n",
    "        #check for registrations up to time_step\n",
    "\n",
    "        while True: \n",
    "            # check in buffer (if not empty)\n",
    "            while rlines_buffer != []: #as long as buffer is not empty\n",
    "                #print(\"checking this line in buffer\", vlines_buffer[0])\n",
    "                if float(rlines_buffer[0][0].split(\"\\t\")[0]) <= time_step:\n",
    "                    message_size = message_size + int(rlines_buffer[0][0].split(\"\\t\")[4])\n",
    "                    #print(\"registration message from buffer added with ts \" + str(float(rlines_buffer[0][0].split(\"\\t\")[0])))\n",
    "                    #print(\"message_size: \" + str(message_size))\n",
    "                    # delete message from buffer\n",
    "                    rlines_buffer.remove(rlines_buffer[0])\n",
    "                    #print(\"buffer after deleting: \", vlines_buffer)\n",
    "                else: #if first element in buffer is too big then the others in the buffer as well as first elem is smallest\n",
    "                    break\n",
    "\n",
    "            # read new lines\n",
    "            where = data_registrations.tell()\n",
    "            rline = data_registrations.readline()\n",
    "\n",
    "            if not rline:    #could it be that I'M waiting here too long?\n",
    "                #time.sleep(1)\n",
    "                data_registrations.seek(where)\n",
    "                break \n",
    "            else:\n",
    "                if float(rline.split(\"\\t\")[0]) <= time_step:\n",
    "                    # here: index 4 = message size\n",
    "                    message_size = message_size + int(rline.split(\"\\t\")[4])\n",
    "                    #print(\"registration message added with ts \" + str(float(rline.split(\"\\t\")[0])))\n",
    "                    #print(\"message_size: \" + str(message_size))\n",
    "                else:\n",
    "                    rlines_buffer.append([rline])\n",
    "                    break\n",
    "\n",
    "\n",
    "        #check for sendModels up to time_step\n",
    "        while True:\n",
    "            # check in buffer (if not empty)\n",
    "            while slines_buffer != []: #as long as buffer is not empty\n",
    "                if float(slines_buffer[0][0].split(\"\\t\")[0]) <= time_step:\n",
    "                    # count number of points in this string which coincides with the number of nodes receiving the model\n",
    "                    message_size= message_size + int(slines_buffer[0][0].split(\"\\t\")[3])* slines_buffer[0][0].split(\"\\t\")[2].count(\".\")\n",
    "                    #print(\"sendModel message from buffer added with ts \" + str(float(slines_buffer[0][0].split(\"\\t\")[0])))\n",
    "                    #print(\"message_size: \" + str(message_size))\n",
    "                    # delete message from buffer\n",
    "                    slines_buffer.remove(slines_buffer[0])\n",
    "                else:\n",
    "                    break\n",
    "\n",
    "            # read new lines\n",
    "            where = data_sendModel.tell()\n",
    "            sline = data_sendModel.readline()\n",
    "\n",
    "            if not sline:    #could it be that I'M waiting here too long?\n",
    "                #time.sleep(1)\n",
    "                data_sendModel.seek(where)\n",
    "                break \n",
    "            else:\n",
    "                if float(sline.split(\"\\t\")[0]) <= time_step:\n",
    "                    # here: index 4 = message size\n",
    "                    # count number of points in this string which coincides with the number of nodes receiving the model\n",
    "                    message_size= message_size + int(sline.split(\"\\t\")[3])* sline.split(\"\\t\")[2].count(\".\")\n",
    "                    #print(\"sendModel message added with ts \" + str(float(sline.split(\"\\t\")[0])))\n",
    "                    #print(\"message_size: \" + str(message_size))\n",
    "                else:\n",
    "                    slines_buffer.append([sline])\n",
    "                    break\n",
    "\n",
    "\n",
    "        #check for violations up to time_step\n",
    "        while True:\n",
    "            # check in buffer (if not empty)\n",
    "            #print(\"buffer\", vlines_buffer)\n",
    "            while vlines_buffer != []: #as long as buffer is not empty\n",
    "                #print(\"checking this line in buffer\", vlines_buffer[0])\n",
    "                if float(vlines_buffer[0][0].split(\"\\t\")[0]) <= time_step:\n",
    "                    message_size = message_size + int(vlines_buffer[0][0].split(\"\\t\")[4])\n",
    "                    #print(\"violation message from buffer added with ts \" + str(float(vlines_buffer[0][0].split(\"\\t\")[0])))\n",
    "                    #print(\"message_size: \" + str(message_size))\n",
    "                    # delete message from buffer\n",
    "                    vlines_buffer.remove(vlines_buffer[0])\n",
    "                    #print(\"buffer after deleting: \", vlines_buffer)\n",
    "                else: #if first element in buffer is too big then the others in the buffer as well as first elem is smallest\n",
    "                    break\n",
    "\n",
    "            # read new lines\n",
    "            where = data_violations.tell()\n",
    "            vline = data_violations.readline()\n",
    "\n",
    "            if not vline:    #could it be that I'M waiting here too long?\n",
    "                #time.sleep(1)\n",
    "                data_violations.seek(where)\n",
    "                break \n",
    "            else:\n",
    "                if float(vline.split(\"\\t\")[0]) <= time_step:\n",
    "                    # here: index 4 = message size\n",
    "                    print(vline)\n",
    "                    message_size = message_size + int(vline.split(\"\\t\")[4])\n",
    "                    #print(\"violation message added with ts \" + str(float(vline.split(\"\\t\")[0])))\n",
    "                    #print(\"message_size: \" + str(message_size))\n",
    "                else:\n",
    "                    vlines_buffer.append([vline])\n",
    "                    break\n",
    "\n",
    "\n",
    "        message_sizes.append(message_size)\n",
    "        #print(\"message_sizes: \" + str(message_sizes))\n",
    "        \n",
    "        if commonStep % displayStep == 0:\n",
    "\n",
    "\n",
    "            clear_output(wait=True)\n",
    "\n",
    "            #fig = plt.figure()\n",
    "            fig, ax = plt.subplots(1)\n",
    "            plt.plot(t, message_sizes, lw=4, label='cumulative communication', color='blue')\n",
    "            #plt.legend(loc='upper center')\n",
    "            plt.grid()\n",
    "            plt.xlim(0,260)\n",
    "            plt.ylim(0,3.5*1e9)\n",
    "            plt.tick_params(colors=(0,0,0,0))\n",
    "            plt.show()\n",
    "        t.append(t[-1] + 1)\n",
    "        if len(t) % recordStep == 0 and t != 0:\n",
    "            j = 0\n",
    "            if recordUnique:\n",
    "                extent = ax.get_window_extent().transformed(plt.gcf().dpi_scale_trans.inverted())\n",
    "                #gca().set_axis_off()\n",
    "                #plt.subplots_adjust(top = 1, bottom = 0, right = 1, left = 0, hspace = 0, wspace = 0)\n",
    "                #plt.margins(0,0)\n",
    "                #plt.gca().xaxis.set_major_locator(matplotlib.ticker.NullLocator())\n",
    "                #plt.gca().yaxis.set_major_locator(matplotlib.ticker.NullLocator())\n",
    "                fig.savefig(os.path.join(experimentFolder, 'layout_cumulative_communication' + str(len(t)) + '.png'), dpi=100,bbox_inches=extent)\n",
    "            else:\n",
    "                fig.savefig(os.path.join(experimentFolder, 'cumulative_communication.png'), dpi=100)\n",
    "            j += 1\n"
   ]
  },
  {
   "cell_type": "markdown",
   "metadata": {},
   "source": [
    "## Old: Buffer here behaved wrongly: after deleting, the first element didn't get checked"
   ]
  },
  {
   "cell_type": "code",
   "execution_count": 10,
   "metadata": {},
   "outputs": [
    {
     "name": "stdout",
     "output_type": "stream",
     "text": [
      "CHOSEN TIME STEP:1597138001.578\n",
      "buffer []\n",
      "new line:  1597138000.573\tnodes25272\tnewModel.2\t341\tsend\n",
      "\n"
     ]
    },
    {
     "ename": "ValueError",
     "evalue": "invalid literal for int() with base 10: 'send\\n'",
     "output_type": "error",
     "traceback": [
      "\u001b[1;31m---------------------------------------------------------------------------\u001b[0m",
      "\u001b[1;31mValueError\u001b[0m                                Traceback (most recent call last)",
      "\u001b[1;32m<ipython-input-10-791d161b8e7c>\u001b[0m in \u001b[0;36m<module>\u001b[1;34m\u001b[0m\n\u001b[0;32m    167\u001b[0m                 \u001b[1;32mif\u001b[0m \u001b[0mfloat\u001b[0m\u001b[1;33m(\u001b[0m\u001b[0mvline\u001b[0m\u001b[1;33m.\u001b[0m\u001b[0msplit\u001b[0m\u001b[1;33m(\u001b[0m\u001b[1;34m\"\\t\"\u001b[0m\u001b[1;33m)\u001b[0m\u001b[1;33m[\u001b[0m\u001b[1;36m0\u001b[0m\u001b[1;33m]\u001b[0m\u001b[1;33m)\u001b[0m \u001b[1;33m<=\u001b[0m \u001b[0mtime_step\u001b[0m\u001b[1;33m:\u001b[0m\u001b[1;33m\u001b[0m\u001b[1;33m\u001b[0m\u001b[0m\n\u001b[0;32m    168\u001b[0m                     \u001b[1;31m# here: index 4 = message size\u001b[0m\u001b[1;33m\u001b[0m\u001b[1;33m\u001b[0m\u001b[1;33m\u001b[0m\u001b[0m\n\u001b[1;32m--> 169\u001b[1;33m                     \u001b[0mmessage_size\u001b[0m \u001b[1;33m=\u001b[0m \u001b[0mmessage_size\u001b[0m \u001b[1;33m+\u001b[0m \u001b[0mint\u001b[0m\u001b[1;33m(\u001b[0m\u001b[0mvline\u001b[0m\u001b[1;33m.\u001b[0m\u001b[0msplit\u001b[0m\u001b[1;33m(\u001b[0m\u001b[1;34m\"\\t\"\u001b[0m\u001b[1;33m)\u001b[0m\u001b[1;33m[\u001b[0m\u001b[1;36m4\u001b[0m\u001b[1;33m]\u001b[0m\u001b[1;33m)\u001b[0m\u001b[1;33m\u001b[0m\u001b[1;33m\u001b[0m\u001b[0m\n\u001b[0m\u001b[0;32m    170\u001b[0m                     \u001b[0mprint\u001b[0m\u001b[1;33m(\u001b[0m\u001b[1;34m\"violation message added with ts \"\u001b[0m \u001b[1;33m+\u001b[0m \u001b[0mstr\u001b[0m\u001b[1;33m(\u001b[0m\u001b[0mfloat\u001b[0m\u001b[1;33m(\u001b[0m\u001b[0mvline\u001b[0m\u001b[1;33m.\u001b[0m\u001b[0msplit\u001b[0m\u001b[1;33m(\u001b[0m\u001b[1;34m\"\\t\"\u001b[0m\u001b[1;33m)\u001b[0m\u001b[1;33m[\u001b[0m\u001b[1;36m0\u001b[0m\u001b[1;33m]\u001b[0m\u001b[1;33m)\u001b[0m\u001b[1;33m)\u001b[0m\u001b[1;33m)\u001b[0m\u001b[1;33m\u001b[0m\u001b[1;33m\u001b[0m\u001b[0m\n\u001b[0;32m    171\u001b[0m                     \u001b[0mprint\u001b[0m\u001b[1;33m(\u001b[0m\u001b[1;34m\"message_size: \"\u001b[0m \u001b[1;33m+\u001b[0m \u001b[0mstr\u001b[0m\u001b[1;33m(\u001b[0m\u001b[0mmessage_size\u001b[0m\u001b[1;33m)\u001b[0m\u001b[1;33m)\u001b[0m\u001b[1;33m\u001b[0m\u001b[1;33m\u001b[0m\u001b[0m\n",
      "\u001b[1;31mValueError\u001b[0m: invalid literal for int() with base 10: 'send\\n'"
     ]
    }
   ],
   "source": [
    "files = []\n",
    "timestamps = []\n",
    "\n",
    "for i in range(nodesAmount):\n",
    "    files.append(open(os.path.join(experimentFolder, \"worker\" + str(i), \"losses.txt\"), \"r\"))\n",
    "    timestamps.append([])\n",
    "\n",
    "\n",
    "t = [0]\n",
    "commonStep = 0\n",
    "displayStep = 5\n",
    "recordStep = 1\n",
    "recordUnique = True\n",
    "\n",
    "vlines_buffer = []\n",
    "rlines_buffer = []\n",
    "slines_buffer = []\n",
    "\n",
    "message_size = 0\n",
    "message_sizes = []\n",
    "\n",
    "fig = plt.figure()\n",
    "\n",
    "while 1:\n",
    "    for i in range(nodesAmount):\n",
    "        file = files[i]\n",
    "        where = file.tell()\n",
    "        line = file.readline()\n",
    "        if not line:\n",
    "            time.sleep(1)\n",
    "            file.seek(where)\n",
    "        else:\n",
    "            timestamps[i].append(float(line.split('\\t')[0]))\n",
    "            \n",
    "    currentStep = min([len(ts) for ts in timestamps]) #minimum not needed? just length of any list; because above always one timestamp gets inserted per worker\n",
    "    if currentStep > commonStep: #if everywhere has been written something\n",
    "        commonStep = currentStep\n",
    "\n",
    "        # get synchr timestamp\n",
    "        # MAYBE IT IS NOT NECESSARY TO CHECK ALL OF THE TIME STAMPS BUT JUST TAKE THOSE OF LAST WORKER...\n",
    "        # now need to find the largest timestamp; so first of all the worker with most of the time stamps and in there the largest\n",
    "        if sum(np.array([len(ts) for ts in timestamps])-max([len(ts) for ts in timestamps]))==0: #then all lengths are equal\n",
    "            #print(\"equal lengths\")\n",
    "            #print(timestamps)\n",
    "            time_step = float(np.amax(timestamps))\n",
    "            #print(\"maximal time step: \" + str(time_step))\n",
    "        \n",
    "        else:\n",
    "            print(\"\")\n",
    "            print(\"different lengths\")\n",
    "            print(\"\")\n",
    "            min_length = min([len(ts) for ts in timestamps])\n",
    "            # cut lists until min length and take maximal time stamp\n",
    "            #print(\"min length: \" + str(min_length)) \n",
    "            #print([ts[:min_length] for ts in timestamps])\n",
    "            #print(timestamps)\n",
    "            #print([ts[:min_length] for ts in timestamps])\n",
    "            time_step = float(np.amax([ts[:min_length] for ts in timestamps]))\n",
    "            #print(\"maximal time step of cut list: \"+ str(time_step))\n",
    "\n",
    "\n",
    "       \n",
    "        # get data of registration and violation files up to this time step\n",
    "        print(\"CHOSEN TIME STEP:\" + str(time_step))\n",
    "        #check for registrations up to time_step\n",
    "\n",
    "        while True: \n",
    "            # check in buffer (if not empty)\n",
    "            if rlines_buffer != []:\n",
    "                for rline in rlines_buffer:\n",
    "                    if float(rline[0].split(\"\\t\")[0]) <= time_step:\n",
    "                        message_size = message_size + int(rline[0].split(\"\\t\")[4])\n",
    "                        #print(\"registration message from buffer added with ts \" + str(float(rline[0].split(\"\\t\")[0])))\n",
    "                        #print(\"message_size: \" + str(message_size))\n",
    "                        # delete message from buffer\n",
    "                        rlines_buffer.remove(rline)\n",
    "\n",
    "            # read new lines\n",
    "            where = data_registrations.tell()\n",
    "            rline = data_registrations.readline()\n",
    "\n",
    "            if not rline:    #could it be that I'M waiting here too long?\n",
    "                #time.sleep(1)\n",
    "                data_registrations.seek(where)\n",
    "                break \n",
    "            else:\n",
    "                if float(rline.split(\"\\t\")[0]) <= time_step:\n",
    "                    # here: index 4 = message size\n",
    "                    message_size = message_size + int(rline.split(\"\\t\")[4])\n",
    "                    #print(\"registration message added with ts \" + str(float(rline.split(\"\\t\")[0])))\n",
    "                    #print(\"message_size: \" + str(message_size))\n",
    "                else:\n",
    "                    rlines_buffer.append([rline])\n",
    "                    break\n",
    "\n",
    "\n",
    "        #check for sendModels up to time_step\n",
    "        while True:\n",
    "            # check in buffer (if not empty)\n",
    "            if slines_buffer != []:\n",
    "                for sline in slines_buffer:\n",
    "                    if float(sline[0].split(\"\\t\")[0]) <= time_step:\n",
    "                        # count number of points in this string which coincides with the number of nodes receiving the model\n",
    "                        message_size= message_size + int(sline[0].split(\"\\t\")[3])* sline[0].split(\"\\t\")[2].count(\".\")\n",
    "                        #print(\"sendModel message from buffer added with ts \" + str(float(sline[0].split(\"\\t\")[0])))\n",
    "                        #print(\"message_size: \" + str(message_size))\n",
    "                        # delete message from buffer\n",
    "                        slines_buffer.remove(sline)\n",
    "\n",
    "            # read new lines\n",
    "            where = data_sendModel.tell()\n",
    "            sline = data_sendModel.readline()\n",
    "\n",
    "            if not sline:    #could it be that I'M waiting here too long?\n",
    "                #time.sleep(1)\n",
    "                data_sendModel.seek(where)\n",
    "                break \n",
    "            else:\n",
    "                if float(sline.split(\"\\t\")[0]) <= time_step:\n",
    "                    # here: index 4 = message size\n",
    "                    # count number of points in this string which coincides with the number of nodes receiving the model\n",
    "                    message_size= message_size + int(sline.split(\"\\t\")[3])* sline.split(\"\\t\")[2].count(\".\")\n",
    "                    #print(\"sendModel message added with ts \" + str(float(sline.split(\"\\t\")[0])))\n",
    "                    #print(\"message_size: \" + str(message_size))\n",
    "                else:\n",
    "                    slines_buffer.append([sline])\n",
    "                    break\n",
    "\n",
    "\n",
    "        #check for violations up to time_step\n",
    "        while True:\n",
    "            # check in buffer (if not empty)\n",
    "            print(\"buffer\", vlines_buffer)\n",
    "            #if vlines_buffer != []:\n",
    "                #for vline in vlines_buffer:\n",
    "                #    print(\"checking this line in buffer\", vline)\n",
    "                #    if float(vline[0].split(\"\\t\")[0]) <= time_step:\n",
    "                #       message_size = message_size + int(vline[0].split(\"\\t\")[4])\n",
    "                #       print(\"violation message from buffer added with ts \" + str(float(vline[0].split(\"\\t\")[0])))\n",
    "                #        print(\"message_size: \" + str(message_size))\n",
    "                #        # delete message from buffer\n",
    "                #        vlines_buffer.remove(vline)\n",
    "                #        print(\"buffer after deleting: \", vlines_buffer)\n",
    "\n",
    "            while vlines_buffer != []: #as long as buffer is not empty\n",
    "                print(\"checking this line in buffer\", vlines_buffer[0])\n",
    "                if float(vlines_buffer[0][0].split(\"\\t\")[0]) <= time_step:\n",
    "                    message_size = message_size + int(vlines_buffer[0][0].split(\"\\t\")[4])\n",
    "                    print(\"violation message from buffer added with ts \" + str(float(vlines_buffer[0][0].split(\"\\t\")[0])))\n",
    "                    print(\"message_size: \" + str(message_size))\n",
    "                    # delete message from buffer\n",
    "                    vlines_buffer.remove(vlines_buffer[0])\n",
    "                    print(\"buffer after deleting: \", vlines_buffer)\n",
    "                else: #if first element in buffer is too big then the others in the buffer as well as first elem is smallest\n",
    "                    break\n",
    "\n",
    "            # read new lines\n",
    "            where = data_violations.tell()\n",
    "            vline = data_violations.readline()\n",
    "            print(\"new line: \" , vline)\n",
    "\n",
    "            if not vline:    #could it be that I'M waiting here too long?\n",
    "                #time.sleep(1)\n",
    "                data_violations.seek(where)\n",
    "                break \n",
    "            else:\n",
    "                if float(vline.split(\"\\t\")[0]) <= time_step:\n",
    "                    # here: index 4 = message size\n",
    "                    message_size = message_size + int(vline.split(\"\\t\")[4])\n",
    "                    print(\"violation message added with ts \" + str(float(vline.split(\"\\t\")[0])))\n",
    "                    print(\"message_size: \" + str(message_size))\n",
    "                else:\n",
    "                    vlines_buffer.append([vline])\n",
    "                    break\n",
    "\n",
    "\n",
    "        message_sizes.append(message_size)\n",
    "        print(\"message_sizes: \" + str(message_sizes))\n",
    "\n",
    "        if commonStep % displayStep == 0:\n",
    "\n",
    "\n",
    "            #clear_output(wait=True)\n",
    "\n",
    "            fig = plt.figure()\n",
    "            plt.plot(t, message_sizes, lw=2, label='cumulative communication', color='blue')\n",
    "            plt.legend(loc='upper center')\n",
    "            plt.grid()\n",
    "            plt.show()\n",
    "        t.append(t[-1] + 1)\n",
    "        if len(t) % recordStep == 0 and t != 0:\n",
    "            j = 0\n",
    "            #if recordUnique:\n",
    "                #fig.savefig(os.path.join(experimentFolder, 'cumulative_communication' + str(len(t)) + '.png'), dpi=100)\n",
    "            #else:\n",
    "                #fig.savefig(os.path.join(experimentFolder, 'cumulative_communication.png'), dpi=100)\n",
    "            j += 1\n"
   ]
  },
  {
   "cell_type": "code",
   "execution_count": null,
   "metadata": {
    "collapsed": true,
    "jupyter": {
     "outputs_hidden": true
    }
   },
   "outputs": [],
   "source": []
  },
  {
   "cell_type": "code",
   "execution_count": null,
   "metadata": {
    "collapsed": true,
    "jupyter": {
     "outputs_hidden": true
    }
   },
   "outputs": [],
   "source": []
  },
  {
   "cell_type": "code",
   "execution_count": null,
   "metadata": {
    "collapsed": true,
    "jupyter": {
     "outputs_hidden": true
    }
   },
   "outputs": [],
   "source": []
  },
  {
   "cell_type": "code",
   "execution_count": null,
   "metadata": {
    "collapsed": true,
    "jupyter": {
     "outputs_hidden": true
    }
   },
   "outputs": [],
   "source": []
  },
  {
   "cell_type": "code",
   "execution_count": null,
   "metadata": {
    "collapsed": true,
    "jupyter": {
     "outputs_hidden": true
    }
   },
   "outputs": [],
   "source": []
  },
  {
   "cell_type": "code",
   "execution_count": null,
   "metadata": {
    "collapsed": true,
    "jupyter": {
     "outputs_hidden": true
    }
   },
   "outputs": [],
   "source": []
  },
  {
   "cell_type": "code",
   "execution_count": null,
   "metadata": {
    "collapsed": true,
    "jupyter": {
     "outputs_hidden": true
    }
   },
   "outputs": [],
   "source": []
  },
  {
   "cell_type": "code",
   "execution_count": null,
   "metadata": {
    "collapsed": true,
    "jupyter": {
     "outputs_hidden": true
    }
   },
   "outputs": [],
   "source": []
  },
  {
   "cell_type": "code",
   "execution_count": null,
   "metadata": {
    "collapsed": true,
    "jupyter": {
     "outputs_hidden": true
    }
   },
   "outputs": [],
   "source": []
  },
  {
   "cell_type": "code",
   "execution_count": null,
   "metadata": {
    "collapsed": true,
    "jupyter": {
     "outputs_hidden": true
    }
   },
   "outputs": [],
   "source": []
  },
  {
   "cell_type": "code",
   "execution_count": null,
   "metadata": {
    "collapsed": true,
    "jupyter": {
     "outputs_hidden": true
    }
   },
   "outputs": [],
   "source": []
  },
  {
   "cell_type": "code",
   "execution_count": null,
   "metadata": {
    "collapsed": true,
    "jupyter": {
     "outputs_hidden": true
    }
   },
   "outputs": [],
   "source": []
  },
  {
   "cell_type": "code",
   "execution_count": null,
   "metadata": {
    "collapsed": true,
    "jupyter": {
     "outputs_hidden": true
    }
   },
   "outputs": [],
   "source": []
  },
  {
   "cell_type": "code",
   "execution_count": null,
   "metadata": {
    "collapsed": true,
    "jupyter": {
     "outputs_hidden": true
    }
   },
   "outputs": [],
   "source": []
  },
  {
   "cell_type": "code",
   "execution_count": null,
   "metadata": {
    "collapsed": true,
    "jupyter": {
     "outputs_hidden": true
    }
   },
   "outputs": [],
   "source": []
  },
  {
   "cell_type": "markdown",
   "metadata": {},
   "source": [
    "## OLD"
   ]
  },
  {
   "cell_type": "code",
   "execution_count": 262,
   "metadata": {
    "scrolled": true
   },
   "outputs": [
    {
     "data": {
      "image/png": "[encoded data removed]",
      "text/plain": [
       "<Figure size 1152x576 with 1 Axes>"
      ]
     },
     "metadata": {},
     "output_type": "display_data"
    },
    {
     "name": "stdout",
     "output_type": "stream",
     "text": [
      "argmax[1539343806.652, 1539343812.925, 1539343819.572, 1539343825.816, 1539343832.508, 1539343838.715, 1539343844.966, 1539343851.247, 1539343858.548, 1539343864.379, 1539343870.749, 1539343877.165, 1539343883.429, 1539343889.468, 1539343896.74, 1539343902.85, 1539343908.945, 1539343915.216, 1539343921.473, 1539343927.597, 1539343933.736, 1539343941.012, 1539343946.794, 1539343952.691, 1539343958.936, 1539343965.406, 1539343971.728, 1539343977.927, 1539343984.098, 1539343990.571, 1539343996.999, 1539344003.293, 1539344009.598, 1539344028.389, 1539344029.436, 1539344030.462, 1539344036.056, 1539344042.289, 1539344048.457, 1539344054.568, 1539344060.934, 1539344067.16, 1539344073.367, 1539344079.658, 1539344086.162, 1539344092.574, 1539344098.7, 1539344104.707, 1539344110.926, 1539344117.048, 1539344123.166, 1539344129.501, 1539344135.77, 1539344142.034, 1539344148.356, 1539344154.707, 1539344160.798, 1539344166.774, 1539344172.993, 1539344179.126, 1539344185.378, 1539344191.482, 1539344197.642, 1539344203.9, 1539344210.317, 1539344216.777, 1539344222.842, 1539344229.191, 1539344235.627, 1539344242.129, 1539344248.443, 1539344254.819, 1539344260.926, 1539344266.979, 1539344272.995, 1539344279.166, 1539344285.497, 1539344291.759, 1539344298.02, 1539344304.235, 1539344310.294, 1539344316.345, 1539344322.554, 1539344328.802, 1539344335.031, 1539344341.3, 1539344347.38, 1539344353.634, 1539344359.995, 1539344366.242, 1539344372.598, 1539344378.836, 1539344385.118, 1539344391.38, 1539344397.669, 1539344404.066, 1539344410.225, 1539344416.176, 1539344422.21, 1539344428.357, 1539344434.522, 1539344440.548, 1539344446.391, 1539344452.471, 1539344458.54, 1539344464.923, 1539344471.291, 1539344477.435, 1539344483.608, 1539344490.024, 1539344496.273, 1539344502.626, 1539344509.011, 1539344515.418, 1539344521.522, 1539344527.88, 1539344534.039, 1539344540.393, 1539344546.724, 1539344553.07, 1539344559.493, 1539344565.893, 1539344572.244, 1539344578.515, 1539344584.661, 1539344591.042, 1539344597.115, 1539344603.136, 1539344609.2, 1539344615.479, 1539344621.769, 1539344627.925, 1539344634.231, 1539344640.505, 1539344646.715, 1539344653.187, 1539344659.418, 1539344665.656, 1539344671.942, 1539344678.078, 1539344684.431, 1539344690.792, 1539344697.184, 1539344703.567, 1539344710.123, 1539344716.594, 1539344722.998, 1539344729.236]\n",
      "timestamps[[1539343806.652, 1539343812.847, 1539343819.346, 1539343825.397, 1539343831.715, 1539343837.967, 1539343844.19, 1539343850.423, 1539343856.422, 1539343863.308, 1539343869.481, 1539343875.663, 1539343882.009, 1539343888.307, 1539343894.505, 1539343901.488, 1539343907.72, 1539343913.827, 1539343920.114, 1539343926.423, 1539343932.638, 1539343938.873, 1539343945.885, 1539343952.147, 1539343958.442, 1539343964.822, 1539343971.053, 1539343977.184, 1539343983.303, 1539343989.544, 1539343995.69, 1539344001.867, 1539344007.992, 1539344014.123, 1539344028.389, 1539344029.341, 1539344033.626, 1539344039.913, 1539344046.111, 1539344052.302, 1539344058.663, 1539344064.805, 1539344070.965, 1539344077.201, 1539344083.482, 1539344089.662, 1539344095.908, 1539344102.257, 1539344108.387, 1539344114.703, 1539344120.914, 1539344127.106, 1539344133.268, 1539344139.434, 1539344145.614, 1539344152.012, 1539344158.125, 1539344164.437, 1539344170.915, 1539344177.116, 1539344183.136, 1539344189.207, 1539344195.278, 1539344201.424, 1539344207.704, 1539344213.885, 1539344220.115, 1539344226.34, 1539344232.602, 1539344238.755, 1539344245.066, 1539344251.171, 1539344257.414, 1539344263.577, 1539344269.74, 1539344275.996, 1539344282.205, 1539344288.433, 1539344294.664, 1539344300.851, 1539344306.976, 1539344313.168, 1539344319.228, 1539344325.412, 1539344331.612, 1539344337.799, 1539344344.087, 1539344350.344, 1539344356.635, 1539344362.875, 1539344369.176, 1539344375.356, 1539344381.63, 1539344387.763, 1539344394.126, 1539344400.333, 1539344406.515, 1539344412.625, 1539344418.836, 1539344425.013, 1539344431.124, 1539344437.392, 1539344443.627, 1539344450.049, 1539344456.154, 1539344462.299, 1539344468.676, 1539344474.73, 1539344480.79, 1539344487.203, 1539344493.393, 1539344499.667, 1539344506.033, 1539344512.226, 1539344518.561, 1539344524.825, 1539344530.905, 1539344536.967, 1539344543.049, 1539344549.218, 1539344555.348, 1539344561.624, 1539344567.85, 1539344574.047, 1539344580.119, 1539344586.298, 1539344592.512, 1539344598.719, 1539344604.924, 1539344611.083, 1539344617.327, 1539344623.623, 1539344629.892, 1539344635.978, 1539344642.194, 1539344648.407, 1539344654.533, 1539344660.896, 1539344667.043, 1539344673.328, 1539344679.491, 1539344685.977, 1539344692.444, 1539344698.847, 1539344705.745, 1539344712.12, 1539344718.457, 1539344724.761], [1539343802.776, 1539343808.776, 1539343814.743, 1539343821.31, 1539343827.511, 1539343833.911, 1539343840.227, 1539343858.692, 1539343859.699, 1539343860.606, 1539343865.709, 1539343872.145, 1539343878.373, 1539343896.72, 1539343897.667, 1539343898.601, 1539343904.419, 1539343910.416, 1539343916.445, 1539343941.047, 1539343941.963, 1539343942.91, 1539343943.829, 1539343948.49, 1539343954.778, 1539343961.274, 1539343967.577, 1539343973.53, 1539343979.78, 1539344028.332, 1539344029.214, 1539344030.243, 1539344031.21, 1539344032.172, 1539344033.081, 1539344034.018, 1539344035.058, 1539344036.464, 1539344042.64, 1539344048.996, 1539344055.146, 1539344061.469, 1539344067.597, 1539344073.489, 1539344079.526, 1539344086.053, 1539344092.433, 1539344098.794, 1539344105.146, 1539344111.361, 1539344117.551, 1539344123.878, 1539344130.147, 1539344136.519, 1539344142.774, 1539344148.997, 1539344155.32, 1539344161.681, 1539344168.107, 1539344174.323, 1539344180.438, 1539344186.572, 1539344192.764, 1539344198.814, 1539344204.892, 1539344210.8, 1539344216.884, 1539344223.145, 1539344229.432, 1539344235.76, 1539344242.043, 1539344248.224, 1539344254.191, 1539344260.567, 1539344266.705, 1539344272.663, 1539344278.879, 1539344285.21, 1539344291.466, 1539344297.713, 1539344303.912, 1539344310.155, 1539344316.099, 1539344322.271, 1539344328.374, 1539344334.571, 1539344340.724, 1539344346.879, 1539344352.859, 1539344359.317, 1539344365.683, 1539344371.813, 1539344377.99, 1539344384.034, 1539344390.232, 1539344396.609, 1539344402.958, 1539344409.166, 1539344415.388, 1539344421.57, 1539344427.814, 1539344433.956, 1539344439.895, 1539344446.497, 1539344452.689, 1539344458.751, 1539344464.86, 1539344470.89, 1539344477.088, 1539344483.21, 1539344489.591, 1539344495.869, 1539344502.167, 1539344508.397, 1539344514.842, 1539344521.102, 1539344527.428, 1539344533.794, 1539344539.841, 1539344545.951, 1539344551.868, 1539344557.88, 1539344563.853, 1539344569.848, 1539344575.927, 1539344582.033, 1539344588.302, 1539344594.56, 1539344600.871, 1539344607.028, 1539344612.978, 1539344619.054, 1539344625.25, 1539344631.482, 1539344637.699, 1539344643.754, 1539344650.015, 1539344655.998, 1539344662.15, 1539344668.282, 1539344674.28, 1539344680.599, 1539344686.686, 1539344693.01, 1539344699.238, 1539344705.961, 1539344712.556, 1539344719.062, 1539344725.545], [1539343806.466, 1539343812.594, 1539343818.924, 1539343825.291, 1539343831.38, 1539343837.705, 1539343843.818, 1539343850.144, 1539343858.679, 1539343863.581, 1539343869.854, 1539343876.07, 1539343882.165, 1539343888.192, 1539343894.395, 1539343901.457, 1539343907.814, 1539343914.081, 1539343920.345, 1539343926.324, 1539343932.271, 1539343938.569, 1539343945.669, 1539343951.841, 1539343958.01, 1539343964.344, 1539343970.642, 1539343976.978, 1539343983.401, 1539343989.434, 1539343995.577, 1539344001.684, 1539344007.812, 1539344013.936, 1539344020.044, 1539344026.034, 1539344033.44, 1539344039.796, 1539344045.978, 1539344052.098, 1539344058.418, 1539344064.689, 1539344070.81, 1539344076.942, 1539344082.982, 1539344089.336, 1539344095.356, 1539344102.04, 1539344108.156, 1539344114.186, 1539344120.388, 1539344126.61, 1539344132.871, 1539344139.059, 1539344145.493, 1539344151.907, 1539344158.223, 1539344164.359, 1539344170.768, 1539344177.104, 1539344183.307, 1539344189.446, 1539344195.466, 1539344201.66, 1539344207.818, 1539344214.055, 1539344220.36, 1539344226.591, 1539344232.837, 1539344239.16, 1539344245.489, 1539344251.71, 1539344257.897, 1539344264.034, 1539344270.111, 1539344276.298, 1539344282.61, 1539344288.859, 1539344294.908, 1539344301.504, 1539344307.765, 1539344313.868, 1539344320.187, 1539344326.411, 1539344332.577, 1539344338.578, 1539344344.8, 1539344351.035, 1539344357.209, 1539344363.415, 1539344369.758, 1539344375.884, 1539344382.049, 1539344388.216, 1539344394.291, 1539344400.498, 1539344406.857, 1539344413.102, 1539344419.242, 1539344425.292, 1539344431.318, 1539344437.555, 1539344443.787, 1539344449.965, 1539344456.037, 1539344462.192, 1539344468.415, 1539344474.553, 1539344480.872, 1539344486.973, 1539344493.307, 1539344499.56, 1539344505.798, 1539344512.034, 1539344518.203, 1539344524.314, 1539344530.377, 1539344536.567, 1539344542.774, 1539344549.003, 1539344555.249, 1539344561.492, 1539344567.593, 1539344573.742, 1539344580.02, 1539344586.047, 1539344592.341, 1539344598.466, 1539344604.658, 1539344610.763, 1539344616.883, 1539344622.999, 1539344629.085, 1539344635.245, 1539344641.447, 1539344647.471, 1539344653.756, 1539344659.806, 1539344666.051, 1539344672.142, 1539344678.282, 1539344684.308, 1539344690.537, 1539344696.797, 1539344703.116, 1539344709.736, 1539344716.096, 1539344722.665, 1539344729.096], [1539343806.652, 1539343812.925, 1539343819.572, 1539343825.816, 1539343832.508, 1539343838.715, 1539343844.966, 1539343851.247, 1539343858.548, 1539343864.379, 1539343870.749, 1539343877.165, 1539343883.429, 1539343889.468, 1539343896.74, 1539343902.85, 1539343908.945, 1539343915.216, 1539343921.473, 1539343927.597, 1539343933.736, 1539343941.012, 1539343946.794, 1539343952.691, 1539343958.936, 1539343965.406, 1539343971.728, 1539343977.927, 1539343984.098, 1539343990.571, 1539343996.999, 1539344003.293, 1539344009.598, 1539344028.389, 1539344029.436, 1539344030.462, 1539344036.056, 1539344042.289, 1539344048.457, 1539344054.568, 1539344060.934, 1539344067.16, 1539344073.367, 1539344079.658, 1539344086.162, 1539344092.574, 1539344098.7, 1539344104.707, 1539344110.926, 1539344117.048, 1539344123.166, 1539344129.501, 1539344135.77, 1539344142.034, 1539344148.356, 1539344154.707, 1539344160.798, 1539344166.774, 1539344172.993, 1539344179.126, 1539344185.378, 1539344191.482, 1539344197.642, 1539344203.9, 1539344210.317, 1539344216.777, 1539344222.842, 1539344229.191, 1539344235.627, 1539344242.129, 1539344248.443, 1539344254.819, 1539344260.926, 1539344266.979, 1539344272.995, 1539344279.166, 1539344285.497, 1539344291.759, 1539344298.02, 1539344304.235, 1539344310.294, 1539344316.345, 1539344322.554, 1539344328.802, 1539344335.031, 1539344341.3, 1539344347.38, 1539344353.634, 1539344359.995, 1539344366.242, 1539344372.598, 1539344378.836, 1539344385.118, 1539344391.38, 1539344397.669, 1539344404.066, 1539344410.225, 1539344416.176, 1539344422.21, 1539344428.357, 1539344434.522, 1539344440.548, 1539344446.391, 1539344452.471, 1539344458.54, 1539344464.923, 1539344471.291, 1539344477.435, 1539344483.608, 1539344490.024, 1539344496.273, 1539344502.626, 1539344509.011, 1539344515.418, 1539344521.522, 1539344527.88, 1539344534.039, 1539344540.393, 1539344546.724, 1539344553.07, 1539344559.493, 1539344565.893, 1539344572.244, 1539344578.515, 1539344584.661, 1539344591.042, 1539344597.115, 1539344603.136, 1539344609.2, 1539344615.479, 1539344621.769, 1539344627.925, 1539344634.231, 1539344640.505, 1539344646.715, 1539344653.187, 1539344659.418, 1539344665.656, 1539344671.942, 1539344678.078, 1539344684.431, 1539344690.792, 1539344697.184, 1539344703.567, 1539344710.123, 1539344716.594, 1539344722.998, 1539344729.236]]\n"
     ]
    },
    {
     "ename": "TypeError",
     "evalue": "float() argument must be a string or a number, not 'list'",
     "output_type": "error",
     "traceback": [
      "\u001b[0;31m---------------------------------------------------------------------------\u001b[0m",
      "\u001b[0;31mTypeError\u001b[0m                                 Traceback (most recent call last)",
      "\u001b[0;32m<ipython-input-262-f69e63cb3745>\u001b[0m in \u001b[0;36m<module>\u001b[0;34m()\u001b[0m\n\u001b[1;32m     40\u001b[0m             \u001b[0mprint\u001b[0m\u001b[0;34m(\u001b[0m\u001b[0;34m\"argmax\"\u001b[0m \u001b[0;34m+\u001b[0m \u001b[0mstr\u001b[0m\u001b[0;34m(\u001b[0m\u001b[0mnp\u001b[0m\u001b[0;34m.\u001b[0m\u001b[0mamax\u001b[0m\u001b[0;34m(\u001b[0m\u001b[0mtimestamps\u001b[0m\u001b[0;34m)\u001b[0m\u001b[0;34m)\u001b[0m\u001b[0;34m)\u001b[0m\u001b[0;34m\u001b[0m\u001b[0m\n\u001b[1;32m     41\u001b[0m             \u001b[0mprint\u001b[0m\u001b[0;34m(\u001b[0m\u001b[0;34m\"timestamps\"\u001b[0m \u001b[0;34m+\u001b[0m \u001b[0mstr\u001b[0m\u001b[0;34m(\u001b[0m\u001b[0mtimestamps\u001b[0m\u001b[0;34m)\u001b[0m\u001b[0;34m)\u001b[0m\u001b[0;34m\u001b[0m\u001b[0m\n\u001b[0;32m---> 42\u001b[0;31m         \u001b[0mtime_step\u001b[0m \u001b[0;34m=\u001b[0m \u001b[0mfloat\u001b[0m\u001b[0;34m(\u001b[0m\u001b[0mnp\u001b[0m\u001b[0;34m.\u001b[0m\u001b[0mamax\u001b[0m\u001b[0;34m(\u001b[0m\u001b[0mtimestamps\u001b[0m\u001b[0;34m)\u001b[0m\u001b[0;34m)\u001b[0m\u001b[0;34m\u001b[0m\u001b[0m\n\u001b[0m\u001b[1;32m     43\u001b[0m \u001b[0;34m\u001b[0m\u001b[0m\n\u001b[1;32m     44\u001b[0m         \u001b[0;31m# get data of registration and violation files up to this time step\u001b[0m\u001b[0;34m\u001b[0m\u001b[0;34m\u001b[0m\u001b[0m\n",
      "\u001b[0;31mTypeError\u001b[0m: float() argument must be a string or a number, not 'list'"
     ]
    }
   ],
   "source": [
    "files = []\n",
    "timestamps = []\n",
    "\n",
    "for i in range(nodesAmount):\n",
    "    files.append(open(os.path.join(experimentFolder, \"worker\" + str(i), \"losses.txt\"), \"r\"))\n",
    "    timestamps.append([])\n",
    "\n",
    "\n",
    "t = [0]\n",
    "commonStep = 0\n",
    "displayStep = 5\n",
    "recordStep = 1\n",
    "recordUnique = True\n",
    "\n",
    "vlines_buffer = []\n",
    "rlines_buffer = []\n",
    "slines_buffer = []\n",
    "\n",
    "message_size = 0\n",
    "message_sizes = []\n",
    "\n",
    "fig = plt.figure()\n",
    "\n",
    "while 1:\n",
    "    for i in range(nodesAmount):\n",
    "        file = files[i]\n",
    "        where = file.tell()\n",
    "        line = file.readline()\n",
    "        if not line:\n",
    "            time.sleep(1)\n",
    "            file.seek(where)\n",
    "        else:\n",
    "            timestamps[i].append(float(line.split('\\t')[0]))\n",
    "            \n",
    "    currentStep = min([len(ts) for ts in timestamps]) #minimum not needed? just length of any list; because above always one timestamp gets inserted per worker\n",
    "    if currentStep > commonStep: #if everywhere has been written something. Don't we wait above anyway such that everyone has something to plot?\n",
    "        commonStep = currentStep\n",
    "        \n",
    "        if type(np.amax(timestamps))== list:\n",
    "            print(\"argmax\" + str(np.amax(timestamps)))\n",
    "            print(\"timestamps\" + str(timestamps))\n",
    "        time_step = float(np.amax(timestamps))\n",
    "        \n",
    "        # get data of registration and violation files up to this time step\n",
    "        #print(\"CHOSEN TIME STEP:\" + str(time_step))\n",
    "\n",
    "        while True: \n",
    "            # check in buffer (if not empty)\n",
    "            if rlines_buffer != []:\n",
    "                for rline in rlines_buffer:\n",
    "                    if float(rline[0].split(\"\\t\")[0]) < time_step:\n",
    "                        message_size = message_size + int(rline[0].split(\"\\t\")[4])\n",
    "                        #print(\"registration message from buffer added with ts \" + str(float(rline[0].split(\"\\t\")[0])))\n",
    "                        #print(\"message_size: \" + str(message_size))\n",
    "                        # delete message from buffer\n",
    "                        rlines_buffer.remove(rline)\n",
    "\n",
    "            # read new lines\n",
    "            where = data_registrations.tell()\n",
    "            rline = data_registrations.readline()\n",
    "\n",
    "            if not rline:    #could it be that I'M waiting here too long?\n",
    "                #time.sleep(1)\n",
    "                data_registrations.seek(where)\n",
    "                break \n",
    "            else:\n",
    "                if float(rline.split(\"\\t\")[0]) < time_step:\n",
    "                    # here: index 4 = message size\n",
    "                    message_size = message_size + int(rline.split(\"\\t\")[4])\n",
    "                    #print(\"registration message added with ts \" + str(float(rline.split(\"\\t\")[0])))\n",
    "                    #print(\"message_size: \" + str(message_size))\n",
    "                else:\n",
    "                    rlines_buffer.append([rline])\n",
    "                    break\n",
    "\n",
    "\n",
    "        #check for sendModels up to time_step\n",
    "        while True:\n",
    "            # check in buffer (if not empty)\n",
    "            if slines_buffer != []:\n",
    "                for sline in slines_buffer:\n",
    "                    if float(sline[0].split(\"\\t\")[0]) < time_step:\n",
    "                        # count number of points in this string which coincides with the number of nodes receiving the model\n",
    "                        message_size= message_size + int(sline[0].split(\"\\t\")[3])* sline[0].split(\"\\t\")[2].count(\".\")\n",
    "                        #print(\"sendModel message from buffer added with ts \" + str(float(sline[0].split(\"\\t\")[0])))\n",
    "                        #print(\"message_size: \" + str(message_size))\n",
    "                        # delete message from buffer\n",
    "                        slines_buffer.remove(sline)\n",
    "\n",
    "            # read new lines\n",
    "            where = data_sendModel.tell()\n",
    "            sline = data_sendModel.readline()\n",
    "\n",
    "            if not sline:    #could it be that I'M waiting here too long?\n",
    "                #time.sleep(1)\n",
    "                data_sendModel.seek(where)\n",
    "                break \n",
    "            else:\n",
    "                if float(sline.split(\"\\t\")[0]) < time_step:\n",
    "                    # here: index 4 = message size\n",
    "                    # count number of points in this string which coincides with the number of nodes receiving the model\n",
    "                    message_size= message_size + int(sline.split(\"\\t\")[3])* sline.split(\"\\t\")[2].count(\".\")\n",
    "                    #print(\"sendModel message added with ts \" + str(float(sline.split(\"\\t\")[0])))\n",
    "                    #print(\"message_size: \" + str(message_size))\n",
    "                else:\n",
    "                    slines_buffer.append([sline])\n",
    "                    break\n",
    "\n",
    "\n",
    "        #check for violations up to time_step\n",
    "        while True:\n",
    "            # check in buffer (if not empty)\n",
    "            if vlines_buffer != []:\n",
    "                for vline in vlines_buffer:\n",
    "                    if float(vline[0].split(\"\\t\")[0]) < time_step:\n",
    "                        message_size = message_size + int(vline[0].split(\"\\t\")[4])\n",
    "                        #print(\"violation message from buffer added with ts \" + str(float(vline[0].split(\"\\t\")[0])))\n",
    "                        #print(\"message_size: \" + str(message_size))\n",
    "                        # delete message from buffer\n",
    "                        vlines_buffer.remove(vline)\n",
    "\n",
    "            # read new lines\n",
    "            where = data_violations.tell()\n",
    "            vline = data_violations.readline()\n",
    "\n",
    "            if not vline:    #could it be that I'M waiting here too long?\n",
    "                #time.sleep(1)\n",
    "                data_violations.seek(where)\n",
    "                break \n",
    "            else:\n",
    "                if float(vline.split(\"\\t\")[0]) < time_step:\n",
    "                    # here: index 4 = message size\n",
    "                    message_size = message_size + int(vline.split(\"\\t\")[4])\n",
    "                    #print(\"violation message added with ts \" + str(float(vline.split(\"\\t\")[0])))\n",
    "                    #print(\"message_size: \" + str(message_size))\n",
    "                else:\n",
    "                    vlines_buffer.append([vline])\n",
    "                    break\n",
    "\n",
    "\n",
    "        message_sizes.append(message_size)\n",
    "        #print(\"message_sizes: \" + str(message_sizes))\n",
    "\n",
    "        if commonStep % displayStep == 0:\n",
    "\n",
    "\n",
    "            clear_output(wait=True)\n",
    "\n",
    "            fig = plt.figure()\n",
    "            plt.plot(t, message_sizes, lw=2, label='cumulative communication', color='blue')\n",
    "            plt.legend(loc='upper center')\n",
    "            plt.grid()\n",
    "            plt.show()\n",
    "        t.append(t[-1] + 1)\n",
    "        if len(t) % recordStep == 0 and t != 0:\n",
    "            j = 0\n",
    "            if recordUnique:\n",
    "                fig.savefig(os.path.join(experimentFolder, 'cumulative_communication' + str(len(t)) + '.png'), dpi=100)\n",
    "            else:\n",
    "                fig.savefig(os.path.join(experimentFolder, 'cumulative_communication.png'), dpi=100)\n",
    "            j += 1"
   ]
  },
  {
   "cell_type": "code",
   "execution_count": 263,
   "metadata": {
    "collapsed": true,
    "jupyter": {
     "outputs_hidden": true
    }
   },
   "outputs": [],
   "source": [
    "ts = [[1539343806.652, 1539343812.847, 1539343819.346, 1539343825.397, 1539343831.715, 1539343837.967, 1539343844.19, 1539343850.423, 1539343856.422, 1539343863.308, 1539343869.481, 1539343875.663, 1539343882.009, 1539343888.307, 1539343894.505, 1539343901.488, 1539343907.72, 1539343913.827, 1539343920.114, 1539343926.423, 1539343932.638, 1539343938.873, 1539343945.885, 1539343952.147, 1539343958.442, 1539343964.822, 1539343971.053, 1539343977.184, 1539343983.303, 1539343989.544, 1539343995.69, 1539344001.867, 1539344007.992, 1539344014.123, 1539344028.389, 1539344029.341, 1539344033.626, 1539344039.913, 1539344046.111, 1539344052.302, 1539344058.663, 1539344064.805, 1539344070.965, 1539344077.201, 1539344083.482, 1539344089.662, 1539344095.908, 1539344102.257, 1539344108.387, 1539344114.703, 1539344120.914, 1539344127.106, 1539344133.268, 1539344139.434, 1539344145.614, 1539344152.012, 1539344158.125, 1539344164.437, 1539344170.915, 1539344177.116, 1539344183.136, 1539344189.207, 1539344195.278, 1539344201.424, 1539344207.704, 1539344213.885, 1539344220.115, 1539344226.34, 1539344232.602, 1539344238.755, 1539344245.066, 1539344251.171, 1539344257.414, 1539344263.577, 1539344269.74, 1539344275.996, 1539344282.205, 1539344288.433, 1539344294.664, 1539344300.851, 1539344306.976, 1539344313.168, 1539344319.228, 1539344325.412, 1539344331.612, 1539344337.799, 1539344344.087, 1539344350.344, 1539344356.635, 1539344362.875, 1539344369.176, 1539344375.356, 1539344381.63, 1539344387.763, 1539344394.126, 1539344400.333, 1539344406.515, 1539344412.625, 1539344418.836, 1539344425.013, 1539344431.124, 1539344437.392, 1539344443.627, 1539344450.049, 1539344456.154, 1539344462.299, 1539344468.676, 1539344474.73, 1539344480.79, 1539344487.203, 1539344493.393, 1539344499.667, 1539344506.033, 1539344512.226, 1539344518.561, 1539344524.825, 1539344530.905, 1539344536.967, 1539344543.049, 1539344549.218, 1539344555.348, 1539344561.624, 1539344567.85, 1539344574.047, 1539344580.119, 1539344586.298, 1539344592.512, 1539344598.719, 1539344604.924, 1539344611.083, 1539344617.327, 1539344623.623, 1539344629.892, 1539344635.978, 1539344642.194, 1539344648.407, 1539344654.533, 1539344660.896, 1539344667.043, 1539344673.328, 1539344679.491, 1539344685.977, 1539344692.444, 1539344698.847, 1539344705.745, 1539344712.12, 1539344718.457, 1539344724.761], [1539343802.776, 1539343808.776, 1539343814.743, 1539343821.31, 1539343827.511, 1539343833.911, 1539343840.227, 1539343858.692, 1539343859.699, 1539343860.606, 1539343865.709, 1539343872.145, 1539343878.373, 1539343896.72, 1539343897.667, 1539343898.601, 1539343904.419, 1539343910.416, 1539343916.445, 1539343941.047, 1539343941.963, 1539343942.91, 1539343943.829, 1539343948.49, 1539343954.778, 1539343961.274, 1539343967.577, 1539343973.53, 1539343979.78, 1539344028.332, 1539344029.214, 1539344030.243, 1539344031.21, 1539344032.172, 1539344033.081, 1539344034.018, 1539344035.058, 1539344036.464, 1539344042.64, 1539344048.996, 1539344055.146, 1539344061.469, 1539344067.597, 1539344073.489, 1539344079.526, 1539344086.053, 1539344092.433, 1539344098.794, 1539344105.146, 1539344111.361, 1539344117.551, 1539344123.878, 1539344130.147, 1539344136.519, 1539344142.774, 1539344148.997, 1539344155.32, 1539344161.681, 1539344168.107, 1539344174.323, 1539344180.438, 1539344186.572, 1539344192.764, 1539344198.814, 1539344204.892, 1539344210.8, 1539344216.884, 1539344223.145, 1539344229.432, 1539344235.76, 1539344242.043, 1539344248.224, 1539344254.191, 1539344260.567, 1539344266.705, 1539344272.663, 1539344278.879, 1539344285.21, 1539344291.466, 1539344297.713, 1539344303.912, 1539344310.155, 1539344316.099, 1539344322.271, 1539344328.374, 1539344334.571, 1539344340.724, 1539344346.879, 1539344352.859, 1539344359.317, 1539344365.683, 1539344371.813, 1539344377.99, 1539344384.034, 1539344390.232, 1539344396.609, 1539344402.958, 1539344409.166, 1539344415.388, 1539344421.57, 1539344427.814, 1539344433.956, 1539344439.895, 1539344446.497, 1539344452.689, 1539344458.751, 1539344464.86, 1539344470.89, 1539344477.088, 1539344483.21, 1539344489.591, 1539344495.869, 1539344502.167, 1539344508.397, 1539344514.842, 1539344521.102, 1539344527.428, 1539344533.794, 1539344539.841, 1539344545.951, 1539344551.868, 1539344557.88, 1539344563.853, 1539344569.848, 1539344575.927, 1539344582.033, 1539344588.302, 1539344594.56, 1539344600.871, 1539344607.028, 1539344612.978, 1539344619.054, 1539344625.25, 1539344631.482, 1539344637.699, 1539344643.754, 1539344650.015, 1539344655.998, 1539344662.15, 1539344668.282, 1539344674.28, 1539344680.599, 1539344686.686, 1539344693.01, 1539344699.238, 1539344705.961, 1539344712.556, 1539344719.062, 1539344725.545], [1539343806.466, 1539343812.594, 1539343818.924, 1539343825.291, 1539343831.38, 1539343837.705, 1539343843.818, 1539343850.144, 1539343858.679, 1539343863.581, 1539343869.854, 1539343876.07, 1539343882.165, 1539343888.192, 1539343894.395, 1539343901.457, 1539343907.814, 1539343914.081, 1539343920.345, 1539343926.324, 1539343932.271, 1539343938.569, 1539343945.669, 1539343951.841, 1539343958.01, 1539343964.344, 1539343970.642, 1539343976.978, 1539343983.401, 1539343989.434, 1539343995.577, 1539344001.684, 1539344007.812, 1539344013.936, 1539344020.044, 1539344026.034, 1539344033.44, 1539344039.796, 1539344045.978, 1539344052.098, 1539344058.418, 1539344064.689, 1539344070.81, 1539344076.942, 1539344082.982, 1539344089.336, 1539344095.356, 1539344102.04, 1539344108.156, 1539344114.186, 1539344120.388, 1539344126.61, 1539344132.871, 1539344139.059, 1539344145.493, 1539344151.907, 1539344158.223, 1539344164.359, 1539344170.768, 1539344177.104, 1539344183.307, 1539344189.446, 1539344195.466, 1539344201.66, 1539344207.818, 1539344214.055, 1539344220.36, 1539344226.591, 1539344232.837, 1539344239.16, 1539344245.489, 1539344251.71, 1539344257.897, 1539344264.034, 1539344270.111, 1539344276.298, 1539344282.61, 1539344288.859, 1539344294.908, 1539344301.504, 1539344307.765, 1539344313.868, 1539344320.187, 1539344326.411, 1539344332.577, 1539344338.578, 1539344344.8, 1539344351.035, 1539344357.209, 1539344363.415, 1539344369.758, 1539344375.884, 1539344382.049, 1539344388.216, 1539344394.291, 1539344400.498, 1539344406.857, 1539344413.102, 1539344419.242, 1539344425.292, 1539344431.318, 1539344437.555, 1539344443.787, 1539344449.965, 1539344456.037, 1539344462.192, 1539344468.415, 1539344474.553, 1539344480.872, 1539344486.973, 1539344493.307, 1539344499.56, 1539344505.798, 1539344512.034, 1539344518.203, 1539344524.314, 1539344530.377, 1539344536.567, 1539344542.774, 1539344549.003, 1539344555.249, 1539344561.492, 1539344567.593, 1539344573.742, 1539344580.02, 1539344586.047, 1539344592.341, 1539344598.466, 1539344604.658, 1539344610.763, 1539344616.883, 1539344622.999, 1539344629.085, 1539344635.245, 1539344641.447, 1539344647.471, 1539344653.756, 1539344659.806, 1539344666.051, 1539344672.142, 1539344678.282, 1539344684.308, 1539344690.537, 1539344696.797, 1539344703.116, 1539344709.736, 1539344716.096, 1539344722.665, 1539344729.096], [1539343806.652, 1539343812.925, 1539343819.572, 1539343825.816, 1539343832.508, 1539343838.715, 1539343844.966, 1539343851.247, 1539343858.548, 1539343864.379, 1539343870.749, 1539343877.165, 1539343883.429, 1539343889.468, 1539343896.74, 1539343902.85, 1539343908.945, 1539343915.216, 1539343921.473, 1539343927.597, 1539343933.736, 1539343941.012, 1539343946.794, 1539343952.691, 1539343958.936, 1539343965.406, 1539343971.728, 1539343977.927, 1539343984.098, 1539343990.571, 1539343996.999, 1539344003.293, 1539344009.598, 1539344028.389, 1539344029.436, 1539344030.462, 1539344036.056, 1539344042.289, 1539344048.457, 1539344054.568, 1539344060.934, 1539344067.16, 1539344073.367, 1539344079.658, 1539344086.162, 1539344092.574, 1539344098.7, 1539344104.707, 1539344110.926, 1539344117.048, 1539344123.166, 1539344129.501, 1539344135.77, 1539344142.034, 1539344148.356, 1539344154.707, 1539344160.798, 1539344166.774, 1539344172.993, 1539344179.126, 1539344185.378, 1539344191.482, 1539344197.642, 1539344203.9, 1539344210.317, 1539344216.777, 1539344222.842, 1539344229.191, 1539344235.627, 1539344242.129, 1539344248.443, 1539344254.819, 1539344260.926, 1539344266.979, 1539344272.995, 1539344279.166, 1539344285.497, 1539344291.759, 1539344298.02, 1539344304.235, 1539344310.294, 1539344316.345, 1539344322.554, 1539344328.802, 1539344335.031, 1539344341.3, 1539344347.38, 1539344353.634, 1539344359.995, 1539344366.242, 1539344372.598, 1539344378.836, 1539344385.118, 1539344391.38, 1539344397.669, 1539344404.066, 1539344410.225, 1539344416.176, 1539344422.21, 1539344428.357, 1539344434.522, 1539344440.548, 1539344446.391, 1539344452.471, 1539344458.54, 1539344464.923, 1539344471.291, 1539344477.435, 1539344483.608, 1539344490.024, 1539344496.273, 1539344502.626, 1539344509.011, 1539344515.418, 1539344521.522, 1539344527.88, 1539344534.039, 1539344540.393, 1539344546.724, 1539344553.07, 1539344559.493, 1539344565.893, 1539344572.244, 1539344578.515, 1539344584.661, 1539344591.042, 1539344597.115, 1539344603.136, 1539344609.2, 1539344615.479, 1539344621.769, 1539344627.925, 1539344634.231, 1539344640.505, 1539344646.715, 1539344653.187, 1539344659.418, 1539344665.656, 1539344671.942, 1539344678.078, 1539344684.431, 1539344690.792, 1539344697.184, 1539344703.567, 1539344710.123, 1539344716.594, 1539344722.998, 1539344729.236]]"
   ]
  },
  {
   "cell_type": "code",
   "execution_count": null,
   "metadata": {
    "collapsed": true,
    "jupyter": {
     "outputs_hidden": true
    }
   },
   "outputs": [],
   "source": []
  },
  {
   "cell_type": "code",
   "execution_count": 265,
   "metadata": {},
   "outputs": [
    {
     "data": {
      "text/plain": [
       "4"
      ]
     },
     "execution_count": 265,
     "metadata": {},
     "output_type": "execute_result"
    }
   ],
   "source": [
    "len(ts)"
   ]
  },
  {
   "cell_type": "code",
   "execution_count": 306,
   "metadata": {},
   "outputs": [
    {
     "data": {
      "text/plain": [
       "array([array([1.53934381e+09, 1.53934381e+09, 1.53934382e+09, 1.53934383e+09,\n",
       "       1.53934383e+09, 1.53934384e+09, 1.53934384e+09, 1.53934385e+09,\n",
       "       1.53934386e+09, 1.53934386e+09, 1.53934387e+09, 1.53934388e+09,\n",
       "       1.53934388e+09, 1.53934389e+09, 1.53934389e+09, 1.53934390e+09,\n",
       "       1.53934391e+09, 1.53934391e+09, 1.53934392e+09, 1.53934393e+09,\n",
       "       1.53934393e+09, 1.53934394e+09, 1.53934395e+09, 1.53934395e+09,\n",
       "       1.53934396e+09, 1.53934396e+09, 1.53934397e+09, 1.53934398e+09,\n",
       "       1.53934398e+09, 1.53934399e+09, 1.53934400e+09, 1.53934400e+09,\n",
       "       1.53934401e+09, 1.53934401e+09, 1.53934403e+09, 1.53934403e+09,\n",
       "       1.53934403e+09, 1.53934404e+09, 1.53934405e+09, 1.53934405e+09,\n",
       "       1.53934406e+09, 1.53934406e+09, 1.53934407e+09, 1.53934408e+09,\n",
       "       1.53934408e+09, 1.53934409e+09, 1.53934410e+09, 1.53934410e+09,\n",
       "       1.53934411e+09, 1.53934411e+09, 1.53934412e+09, 1.53934413e+09,\n",
       "       1.53934413e+09, 1.53934414e+09, 1.53934415e+09, 1.53934415e+09,\n",
       "       1.53934416e+09, 1.53934416e+09, 1.53934417e+09, 1.53934418e+09,\n",
       "       1.53934418e+09, 1.53934419e+09, 1.53934420e+09, 1.53934420e+09,\n",
       "       1.53934421e+09, 1.53934421e+09, 1.53934422e+09, 1.53934423e+09,\n",
       "       1.53934423e+09, 1.53934424e+09, 1.53934425e+09, 1.53934425e+09,\n",
       "       1.53934426e+09, 1.53934426e+09, 1.53934427e+09, 1.53934428e+09,\n",
       "       1.53934428e+09, 1.53934429e+09, 1.53934429e+09, 1.53934430e+09,\n",
       "       1.53934431e+09, 1.53934431e+09, 1.53934432e+09, 1.53934433e+09,\n",
       "       1.53934433e+09, 1.53934434e+09, 1.53934434e+09, 1.53934435e+09,\n",
       "       1.53934436e+09, 1.53934436e+09, 1.53934437e+09, 1.53934438e+09,\n",
       "       1.53934438e+09, 1.53934439e+09, 1.53934439e+09, 1.53934440e+09,\n",
       "       1.53934441e+09, 1.53934441e+09, 1.53934442e+09, 1.53934443e+09,\n",
       "       1.53934443e+09, 1.53934444e+09, 1.53934444e+09, 1.53934445e+09,\n",
       "       1.53934446e+09, 1.53934446e+09, 1.53934447e+09, 1.53934447e+09,\n",
       "       1.53934448e+09, 1.53934449e+09, 1.53934449e+09, 1.53934450e+09,\n",
       "       1.53934451e+09, 1.53934451e+09, 1.53934452e+09, 1.53934452e+09,\n",
       "       1.53934453e+09, 1.53934454e+09, 1.53934454e+09, 1.53934455e+09,\n",
       "       1.53934456e+09, 1.53934456e+09, 1.53934457e+09, 1.53934457e+09,\n",
       "       1.53934458e+09, 1.53934459e+09, 1.53934459e+09, 1.53934460e+09,\n",
       "       1.53934460e+09, 1.53934461e+09, 1.53934462e+09, 1.53934462e+09,\n",
       "       1.53934463e+09, 1.53934464e+09, 1.53934464e+09, 1.53934465e+09,\n",
       "       1.53934465e+09, 1.53934466e+09, 1.53934467e+09, 1.53934467e+09,\n",
       "       1.53934468e+09, 1.53934469e+09, 1.53934469e+09, 1.53934470e+09,\n",
       "       1.53934471e+09, 1.53934471e+09, 1.53934472e+09, 1.53934472e+09]),\n",
       "       array([1.53934380e+09, 1.53934381e+09, 1.53934381e+09, 1.53934382e+09,\n",
       "       1.53934383e+09, 1.53934383e+09, 1.53934384e+09, 1.53934386e+09,\n",
       "       1.53934386e+09, 1.53934386e+09, 1.53934387e+09, 1.53934387e+09,\n",
       "       1.53934388e+09, 1.53934390e+09, 1.53934390e+09, 1.53934390e+09,\n",
       "       1.53934390e+09, 1.53934391e+09, 1.53934392e+09, 1.53934394e+09,\n",
       "       1.53934394e+09, 1.53934394e+09, 1.53934394e+09, 1.53934395e+09,\n",
       "       1.53934395e+09, 1.53934396e+09, 1.53934397e+09, 1.53934397e+09,\n",
       "       1.53934398e+09, 1.53934403e+09, 1.53934403e+09, 1.53934403e+09,\n",
       "       1.53934403e+09, 1.53934403e+09, 1.53934403e+09, 1.53934403e+09,\n",
       "       1.53934404e+09, 1.53934404e+09, 1.53934404e+09, 1.53934405e+09,\n",
       "       1.53934406e+09, 1.53934406e+09, 1.53934407e+09, 1.53934407e+09,\n",
       "       1.53934408e+09, 1.53934409e+09, 1.53934409e+09, 1.53934410e+09,\n",
       "       1.53934411e+09, 1.53934411e+09, 1.53934412e+09, 1.53934412e+09,\n",
       "       1.53934413e+09, 1.53934414e+09, 1.53934414e+09, 1.53934415e+09,\n",
       "       1.53934416e+09, 1.53934416e+09, 1.53934417e+09, 1.53934417e+09,\n",
       "       1.53934418e+09, 1.53934419e+09, 1.53934419e+09, 1.53934420e+09,\n",
       "       1.53934420e+09, 1.53934421e+09, 1.53934422e+09, 1.53934422e+09,\n",
       "       1.53934423e+09, 1.53934424e+09, 1.53934424e+09, 1.53934425e+09,\n",
       "       1.53934425e+09, 1.53934426e+09, 1.53934427e+09, 1.53934427e+09,\n",
       "       1.53934428e+09, 1.53934429e+09, 1.53934429e+09, 1.53934430e+09,\n",
       "       1.53934430e+09, 1.53934431e+09, 1.53934432e+09, 1.53934432e+09,\n",
       "       1.53934433e+09, 1.53934433e+09, 1.53934434e+09, 1.53934435e+09,\n",
       "       1.53934435e+09, 1.53934436e+09, 1.53934437e+09, 1.53934437e+09,\n",
       "       1.53934438e+09, 1.53934438e+09, 1.53934439e+09, 1.53934440e+09,\n",
       "       1.53934440e+09, 1.53934441e+09, 1.53934442e+09, 1.53934442e+09,\n",
       "       1.53934443e+09, 1.53934443e+09, 1.53934444e+09, 1.53934445e+09,\n",
       "       1.53934445e+09, 1.53934446e+09, 1.53934446e+09, 1.53934447e+09,\n",
       "       1.53934448e+09, 1.53934448e+09, 1.53934449e+09, 1.53934450e+09,\n",
       "       1.53934450e+09, 1.53934451e+09, 1.53934451e+09, 1.53934452e+09,\n",
       "       1.53934453e+09, 1.53934453e+09, 1.53934454e+09, 1.53934455e+09,\n",
       "       1.53934455e+09, 1.53934456e+09, 1.53934456e+09, 1.53934457e+09,\n",
       "       1.53934458e+09, 1.53934458e+09, 1.53934459e+09, 1.53934459e+09,\n",
       "       1.53934460e+09, 1.53934461e+09, 1.53934461e+09, 1.53934462e+09,\n",
       "       1.53934463e+09, 1.53934463e+09, 1.53934464e+09, 1.53934464e+09,\n",
       "       1.53934465e+09, 1.53934466e+09, 1.53934466e+09, 1.53934467e+09,\n",
       "       1.53934467e+09, 1.53934468e+09, 1.53934469e+09, 1.53934469e+09,\n",
       "       1.53934470e+09, 1.53934471e+09, 1.53934471e+09, 1.53934472e+09,\n",
       "       1.53934473e+09]),\n",
       "       array([1.53934381e+09, 1.53934381e+09, 1.53934382e+09, 1.53934383e+09,\n",
       "       1.53934383e+09, 1.53934384e+09, 1.53934384e+09, 1.53934385e+09,\n",
       "       1.53934386e+09, 1.53934386e+09, 1.53934387e+09, 1.53934388e+09,\n",
       "       1.53934388e+09, 1.53934389e+09, 1.53934389e+09, 1.53934390e+09,\n",
       "       1.53934391e+09, 1.53934391e+09, 1.53934392e+09, 1.53934393e+09,\n",
       "       1.53934393e+09, 1.53934394e+09, 1.53934395e+09, 1.53934395e+09,\n",
       "       1.53934396e+09, 1.53934396e+09, 1.53934397e+09, 1.53934398e+09,\n",
       "       1.53934398e+09, 1.53934399e+09, 1.53934400e+09, 1.53934400e+09,\n",
       "       1.53934401e+09, 1.53934401e+09, 1.53934402e+09, 1.53934403e+09,\n",
       "       1.53934403e+09, 1.53934404e+09, 1.53934405e+09, 1.53934405e+09,\n",
       "       1.53934406e+09, 1.53934406e+09, 1.53934407e+09, 1.53934408e+09,\n",
       "       1.53934408e+09, 1.53934409e+09, 1.53934410e+09, 1.53934410e+09,\n",
       "       1.53934411e+09, 1.53934411e+09, 1.53934412e+09, 1.53934413e+09,\n",
       "       1.53934413e+09, 1.53934414e+09, 1.53934415e+09, 1.53934415e+09,\n",
       "       1.53934416e+09, 1.53934416e+09, 1.53934417e+09, 1.53934418e+09,\n",
       "       1.53934418e+09, 1.53934419e+09, 1.53934420e+09, 1.53934420e+09,\n",
       "       1.53934421e+09, 1.53934421e+09, 1.53934422e+09, 1.53934423e+09,\n",
       "       1.53934423e+09, 1.53934424e+09, 1.53934425e+09, 1.53934425e+09,\n",
       "       1.53934426e+09, 1.53934426e+09, 1.53934427e+09, 1.53934428e+09,\n",
       "       1.53934428e+09, 1.53934429e+09, 1.53934429e+09, 1.53934430e+09,\n",
       "       1.53934431e+09, 1.53934431e+09, 1.53934432e+09, 1.53934433e+09,\n",
       "       1.53934433e+09, 1.53934434e+09, 1.53934434e+09, 1.53934435e+09,\n",
       "       1.53934436e+09, 1.53934436e+09, 1.53934437e+09, 1.53934438e+09,\n",
       "       1.53934438e+09, 1.53934439e+09, 1.53934439e+09, 1.53934440e+09,\n",
       "       1.53934441e+09, 1.53934441e+09, 1.53934442e+09, 1.53934443e+09,\n",
       "       1.53934443e+09, 1.53934444e+09, 1.53934444e+09, 1.53934445e+09,\n",
       "       1.53934446e+09, 1.53934446e+09, 1.53934447e+09, 1.53934447e+09,\n",
       "       1.53934448e+09, 1.53934449e+09, 1.53934449e+09, 1.53934450e+09,\n",
       "       1.53934451e+09, 1.53934451e+09, 1.53934452e+09, 1.53934452e+09,\n",
       "       1.53934453e+09, 1.53934454e+09, 1.53934454e+09, 1.53934455e+09,\n",
       "       1.53934456e+09, 1.53934456e+09, 1.53934457e+09, 1.53934457e+09,\n",
       "       1.53934458e+09, 1.53934459e+09, 1.53934459e+09, 1.53934460e+09,\n",
       "       1.53934460e+09, 1.53934461e+09, 1.53934462e+09, 1.53934462e+09,\n",
       "       1.53934463e+09, 1.53934464e+09, 1.53934464e+09, 1.53934465e+09,\n",
       "       1.53934465e+09, 1.53934466e+09, 1.53934467e+09, 1.53934467e+09,\n",
       "       1.53934468e+09, 1.53934468e+09, 1.53934469e+09, 1.53934470e+09,\n",
       "       1.53934470e+09, 1.53934471e+09, 1.53934472e+09, 1.53934472e+09,\n",
       "       1.53934473e+09]),\n",
       "       array([1.53934381e+09, 1.53934381e+09, 1.53934382e+09, 1.53934383e+09,\n",
       "       1.53934383e+09, 1.53934384e+09, 1.53934384e+09, 1.53934385e+09,\n",
       "       1.53934386e+09, 1.53934386e+09, 1.53934387e+09, 1.53934388e+09,\n",
       "       1.53934388e+09, 1.53934389e+09, 1.53934390e+09, 1.53934390e+09,\n",
       "       1.53934391e+09, 1.53934392e+09, 1.53934392e+09, 1.53934393e+09,\n",
       "       1.53934393e+09, 1.53934394e+09, 1.53934395e+09, 1.53934395e+09,\n",
       "       1.53934396e+09, 1.53934397e+09, 1.53934397e+09, 1.53934398e+09,\n",
       "       1.53934398e+09, 1.53934399e+09, 1.53934400e+09, 1.53934400e+09,\n",
       "       1.53934401e+09, 1.53934403e+09, 1.53934403e+09, 1.53934403e+09,\n",
       "       1.53934404e+09, 1.53934404e+09, 1.53934405e+09, 1.53934405e+09,\n",
       "       1.53934406e+09, 1.53934407e+09, 1.53934407e+09, 1.53934408e+09,\n",
       "       1.53934409e+09, 1.53934409e+09, 1.53934410e+09, 1.53934410e+09,\n",
       "       1.53934411e+09, 1.53934412e+09, 1.53934412e+09, 1.53934413e+09,\n",
       "       1.53934414e+09, 1.53934414e+09, 1.53934415e+09, 1.53934415e+09,\n",
       "       1.53934416e+09, 1.53934417e+09, 1.53934417e+09, 1.53934418e+09,\n",
       "       1.53934419e+09, 1.53934419e+09, 1.53934420e+09, 1.53934420e+09,\n",
       "       1.53934421e+09, 1.53934422e+09, 1.53934422e+09, 1.53934423e+09,\n",
       "       1.53934424e+09, 1.53934424e+09, 1.53934425e+09, 1.53934425e+09,\n",
       "       1.53934426e+09, 1.53934427e+09, 1.53934427e+09, 1.53934428e+09,\n",
       "       1.53934429e+09, 1.53934429e+09, 1.53934430e+09, 1.53934430e+09,\n",
       "       1.53934431e+09, 1.53934432e+09, 1.53934432e+09, 1.53934433e+09,\n",
       "       1.53934434e+09, 1.53934434e+09, 1.53934435e+09, 1.53934435e+09,\n",
       "       1.53934436e+09, 1.53934437e+09, 1.53934437e+09, 1.53934438e+09,\n",
       "       1.53934439e+09, 1.53934439e+09, 1.53934440e+09, 1.53934440e+09,\n",
       "       1.53934441e+09, 1.53934442e+09, 1.53934442e+09, 1.53934443e+09,\n",
       "       1.53934443e+09, 1.53934444e+09, 1.53934445e+09, 1.53934445e+09,\n",
       "       1.53934446e+09, 1.53934446e+09, 1.53934447e+09, 1.53934448e+09,\n",
       "       1.53934448e+09, 1.53934449e+09, 1.53934450e+09, 1.53934450e+09,\n",
       "       1.53934451e+09, 1.53934452e+09, 1.53934452e+09, 1.53934453e+09,\n",
       "       1.53934453e+09, 1.53934454e+09, 1.53934455e+09, 1.53934455e+09,\n",
       "       1.53934456e+09, 1.53934457e+09, 1.53934457e+09, 1.53934458e+09,\n",
       "       1.53934458e+09, 1.53934459e+09, 1.53934460e+09, 1.53934460e+09,\n",
       "       1.53934461e+09, 1.53934462e+09, 1.53934462e+09, 1.53934463e+09,\n",
       "       1.53934463e+09, 1.53934464e+09, 1.53934465e+09, 1.53934465e+09,\n",
       "       1.53934466e+09, 1.53934467e+09, 1.53934467e+09, 1.53934468e+09,\n",
       "       1.53934468e+09, 1.53934469e+09, 1.53934470e+09, 1.53934470e+09,\n",
       "       1.53934471e+09, 1.53934472e+09, 1.53934472e+09, 1.53934473e+09])],\n",
       "      dtype=object)"
      ]
     },
     "execution_count": 306,
     "metadata": {},
     "output_type": "execute_result"
    }
   ],
   "source": [
    "np.array([np.array(elem) for elem in ts]).flatten()"
   ]
  },
  {
   "cell_type": "code",
   "execution_count": 296,
   "metadata": {},
   "outputs": [
    {
     "data": {
      "text/plain": [
       "array([list([1539343806.652, 1539343812.847, 1539343819.346, 1539343825.397, 1539343831.715, 1539343837.967, 1539343844.19, 1539343850.423, 1539343856.422, 1539343863.308, 1539343869.481, 1539343875.663, 1539343882.009, 1539343888.307, 1539343894.505, 1539343901.488, 1539343907.72, 1539343913.827, 1539343920.114, 1539343926.423, 1539343932.638, 1539343938.873, 1539343945.885, 1539343952.147, 1539343958.442, 1539343964.822, 1539343971.053, 1539343977.184, 1539343983.303, 1539343989.544, 1539343995.69, 1539344001.867, 1539344007.992, 1539344014.123, 1539344028.389, 1539344029.341, 1539344033.626, 1539344039.913, 1539344046.111, 1539344052.302, 1539344058.663, 1539344064.805, 1539344070.965, 1539344077.201, 1539344083.482, 1539344089.662, 1539344095.908, 1539344102.257, 1539344108.387, 1539344114.703, 1539344120.914, 1539344127.106, 1539344133.268, 1539344139.434, 1539344145.614, 1539344152.012, 1539344158.125, 1539344164.437, 1539344170.915, 1539344177.116, 1539344183.136, 1539344189.207, 1539344195.278, 1539344201.424, 1539344207.704, 1539344213.885, 1539344220.115, 1539344226.34, 1539344232.602, 1539344238.755, 1539344245.066, 1539344251.171, 1539344257.414, 1539344263.577, 1539344269.74, 1539344275.996, 1539344282.205, 1539344288.433, 1539344294.664, 1539344300.851, 1539344306.976, 1539344313.168, 1539344319.228, 1539344325.412, 1539344331.612, 1539344337.799, 1539344344.087, 1539344350.344, 1539344356.635, 1539344362.875, 1539344369.176, 1539344375.356, 1539344381.63, 1539344387.763, 1539344394.126, 1539344400.333, 1539344406.515, 1539344412.625, 1539344418.836, 1539344425.013, 1539344431.124, 1539344437.392, 1539344443.627, 1539344450.049, 1539344456.154, 1539344462.299, 1539344468.676, 1539344474.73, 1539344480.79, 1539344487.203, 1539344493.393, 1539344499.667, 1539344506.033, 1539344512.226, 1539344518.561, 1539344524.825, 1539344530.905, 1539344536.967, 1539344543.049, 1539344549.218, 1539344555.348, 1539344561.624, 1539344567.85, 1539344574.047, 1539344580.119, 1539344586.298, 1539344592.512, 1539344598.719, 1539344604.924, 1539344611.083, 1539344617.327, 1539344623.623, 1539344629.892, 1539344635.978, 1539344642.194, 1539344648.407, 1539344654.533, 1539344660.896, 1539344667.043, 1539344673.328, 1539344679.491, 1539344685.977, 1539344692.444, 1539344698.847, 1539344705.745, 1539344712.12, 1539344718.457, 1539344724.761]),\n",
       "       list([1539343802.776, 1539343808.776, 1539343814.743, 1539343821.31, 1539343827.511, 1539343833.911, 1539343840.227, 1539343858.692, 1539343859.699, 1539343860.606, 1539343865.709, 1539343872.145, 1539343878.373, 1539343896.72, 1539343897.667, 1539343898.601, 1539343904.419, 1539343910.416, 1539343916.445, 1539343941.047, 1539343941.963, 1539343942.91, 1539343943.829, 1539343948.49, 1539343954.778, 1539343961.274, 1539343967.577, 1539343973.53, 1539343979.78, 1539344028.332, 1539344029.214, 1539344030.243, 1539344031.21, 1539344032.172, 1539344033.081, 1539344034.018, 1539344035.058, 1539344036.464, 1539344042.64, 1539344048.996, 1539344055.146, 1539344061.469, 1539344067.597, 1539344073.489, 1539344079.526, 1539344086.053, 1539344092.433, 1539344098.794, 1539344105.146, 1539344111.361, 1539344117.551, 1539344123.878, 1539344130.147, 1539344136.519, 1539344142.774, 1539344148.997, 1539344155.32, 1539344161.681, 1539344168.107, 1539344174.323, 1539344180.438, 1539344186.572, 1539344192.764, 1539344198.814, 1539344204.892, 1539344210.8, 1539344216.884, 1539344223.145, 1539344229.432, 1539344235.76, 1539344242.043, 1539344248.224, 1539344254.191, 1539344260.567, 1539344266.705, 1539344272.663, 1539344278.879, 1539344285.21, 1539344291.466, 1539344297.713, 1539344303.912, 1539344310.155, 1539344316.099, 1539344322.271, 1539344328.374, 1539344334.571, 1539344340.724, 1539344346.879, 1539344352.859, 1539344359.317, 1539344365.683, 1539344371.813, 1539344377.99, 1539344384.034, 1539344390.232, 1539344396.609, 1539344402.958, 1539344409.166, 1539344415.388, 1539344421.57, 1539344427.814, 1539344433.956, 1539344439.895, 1539344446.497, 1539344452.689, 1539344458.751, 1539344464.86, 1539344470.89, 1539344477.088, 1539344483.21, 1539344489.591, 1539344495.869, 1539344502.167, 1539344508.397, 1539344514.842, 1539344521.102, 1539344527.428, 1539344533.794, 1539344539.841, 1539344545.951, 1539344551.868, 1539344557.88, 1539344563.853, 1539344569.848, 1539344575.927, 1539344582.033, 1539344588.302, 1539344594.56, 1539344600.871, 1539344607.028, 1539344612.978, 1539344619.054, 1539344625.25, 1539344631.482, 1539344637.699, 1539344643.754, 1539344650.015, 1539344655.998, 1539344662.15, 1539344668.282, 1539344674.28, 1539344680.599, 1539344686.686, 1539344693.01, 1539344699.238, 1539344705.961, 1539344712.556, 1539344719.062, 1539344725.545]),\n",
       "       list([1539343806.466, 1539343812.594, 1539343818.924, 1539343825.291, 1539343831.38, 1539343837.705, 1539343843.818, 1539343850.144, 1539343858.679, 1539343863.581, 1539343869.854, 1539343876.07, 1539343882.165, 1539343888.192, 1539343894.395, 1539343901.457, 1539343907.814, 1539343914.081, 1539343920.345, 1539343926.324, 1539343932.271, 1539343938.569, 1539343945.669, 1539343951.841, 1539343958.01, 1539343964.344, 1539343970.642, 1539343976.978, 1539343983.401, 1539343989.434, 1539343995.577, 1539344001.684, 1539344007.812, 1539344013.936, 1539344020.044, 1539344026.034, 1539344033.44, 1539344039.796, 1539344045.978, 1539344052.098, 1539344058.418, 1539344064.689, 1539344070.81, 1539344076.942, 1539344082.982, 1539344089.336, 1539344095.356, 1539344102.04, 1539344108.156, 1539344114.186, 1539344120.388, 1539344126.61, 1539344132.871, 1539344139.059, 1539344145.493, 1539344151.907, 1539344158.223, 1539344164.359, 1539344170.768, 1539344177.104, 1539344183.307, 1539344189.446, 1539344195.466, 1539344201.66, 1539344207.818, 1539344214.055, 1539344220.36, 1539344226.591, 1539344232.837, 1539344239.16, 1539344245.489, 1539344251.71, 1539344257.897, 1539344264.034, 1539344270.111, 1539344276.298, 1539344282.61, 1539344288.859, 1539344294.908, 1539344301.504, 1539344307.765, 1539344313.868, 1539344320.187, 1539344326.411, 1539344332.577, 1539344338.578, 1539344344.8, 1539344351.035, 1539344357.209, 1539344363.415, 1539344369.758, 1539344375.884, 1539344382.049, 1539344388.216, 1539344394.291, 1539344400.498, 1539344406.857, 1539344413.102, 1539344419.242, 1539344425.292, 1539344431.318, 1539344437.555, 1539344443.787, 1539344449.965, 1539344456.037, 1539344462.192, 1539344468.415, 1539344474.553, 1539344480.872, 1539344486.973, 1539344493.307, 1539344499.56, 1539344505.798, 1539344512.034, 1539344518.203, 1539344524.314, 1539344530.377, 1539344536.567, 1539344542.774, 1539344549.003, 1539344555.249, 1539344561.492, 1539344567.593, 1539344573.742, 1539344580.02, 1539344586.047, 1539344592.341, 1539344598.466, 1539344604.658, 1539344610.763, 1539344616.883, 1539344622.999, 1539344629.085, 1539344635.245, 1539344641.447, 1539344647.471, 1539344653.756, 1539344659.806, 1539344666.051, 1539344672.142, 1539344678.282, 1539344684.308, 1539344690.537, 1539344696.797, 1539344703.116, 1539344709.736, 1539344716.096, 1539344722.665, 1539344729.096]),\n",
       "       list([1539343806.652, 1539343812.925, 1539343819.572, 1539343825.816, 1539343832.508, 1539343838.715, 1539343844.966, 1539343851.247, 1539343858.548, 1539343864.379, 1539343870.749, 1539343877.165, 1539343883.429, 1539343889.468, 1539343896.74, 1539343902.85, 1539343908.945, 1539343915.216, 1539343921.473, 1539343927.597, 1539343933.736, 1539343941.012, 1539343946.794, 1539343952.691, 1539343958.936, 1539343965.406, 1539343971.728, 1539343977.927, 1539343984.098, 1539343990.571, 1539343996.999, 1539344003.293, 1539344009.598, 1539344028.389, 1539344029.436, 1539344030.462, 1539344036.056, 1539344042.289, 1539344048.457, 1539344054.568, 1539344060.934, 1539344067.16, 1539344073.367, 1539344079.658, 1539344086.162, 1539344092.574, 1539344098.7, 1539344104.707, 1539344110.926, 1539344117.048, 1539344123.166, 1539344129.501, 1539344135.77, 1539344142.034, 1539344148.356, 1539344154.707, 1539344160.798, 1539344166.774, 1539344172.993, 1539344179.126, 1539344185.378, 1539344191.482, 1539344197.642, 1539344203.9, 1539344210.317, 1539344216.777, 1539344222.842, 1539344229.191, 1539344235.627, 1539344242.129, 1539344248.443, 1539344254.819, 1539344260.926, 1539344266.979, 1539344272.995, 1539344279.166, 1539344285.497, 1539344291.759, 1539344298.02, 1539344304.235, 1539344310.294, 1539344316.345, 1539344322.554, 1539344328.802, 1539344335.031, 1539344341.3, 1539344347.38, 1539344353.634, 1539344359.995, 1539344366.242, 1539344372.598, 1539344378.836, 1539344385.118, 1539344391.38, 1539344397.669, 1539344404.066, 1539344410.225, 1539344416.176, 1539344422.21, 1539344428.357, 1539344434.522, 1539344440.548, 1539344446.391, 1539344452.471, 1539344458.54, 1539344464.923, 1539344471.291, 1539344477.435, 1539344483.608, 1539344490.024, 1539344496.273, 1539344502.626, 1539344509.011, 1539344515.418, 1539344521.522, 1539344527.88, 1539344534.039, 1539344540.393, 1539344546.724, 1539344553.07, 1539344559.493, 1539344565.893, 1539344572.244, 1539344578.515, 1539344584.661, 1539344591.042, 1539344597.115, 1539344603.136, 1539344609.2, 1539344615.479, 1539344621.769, 1539344627.925, 1539344634.231, 1539344640.505, 1539344646.715, 1539344653.187, 1539344659.418, 1539344665.656, 1539344671.942, 1539344678.078, 1539344684.431, 1539344690.792, 1539344697.184, 1539344703.567, 1539344710.123, 1539344716.594, 1539344722.998, 1539344729.236])],\n",
       "      dtype=object)"
      ]
     },
     "execution_count": 296,
     "metadata": {},
     "output_type": "execute_result"
    }
   ],
   "source": [
    "np.array([]).flatten()"
   ]
  },
  {
   "cell_type": "code",
   "execution_count": null,
   "metadata": {
    "collapsed": true,
    "jupyter": {
     "outputs_hidden": true
    }
   },
   "outputs": [],
   "source": [
    "np.array(ts).flatten"
   ]
  },
  {
   "cell_type": "code",
   "execution_count": 291,
   "metadata": {},
   "outputs": [
    {
     "data": {
      "text/plain": [
       "[1539343806.652,\n",
       " 1539343812.925,\n",
       " 1539343819.572,\n",
       " 1539343825.816,\n",
       " 1539343832.508,\n",
       " 1539343838.715,\n",
       " 1539343844.966,\n",
       " 1539343851.247,\n",
       " 1539343858.548,\n",
       " 1539343864.379,\n",
       " 1539343870.749,\n",
       " 1539343877.165,\n",
       " 1539343883.429,\n",
       " 1539343889.468,\n",
       " 1539343896.74,\n",
       " 1539343902.85,\n",
       " 1539343908.945,\n",
       " 1539343915.216,\n",
       " 1539343921.473,\n",
       " 1539343927.597,\n",
       " 1539343933.736,\n",
       " 1539343941.012,\n",
       " 1539343946.794,\n",
       " 1539343952.691,\n",
       " 1539343958.936,\n",
       " 1539343965.406,\n",
       " 1539343971.728,\n",
       " 1539343977.927,\n",
       " 1539343984.098,\n",
       " 1539343990.571,\n",
       " 1539343996.999,\n",
       " 1539344003.293,\n",
       " 1539344009.598,\n",
       " 1539344028.389,\n",
       " 1539344029.436,\n",
       " 1539344030.462,\n",
       " 1539344036.056,\n",
       " 1539344042.289,\n",
       " 1539344048.457,\n",
       " 1539344054.568,\n",
       " 1539344060.934,\n",
       " 1539344067.16,\n",
       " 1539344073.367,\n",
       " 1539344079.658,\n",
       " 1539344086.162,\n",
       " 1539344092.574,\n",
       " 1539344098.7,\n",
       " 1539344104.707,\n",
       " 1539344110.926,\n",
       " 1539344117.048,\n",
       " 1539344123.166,\n",
       " 1539344129.501,\n",
       " 1539344135.77,\n",
       " 1539344142.034,\n",
       " 1539344148.356,\n",
       " 1539344154.707,\n",
       " 1539344160.798,\n",
       " 1539344166.774,\n",
       " 1539344172.993,\n",
       " 1539344179.126,\n",
       " 1539344185.378,\n",
       " 1539344191.482,\n",
       " 1539344197.642,\n",
       " 1539344203.9,\n",
       " 1539344210.317,\n",
       " 1539344216.777,\n",
       " 1539344222.842,\n",
       " 1539344229.191,\n",
       " 1539344235.627,\n",
       " 1539344242.129,\n",
       " 1539344248.443,\n",
       " 1539344254.819,\n",
       " 1539344260.926,\n",
       " 1539344266.979,\n",
       " 1539344272.995,\n",
       " 1539344279.166,\n",
       " 1539344285.497,\n",
       " 1539344291.759,\n",
       " 1539344298.02,\n",
       " 1539344304.235,\n",
       " 1539344310.294,\n",
       " 1539344316.345,\n",
       " 1539344322.554,\n",
       " 1539344328.802,\n",
       " 1539344335.031,\n",
       " 1539344341.3,\n",
       " 1539344347.38,\n",
       " 1539344353.634,\n",
       " 1539344359.995,\n",
       " 1539344366.242,\n",
       " 1539344372.598,\n",
       " 1539344378.836,\n",
       " 1539344385.118,\n",
       " 1539344391.38,\n",
       " 1539344397.669,\n",
       " 1539344404.066,\n",
       " 1539344410.225,\n",
       " 1539344416.176,\n",
       " 1539344422.21,\n",
       " 1539344428.357,\n",
       " 1539344434.522,\n",
       " 1539344440.548,\n",
       " 1539344446.391,\n",
       " 1539344452.471,\n",
       " 1539344458.54,\n",
       " 1539344464.923,\n",
       " 1539344471.291,\n",
       " 1539344477.435,\n",
       " 1539344483.608,\n",
       " 1539344490.024,\n",
       " 1539344496.273,\n",
       " 1539344502.626,\n",
       " 1539344509.011,\n",
       " 1539344515.418,\n",
       " 1539344521.522,\n",
       " 1539344527.88,\n",
       " 1539344534.039,\n",
       " 1539344540.393,\n",
       " 1539344546.724,\n",
       " 1539344553.07,\n",
       " 1539344559.493,\n",
       " 1539344565.893,\n",
       " 1539344572.244,\n",
       " 1539344578.515,\n",
       " 1539344584.661,\n",
       " 1539344591.042,\n",
       " 1539344597.115,\n",
       " 1539344603.136,\n",
       " 1539344609.2,\n",
       " 1539344615.479,\n",
       " 1539344621.769,\n",
       " 1539344627.925,\n",
       " 1539344634.231,\n",
       " 1539344640.505,\n",
       " 1539344646.715,\n",
       " 1539344653.187,\n",
       " 1539344659.418,\n",
       " 1539344665.656,\n",
       " 1539344671.942,\n",
       " 1539344678.078,\n",
       " 1539344684.431,\n",
       " 1539344690.792,\n",
       " 1539344697.184,\n",
       " 1539344703.567,\n",
       " 1539344710.123,\n",
       " 1539344716.594,\n",
       " 1539344722.998,\n",
       " 1539344729.236]"
      ]
     },
     "execution_count": 291,
     "metadata": {},
     "output_type": "execute_result"
    }
   ],
   "source": [
    "max()1"
   ]
  },
  {
   "cell_type": "code",
   "execution_count": 278,
   "metadata": {},
   "outputs": [
    {
     "data": {
      "text/plain": [
       "[1539343806.652,\n",
       " 1539343812.925,\n",
       " 1539343819.572,\n",
       " 1539343825.816,\n",
       " 1539343832.508,\n",
       " 1539343838.715,\n",
       " 1539343844.966,\n",
       " 1539343851.247,\n",
       " 1539343858.548,\n",
       " 1539343864.379,\n",
       " 1539343870.749,\n",
       " 1539343877.165,\n",
       " 1539343883.429,\n",
       " 1539343889.468,\n",
       " 1539343896.74,\n",
       " 1539343902.85,\n",
       " 1539343908.945,\n",
       " 1539343915.216,\n",
       " 1539343921.473,\n",
       " 1539343927.597,\n",
       " 1539343933.736,\n",
       " 1539343941.012,\n",
       " 1539343946.794,\n",
       " 1539343952.691,\n",
       " 1539343958.936,\n",
       " 1539343965.406,\n",
       " 1539343971.728,\n",
       " 1539343977.927,\n",
       " 1539343984.098,\n",
       " 1539343990.571,\n",
       " 1539343996.999,\n",
       " 1539344003.293,\n",
       " 1539344009.598,\n",
       " 1539344028.389,\n",
       " 1539344029.436,\n",
       " 1539344030.462,\n",
       " 1539344036.056,\n",
       " 1539344042.289,\n",
       " 1539344048.457,\n",
       " 1539344054.568,\n",
       " 1539344060.934,\n",
       " 1539344067.16,\n",
       " 1539344073.367,\n",
       " 1539344079.658,\n",
       " 1539344086.162,\n",
       " 1539344092.574,\n",
       " 1539344098.7,\n",
       " 1539344104.707,\n",
       " 1539344110.926,\n",
       " 1539344117.048,\n",
       " 1539344123.166,\n",
       " 1539344129.501,\n",
       " 1539344135.77,\n",
       " 1539344142.034,\n",
       " 1539344148.356,\n",
       " 1539344154.707,\n",
       " 1539344160.798,\n",
       " 1539344166.774,\n",
       " 1539344172.993,\n",
       " 1539344179.126,\n",
       " 1539344185.378,\n",
       " 1539344191.482,\n",
       " 1539344197.642,\n",
       " 1539344203.9,\n",
       " 1539344210.317,\n",
       " 1539344216.777,\n",
       " 1539344222.842,\n",
       " 1539344229.191,\n",
       " 1539344235.627,\n",
       " 1539344242.129,\n",
       " 1539344248.443,\n",
       " 1539344254.819,\n",
       " 1539344260.926,\n",
       " 1539344266.979,\n",
       " 1539344272.995,\n",
       " 1539344279.166,\n",
       " 1539344285.497,\n",
       " 1539344291.759,\n",
       " 1539344298.02,\n",
       " 1539344304.235,\n",
       " 1539344310.294,\n",
       " 1539344316.345,\n",
       " 1539344322.554,\n",
       " 1539344328.802,\n",
       " 1539344335.031,\n",
       " 1539344341.3,\n",
       " 1539344347.38,\n",
       " 1539344353.634,\n",
       " 1539344359.995,\n",
       " 1539344366.242,\n",
       " 1539344372.598,\n",
       " 1539344378.836,\n",
       " 1539344385.118,\n",
       " 1539344391.38,\n",
       " 1539344397.669,\n",
       " 1539344404.066,\n",
       " 1539344410.225,\n",
       " 1539344416.176,\n",
       " 1539344422.21,\n",
       " 1539344428.357,\n",
       " 1539344434.522,\n",
       " 1539344440.548,\n",
       " 1539344446.391,\n",
       " 1539344452.471,\n",
       " 1539344458.54,\n",
       " 1539344464.923,\n",
       " 1539344471.291,\n",
       " 1539344477.435,\n",
       " 1539344483.608,\n",
       " 1539344490.024,\n",
       " 1539344496.273,\n",
       " 1539344502.626,\n",
       " 1539344509.011,\n",
       " 1539344515.418,\n",
       " 1539344521.522,\n",
       " 1539344527.88,\n",
       " 1539344534.039,\n",
       " 1539344540.393,\n",
       " 1539344546.724,\n",
       " 1539344553.07,\n",
       " 1539344559.493,\n",
       " 1539344565.893,\n",
       " 1539344572.244,\n",
       " 1539344578.515,\n",
       " 1539344584.661,\n",
       " 1539344591.042,\n",
       " 1539344597.115,\n",
       " 1539344603.136,\n",
       " 1539344609.2,\n",
       " 1539344615.479,\n",
       " 1539344621.769,\n",
       " 1539344627.925,\n",
       " 1539344634.231,\n",
       " 1539344640.505,\n",
       " 1539344646.715,\n",
       " 1539344653.187,\n",
       " 1539344659.418,\n",
       " 1539344665.656,\n",
       " 1539344671.942,\n",
       " 1539344678.078,\n",
       " 1539344684.431,\n",
       " 1539344690.792,\n",
       " 1539344697.184,\n",
       " 1539344703.567,\n",
       " 1539344710.123,\n",
       " 1539344716.594,\n",
       " 1539344722.998,\n",
       " 1539344729.236]"
      ]
     },
     "execution_count": 278,
     "metadata": {},
     "output_type": "execute_result"
    }
   ],
   "source": [
    "np.amax(ts)"
   ]
  },
  {
   "cell_type": "code",
   "execution_count": null,
   "metadata": {
    "collapsed": true,
    "jupyter": {
     "outputs_hidden": true
    }
   },
   "outputs": [],
   "source": []
  },
  {
   "cell_type": "code",
   "execution_count": null,
   "metadata": {
    "collapsed": true,
    "jupyter": {
     "outputs_hidden": true
    }
   },
   "outputs": [],
   "source": [
    "TypeError                                 Traceback (most recent call last)\n",
    "<ipython-input-243-1167ee3da39d> in <module>()\n",
    "     37         commonStep = currentStep\n",
    "     38 \n",
    "---> 39         time_step = float(np.amax(timestamps))\n",
    "     40 \n",
    "     41         # get data of registration and violation files up to this time step\n",
    "\n",
    "TypeError: float() argument must be a string or a number, not 'list'"
   ]
  },
  {
   "cell_type": "code",
   "execution_count": null,
   "metadata": {
    "collapsed": true,
    "jupyter": {
     "outputs_hidden": true
    }
   },
   "outputs": [],
   "source": []
  },
  {
   "cell_type": "code",
   "execution_count": null,
   "metadata": {
    "collapsed": true,
    "jupyter": {
     "outputs_hidden": true
    }
   },
   "outputs": [],
   "source": []
  },
  {
   "cell_type": "code",
   "execution_count": null,
   "metadata": {
    "collapsed": true,
    "jupyter": {
     "outputs_hidden": true
    }
   },
   "outputs": [],
   "source": []
  },
  {
   "cell_type": "code",
   "execution_count": null,
   "metadata": {
    "collapsed": true,
    "jupyter": {
     "outputs_hidden": true
    }
   },
   "outputs": [],
   "source": []
  },
  {
   "cell_type": "code",
   "execution_count": null,
   "metadata": {
    "collapsed": true,
    "jupyter": {
     "outputs_hidden": true
    }
   },
   "outputs": [],
   "source": [
    "[[1539343806.652, 1539343812.847, 1539343819.346, 1539343825.397, 1539343831.715, 1539343837.967, 1539343844.19, 1539343850.423, 1539343856.422, 1539343863.308, 1539343869.481, 1539343875.663, 1539343882.009, 1539343888.307, 1539343894.505, 1539343901.488, 1539343907.72, 1539343913.827, 1539343920.114, 1539343926.423, 1539343932.638, 1539343938.873, 1539343945.885, 1539343952.147, 1539343958.442, 1539343964.822, 1539343971.053, 1539343977.184, 1539343983.303, 1539343989.544, 1539343995.69, 1539344001.867, 1539344007.992, 1539344014.123, 1539344028.389, 1539344029.341, 1539344033.626, 1539344039.913, 1539344046.111, 1539344052.302, 1539344058.663, 1539344064.805, 1539344070.965, 1539344077.201, 1539344083.482, 1539344089.662, 1539344095.908, 1539344102.257, 1539344108.387, 1539344114.703, 1539344120.914, 1539344127.106, 1539344133.268, 1539344139.434, 1539344145.614, 1539344152.012, 1539344158.125, 1539344164.437, 1539344170.915, 1539344177.116, 1539344183.136, 1539344189.207, 1539344195.278, 1539344201.424, 1539344207.704, 1539344213.885, 1539344220.115, 1539344226.34, 1539344232.602, 1539344238.755, 1539344245.066, 1539344251.171, 1539344257.414, 1539344263.577, 1539344269.74, 1539344275.996, 1539344282.205, 1539344288.433, 1539344294.664, 1539344300.851, 1539344306.976, 1539344313.168, 1539344319.228, 1539344325.412, 1539344331.612, 1539344337.799, 1539344344.087, 1539344350.344, 1539344356.635, 1539344362.875, 1539344369.176, 1539344375.356, 1539344381.63, 1539344387.763, 1539344394.126, 1539344400.333, 1539344406.515, 1539344412.625, 1539344418.836, 1539344425.013, 1539344431.124, 1539344437.392, 1539344443.627, 1539344450.049, 1539344456.154, 1539344462.299, 1539344468.676, 1539344474.73, 1539344480.79, 1539344487.203, 1539344493.393, 1539344499.667, 1539344506.033, 1539344512.226, 1539344518.561, 1539344524.825, 1539344530.905, 1539344536.967, 1539344543.049, 1539344549.218, 1539344555.348, 1539344561.624, 1539344567.85, 1539344574.047, 1539344580.119, 1539344586.298, 1539344592.512, 1539344598.719, 1539344604.924, 1539344611.083, 1539344617.327, 1539344623.623, 1539344629.892, 1539344635.978, 1539344642.194, 1539344648.407, 1539344654.533, 1539344660.896, 1539344667.043, 1539344673.328, 1539344679.491, 1539344685.977, 1539344692.444, 1539344698.847, 1539344705.745, 1539344712.12, 1539344718.457, 1539344724.761], [1539343802.776, 1539343808.776, 1539343814.743, 1539343821.31, 1539343827.511, 1539343833.911, 1539343840.227, 1539343858.692, 1539343859.699, 1539343860.606, 1539343865.709, 1539343872.145, 1539343878.373, 1539343896.72, 1539343897.667, 1539343898.601, 1539343904.419, 1539343910.416, 1539343916.445, 1539343941.047, 1539343941.963, 1539343942.91, 1539343943.829, 1539343948.49, 1539343954.778, 1539343961.274, 1539343967.577, 1539343973.53, 1539343979.78, 1539344028.332, 1539344029.214, 1539344030.243, 1539344031.21, 1539344032.172, 1539344033.081, 1539344034.018, 1539344035.058, 1539344036.464, 1539344042.64, 1539344048.996, 1539344055.146, 1539344061.469, 1539344067.597, 1539344073.489, 1539344079.526, 1539344086.053, 1539344092.433, 1539344098.794, 1539344105.146, 1539344111.361, 1539344117.551, 1539344123.878, 1539344130.147, 1539344136.519, 1539344142.774, 1539344148.997, 1539344155.32, 1539344161.681, 1539344168.107, 1539344174.323, 1539344180.438, 1539344186.572, 1539344192.764, 1539344198.814, 1539344204.892, 1539344210.8, 1539344216.884, 1539344223.145, 1539344229.432, 1539344235.76, 1539344242.043, 1539344248.224, 1539344254.191, 1539344260.567, 1539344266.705, 1539344272.663, 1539344278.879, 1539344285.21, 1539344291.466, 1539344297.713, 1539344303.912, 1539344310.155, 1539344316.099, 1539344322.271, 1539344328.374, 1539344334.571, 1539344340.724, 1539344346.879, 1539344352.859, 1539344359.317, 1539344365.683, 1539344371.813, 1539344377.99, 1539344384.034, 1539344390.232, 1539344396.609, 1539344402.958, 1539344409.166, 1539344415.388, 1539344421.57, 1539344427.814, 1539344433.956, 1539344439.895, 1539344446.497, 1539344452.689, 1539344458.751, 1539344464.86, 1539344470.89, 1539344477.088, 1539344483.21, 1539344489.591, 1539344495.869, 1539344502.167, 1539344508.397, 1539344514.842, 1539344521.102, 1539344527.428, 1539344533.794, 1539344539.841, 1539344545.951, 1539344551.868, 1539344557.88, 1539344563.853, 1539344569.848, 1539344575.927, 1539344582.033, 1539344588.302, 1539344594.56, 1539344600.871, 1539344607.028, 1539344612.978, 1539344619.054, 1539344625.25, 1539344631.482, 1539344637.699, 1539344643.754, 1539344650.015, 1539344655.998, 1539344662.15, 1539344668.282, 1539344674.28, 1539344680.599, 1539344686.686, 1539344693.01, 1539344699.238, 1539344705.961, 1539344712.556, 1539344719.062, 1539344725.545], [1539343806.466, 1539343812.594, 1539343818.924, 1539343825.291, 1539343831.38, 1539343837.705, 1539343843.818, 1539343850.144, 1539343858.679, 1539343863.581, 1539343869.854, 1539343876.07, 1539343882.165, 1539343888.192, 1539343894.395, 1539343901.457, 1539343907.814, 1539343914.081, 1539343920.345, 1539343926.324, 1539343932.271, 1539343938.569, 1539343945.669, 1539343951.841, 1539343958.01, 1539343964.344, 1539343970.642, 1539343976.978, 1539343983.401, 1539343989.434, 1539343995.577, 1539344001.684, 1539344007.812, 1539344013.936, 1539344020.044, 1539344026.034, 1539344033.44, 1539344039.796, 1539344045.978, 1539344052.098, 1539344058.418, 1539344064.689, 1539344070.81, 1539344076.942, 1539344082.982, 1539344089.336, 1539344095.356, 1539344102.04, 1539344108.156, 1539344114.186, 1539344120.388, 1539344126.61, 1539344132.871, 1539344139.059, 1539344145.493, 1539344151.907, 1539344158.223, 1539344164.359, 1539344170.768, 1539344177.104, 1539344183.307, 1539344189.446, 1539344195.466, 1539344201.66, 1539344207.818, 1539344214.055, 1539344220.36, 1539344226.591, 1539344232.837, 1539344239.16, 1539344245.489, 1539344251.71, 1539344257.897, 1539344264.034, 1539344270.111, 1539344276.298, 1539344282.61, 1539344288.859, 1539344294.908, 1539344301.504, 1539344307.765, 1539344313.868, 1539344320.187, 1539344326.411, 1539344332.577, 1539344338.578, 1539344344.8, 1539344351.035, 1539344357.209, 1539344363.415, 1539344369.758, 1539344375.884, 1539344382.049, 1539344388.216, 1539344394.291, 1539344400.498, 1539344406.857, 1539344413.102, 1539344419.242, 1539344425.292, 1539344431.318, 1539344437.555, 1539344443.787, 1539344449.965, 1539344456.037, 1539344462.192, 1539344468.415, 1539344474.553, 1539344480.872, 1539344486.973, 1539344493.307, 1539344499.56, 1539344505.798, 1539344512.034, 1539344518.203, 1539344524.314, 1539344530.377, 1539344536.567, 1539344542.774, 1539344549.003, 1539344555.249, 1539344561.492, 1539344567.593, 1539344573.742, 1539344580.02, 1539344586.047, 1539344592.341, 1539344598.466, 1539344604.658, 1539344610.763, 1539344616.883, 1539344622.999, 1539344629.085, 1539344635.245, 1539344641.447, 1539344647.471, 1539344653.756, 1539344659.806, 1539344666.051, 1539344672.142, 1539344678.282, 1539344684.308, 1539344690.537, 1539344696.797, 1539344703.116, 1539344709.736, 1539344716.096, 1539344722.665, 1539344729.096], [1539343806.652, 1539343812.925, 1539343819.572, 1539343825.816, 1539343832.508, 1539343838.715, 1539343844.966, 1539343851.247, 1539343858.548, 1539343864.379, 1539343870.749, 1539343877.165, 1539343883.429, 1539343889.468, 1539343896.74, 1539343902.85, 1539343908.945, 1539343915.216, 1539343921.473, 1539343927.597, 1539343933.736, 1539343941.012, 1539343946.794, 1539343952.691, 1539343958.936, 1539343965.406, 1539343971.728, 1539343977.927, 1539343984.098, 1539343990.571, 1539343996.999, 1539344003.293, 1539344009.598, 1539344028.389, 1539344029.436, 1539344030.462, 1539344036.056, 1539344042.289, 1539344048.457, 1539344054.568, 1539344060.934, 1539344067.16, 1539344073.367, 1539344079.658, 1539344086.162, 1539344092.574, 1539344098.7, 1539344104.707, 1539344110.926, 1539344117.048, 1539344123.166, 1539344129.501, 1539344135.77, 1539344142.034, 1539344148.356, 1539344154.707, 1539344160.798, 1539344166.774, 1539344172.993, 1539344179.126, 1539344185.378, 1539344191.482, 1539344197.642, 1539344203.9, 1539344210.317, 1539344216.777, 1539344222.842, 1539344229.191, 1539344235.627, 1539344242.129, 1539344248.443, 1539344254.819, 1539344260.926, 1539344266.979, 1539344272.995, 1539344279.166, 1539344285.497, 1539344291.759, 1539344298.02, 1539344304.235, 1539344310.294, 1539344316.345, 1539344322.554, 1539344328.802, 1539344335.031, 1539344341.3, 1539344347.38, 1539344353.634, 1539344359.995, 1539344366.242, 1539344372.598, 1539344378.836, 1539344385.118, 1539344391.38, 1539344397.669, 1539344404.066, 1539344410.225, 1539344416.176, 1539344422.21, 1539344428.357, 1539344434.522, 1539344440.548, 1539344446.391, 1539344452.471, 1539344458.54, 1539344464.923, 1539344471.291, 1539344477.435, 1539344483.608, 1539344490.024, 1539344496.273, 1539344502.626, 1539344509.011, 1539344515.418, 1539344521.522, 1539344527.88, 1539344534.039, 1539344540.393, 1539344546.724, 1539344553.07, 1539344559.493, 1539344565.893, 1539344572.244, 1539344578.515, 1539344584.661, 1539344591.042, 1539344597.115, 1539344603.136, 1539344609.2, 1539344615.479, 1539344621.769, 1539344627.925, 1539344634.231, 1539344640.505, 1539344646.715, 1539344653.187, 1539344659.418, 1539344665.656, 1539344671.942, 1539344678.078, 1539344684.431, 1539344690.792, 1539344697.184, 1539344703.567, 1539344710.123, 1539344716.594, 1539344722.998, 1539344729.236]]\n",
    "\n",
    "\n",
    "\n",
    "\n",
    "\n",
    "\n",
    "\n",
    "\n",
    "\n",
    "\n",
    "\n",
    "\n",
    "\n",
    "\n",
    "\n",
    "\n",
    "\n",
    "\n",
    "\n",
    "\n",
    "\n",
    "\n",
    "\n",
    "\n"
   ]
  },
  {
   "cell_type": "code",
   "execution_count": null,
   "metadata": {
    "collapsed": true,
    "jupyter": {
     "outputs_hidden": true
    }
   },
   "outputs": [],
   "source": []
  },
  {
   "cell_type": "code",
   "execution_count": null,
   "metadata": {
    "collapsed": true,
    "jupyter": {
     "outputs_hidden": true
    }
   },
   "outputs": [],
   "source": []
  },
  {
   "cell_type": "code",
   "execution_count": null,
   "metadata": {
    "collapsed": true,
    "jupyter": {
     "outputs_hidden": true
    }
   },
   "outputs": [],
   "source": []
  },
  {
   "cell_type": "code",
   "execution_count": null,
   "metadata": {
    "collapsed": true,
    "jupyter": {
     "outputs_hidden": true
    }
   },
   "outputs": [],
   "source": []
  },
  {
   "cell_type": "code",
   "execution_count": null,
   "metadata": {
    "collapsed": true,
    "jupyter": {
     "outputs_hidden": true
    }
   },
   "outputs": [],
   "source": []
  },
  {
   "cell_type": "code",
   "execution_count": null,
   "metadata": {
    "collapsed": true,
    "jupyter": {
     "outputs_hidden": true
    }
   },
   "outputs": [],
   "source": []
  },
  {
   "cell_type": "code",
   "execution_count": null,
   "metadata": {
    "collapsed": true,
    "jupyter": {
     "outputs_hidden": true
    }
   },
   "outputs": [],
   "source": []
  },
  {
   "cell_type": "code",
   "execution_count": null,
   "metadata": {
    "collapsed": true,
    "jupyter": {
     "outputs_hidden": true
    }
   },
   "outputs": [],
   "source": []
  },
  {
   "cell_type": "code",
   "execution_count": null,
   "metadata": {
    "collapsed": true,
    "jupyter": {
     "outputs_hidden": true
    }
   },
   "outputs": [],
   "source": []
  },
  {
   "cell_type": "code",
   "execution_count": null,
   "metadata": {
    "collapsed": true,
    "jupyter": {
     "outputs_hidden": true
    }
   },
   "outputs": [],
   "source": []
  },
  {
   "cell_type": "markdown",
   "metadata": {},
   "source": [
    "# Somehow changed"
   ]
  },
  {
   "cell_type": "code",
   "execution_count": null,
   "metadata": {
    "collapsed": true,
    "jupyter": {
     "outputs_hidden": true
    }
   },
   "outputs": [],
   "source": [
    "files = []\n",
    "losses = []\n",
    "timestamps = []\n",
    "for i in range(nodesAmount):\n",
    "    files.append(open(os.path.join(experimentFolder, \"worker\" + str(i), \"losses.txt\"), \"r\"))\n",
    "    losses.append([])\n",
    "    timestamps.append([])\n",
    "\n",
    "\n",
    "\n",
    "t = [0]\n",
    "commonStep = 0\n",
    "\n",
    "displayStep = 5\n",
    "recordStep = 1\n",
    "recordUnique = True\n",
    "\n",
    "\n",
    "\n",
    "#print(f\"message_sizes after registration {message_sizes}\")\n",
    "# buffer for violation messages (lines get read but might not be relevant for that sync round; so we have to remember them for the next time)\n",
    "\n",
    "vlines_buffer = []\n",
    "rlines_buffer = []\n",
    "slines_buffer = []\n",
    "\n",
    "message_size = 0\n",
    "message_sizes = []\n",
    "\n",
    "\n",
    "\n",
    "#figs = []\n",
    "while 1:\n",
    "    for i in range(nodesAmount):\n",
    "        file = files[i]\n",
    "        where = file.tell()\n",
    "        line = file.readline()\n",
    "        if not line:\n",
    "            time.sleep(1)\n",
    "            file.seek(where)\n",
    "        else:\n",
    "            losses[i].append(float(line[:-1].split('\\t')[1])) #could append sth else or take a counter\n",
    "            timestamps[i].append(float(line.split('\\t')[0]))\n",
    "            \n",
    "    currentStep = min([len(l) for l in losses])\n",
    "    # now need to know which worker is responsible for the minimum and take time stamp of this\n",
    "    worker_ind = np.argmin([len(l) for l in losses])\n",
    "    #now take time stamp of this worker\n",
    "    \n",
    "    #for i in range(nodesAmount):\n",
    "    #file = worker0_losses\n",
    "    sync_file = files[worker_ind]\n",
    "    where = sync_file.tell()\n",
    "    line = sync_file.readline()\n",
    "    if not line:\n",
    "        time.sleep(1)\n",
    "        sync_file.seek(where)\n",
    "    else:\n",
    "        losses.append(float(line[:-1].split('\\t')[1])) # unnecessary here but just leave it for the moment to ensure running of the code below\n",
    "        \n",
    "        \n",
    "        time_step = float(line.split('\\t')[0])\n",
    "        # get data of registration and violation files up to this time step\n",
    "        #print(\"TIME STEP:\" + str(time_step))\n",
    "        #check for registrations up to time_step\n",
    "        \n",
    "        while True:  #unnecessary overhead, but just copied. Could restrict it to number of learners etc.\n",
    "            # check in buffer (if not empty)\n",
    "            if rlines_buffer != []:\n",
    "                for rline in rlines_buffer:\n",
    "                    if float(rline[0].split(\"\\t\")[0]) < time_step:\n",
    "                        message_size = message_size + int(rline[0].split(\"\\t\")[4])\n",
    "                        #print(\"registration message from buffer added with ts \" + str(float(rline[0].split(\"\\t\")[0])))\n",
    "                        #print(\"message_size: \" + str(message_size))\n",
    "                        # delete message from buffer\n",
    "                        rlines_buffer.remove(rline)\n",
    "\n",
    "\n",
    "            # read new lines\n",
    "            where = data_registrations.tell()\n",
    "            rline = data_registrations.readline()\n",
    "\n",
    "            if not rline:    #could it be that I'M waiting here too long?\n",
    "                #time.sleep(1)\n",
    "                data_registrations.seek(where)\n",
    "                break \n",
    "            else:\n",
    "                if float(rline.split(\"\\t\")[0]) < time_step:\n",
    "                    # here: index 4 = message size\n",
    "                    message_size = message_size + int(rline.split(\"\\t\")[4])\n",
    "                    #print(\"registration message added with ts \" + str(float(rline.split(\"\\t\")[0])))\n",
    "                    #print(\"message_size: \" + str(message_size))\n",
    "                else:\n",
    "                    rlines_buffer.append([rline])\n",
    "                    break\n",
    "        \n",
    "\n",
    "        \n",
    "        #check for sendModels up to time_step\n",
    "        while True:\n",
    "            # check in buffer (if not empty)\n",
    "            if slines_buffer != []:\n",
    "                for sline in slines_buffer:\n",
    "                    if float(sline[0].split(\"\\t\")[0]) < time_step:\n",
    "                        # count number of points in this string which coincides with the number of nodes receiving the model\n",
    "                        message_size= message_size + int(sline[0].split(\"\\t\")[3])* sline[0].split(\"\\t\")[2].count(\".\")\n",
    "                        #print(\"sendModel message from buffer added with ts \" + str(float(sline[0].split(\"\\t\")[0])))\n",
    "                        #print(\"message_size: \" + str(message_size))\n",
    "                        # delete message from buffer\n",
    "                        slines_buffer.remove(sline)\n",
    "\n",
    "\n",
    "            # read new lines\n",
    "            where = data_sendModel.tell()\n",
    "            sline = data_sendModel.readline()\n",
    "\n",
    "            if not sline:    #could it be that I'M waiting here too long?\n",
    "                #time.sleep(1)\n",
    "                data_sendModel.seek(where)\n",
    "                break \n",
    "            else:\n",
    "                if float(sline.split(\"\\t\")[0]) < time_step:\n",
    "                    # here: index 4 = message size\n",
    "                    # count number of points in this string which coincides with the number of nodes receiving the model\n",
    "                    message_size= message_size + int(sline.split(\"\\t\")[3])* sline.split(\"\\t\")[2].count(\".\")\n",
    "                    #print(\"sendModel message added with ts \" + str(float(sline.split(\"\\t\")[0])))\n",
    "                    #print(\"message_size: \" + str(message_size))\n",
    "                else:\n",
    "                    slines_buffer.append([sline])\n",
    "                    break\n",
    "        \n",
    "        \n",
    "        \n",
    "        \n",
    "        \n",
    "        \n",
    "        \n",
    "        \n",
    "        \n",
    "        #check for violations up to time_step\n",
    "        while True:\n",
    "            # check in buffer (if not empty)\n",
    "            if vlines_buffer != []:\n",
    "                for vline in vlines_buffer:\n",
    "                    if float(vline[0].split(\"\\t\")[0]) < time_step:\n",
    "                        message_size = message_size + int(vline[0].split(\"\\t\")[4])\n",
    "                        #print(\"violation message from buffer added with ts \" + str(float(vline[0].split(\"\\t\")[0])))\n",
    "                        #print(\"message_size: \" + str(message_size))\n",
    "                        # delete message from buffer\n",
    "                        vlines_buffer.remove(vline)\n",
    "\n",
    "\n",
    "            # read new lines\n",
    "            where = data_violations.tell()\n",
    "            vline = data_violations.readline()\n",
    "\n",
    "            if not vline:    #could it be that I'M waiting here too long?\n",
    "                #time.sleep(1)\n",
    "                data_violations.seek(where)\n",
    "                break \n",
    "            else:\n",
    "                if float(vline.split(\"\\t\")[0]) < time_step:\n",
    "                    # here: index 4 = message size\n",
    "                    message_size = message_size + int(vline.split(\"\\t\")[4])\n",
    "                    #print(\"violation message added with ts \" + str(float(vline.split(\"\\t\")[0])))\n",
    "                    #print(\"message_size: \" + str(message_size))\n",
    "                else:\n",
    "                    vlines_buffer.append([vline])\n",
    "                    break\n",
    "        \n",
    "        \n",
    "        message_sizes.append(message_size)\n",
    "        #print(\"message_sizes: \" + str(message_sizes))\n",
    "        \n",
    "           \n",
    "    #currentStep = min([len(l) for l in losses])\n",
    "    #currentStep = len(losses)\n",
    "    if currentStep > commonStep:\n",
    "        commonStep = currentStep\n",
    "        if commonStep % displayStep == 0:\n",
    "            \n",
    "            \n",
    "            clear_output(wait=True)\n",
    "            \n",
    "            \n",
    "            \n",
    "            #cutLosses = [l[:commonStep] for l in losses]\n",
    "            #figs = []\n",
    "            #for i in range(nodesAmount):\n",
    "            #figs.append(plt.figure())\n",
    "            plt.figure()\n",
    "            #plt.plot(t, cutLosses[i], lw=2, label='loss learner ' + str(i), color='red')\n",
    "            plt.plot(t, message_sizes, lw=2, label='cumulative communication', color='blue')\n",
    "            plt.legend(loc='upper center')\n",
    "            plt.grid()\n",
    "            plt.show()\n",
    "        t.append(t[-1] + 1)\n",
    "        if len(t) % recordStep == 0 and t != 0:\n",
    "            j = 0\n",
    "            #for fig in figs:\n",
    "            if recordUnique:\n",
    "                #fig.savefig(os.path.join(experimentFolder, 'loss_learner' + str(j) + '_' + str(len(t)) + '.png'), dpi=100)\n",
    "                fig.savefig(os.path.join(experimentFolder, 'cumulative_communication' + str(len(t)) + '.png'), dpi=100)\n",
    "            else:\n",
    "                #fig.savefig(os.path.join(experimentFolder, 'loss_learner' + str(j) + '.png'), dpi=100)\n",
    "                fig.savefig(os.path.join(experimentFolder, 'cumulative_communication.png'), dpi=100)\n",
    "            j += 1\n",
    "            \n",
    "            \n",
    "            \n",
    "            \n"
   ]
  },
  {
   "cell_type": "code",
   "execution_count": null,
   "metadata": {
    "collapsed": true,
    "jupyter": {
     "outputs_hidden": true
    }
   },
   "outputs": [],
   "source": []
  },
  {
   "cell_type": "code",
   "execution_count": null,
   "metadata": {
    "collapsed": true,
    "jupyter": {
     "outputs_hidden": true
    }
   },
   "outputs": [],
   "source": []
  },
  {
   "cell_type": "code",
   "execution_count": null,
   "metadata": {
    "collapsed": true,
    "jupyter": {
     "outputs_hidden": true
    }
   },
   "outputs": [],
   "source": []
  },
  {
   "cell_type": "code",
   "execution_count": null,
   "metadata": {
    "collapsed": true,
    "jupyter": {
     "outputs_hidden": true
    }
   },
   "outputs": [],
   "source": []
  },
  {
   "cell_type": "markdown",
   "metadata": {},
   "source": [
    "# OLD"
   ]
  },
  {
   "cell_type": "code",
   "execution_count": null,
   "metadata": {
    "collapsed": true,
    "jupyter": {
     "outputs_hidden": true
    }
   },
   "outputs": [],
   "source": []
  },
  {
   "cell_type": "code",
   "execution_count": 67,
   "metadata": {},
   "outputs": [
    {
     "data": {
      "image/png": "[encoded data removed]",
      "text/plain": [
       "<Figure size 1152x576 with 1 Axes>"
      ]
     },
     "metadata": {},
     "output_type": "display_data"
    },
    {
     "ename": "KeyboardInterrupt",
     "evalue": "",
     "output_type": "error",
     "traceback": [
      "\u001b[0;31m---------------------------------------------------------------------------\u001b[0m",
      "\u001b[0;31mKeyboardInterrupt\u001b[0m                         Traceback (most recent call last)",
      "\u001b[0;32m<ipython-input-67-cd2d6018155b>\u001b[0m in \u001b[0;36m<module>\u001b[0;34m()\u001b[0m\n\u001b[1;32m     42\u001b[0m     \u001b[0mline\u001b[0m \u001b[0;34m=\u001b[0m \u001b[0mdata_sendModel\u001b[0m\u001b[0;34m.\u001b[0m\u001b[0mreadline\u001b[0m\u001b[0;34m(\u001b[0m\u001b[0;34m)\u001b[0m\u001b[0;34m\u001b[0m\u001b[0m\n\u001b[1;32m     43\u001b[0m     \u001b[0;32mif\u001b[0m \u001b[0;32mnot\u001b[0m \u001b[0mline\u001b[0m\u001b[0;34m:\u001b[0m\u001b[0;34m\u001b[0m\u001b[0m\n\u001b[0;32m---> 44\u001b[0;31m         \u001b[0mtime\u001b[0m\u001b[0;34m.\u001b[0m\u001b[0msleep\u001b[0m\u001b[0;34m(\u001b[0m\u001b[0;36m1\u001b[0m\u001b[0;34m)\u001b[0m\u001b[0;34m\u001b[0m\u001b[0m\n\u001b[0m\u001b[1;32m     45\u001b[0m         \u001b[0mdata_sendModel\u001b[0m\u001b[0;34m.\u001b[0m\u001b[0mseek\u001b[0m\u001b[0;34m(\u001b[0m\u001b[0mwhere\u001b[0m\u001b[0;34m)\u001b[0m\u001b[0;34m\u001b[0m\u001b[0m\n\u001b[1;32m     46\u001b[0m     \u001b[0;32melse\u001b[0m\u001b[0;34m:\u001b[0m\u001b[0;34m\u001b[0m\u001b[0m\n",
      "\u001b[0;31mKeyboardInterrupt\u001b[0m: "
     ]
    }
   ],
   "source": [
    "# registration messages sizes\n",
    "\n",
    "displayStep = 1\n",
    "recordStep = 1\n",
    "recordUnique = True\n",
    "\n",
    "\n",
    "reg_msizes = []\n",
    "line = data_registrations.readline()\n",
    "\n",
    "\n",
    "while line != \"\":\n",
    "    # here: index 4 = message size\n",
    "    reg_msizes.append(int(line.split(\"\\t\")[4]))\n",
    "    line = data_registrations.readline()\n",
    "\n",
    "# initial value of message_sizes = sum of registration message sizes    \n",
    "message_size = sum(reg_msizes)\n",
    "message_sizes = []\n",
    "message_sizes.append(message_size)\n",
    "\n",
    "#print(f\"message_sizes after registration {message_sizes}\")\n",
    "# buffer for violation messages (lines get read but might not be relevant for that sync round; so we have to remember them for the next time)\n",
    "\n",
    "vlines_buffer = []\n",
    "\n",
    "\n",
    "sync_round = 0\n",
    "sync_rounds = []\n",
    "\n",
    "sync_rounds.append(sync_round)\n",
    "\n",
    "\n",
    "\n",
    "count = 0\n",
    "\n",
    "\n",
    "    \n",
    "while True:\n",
    "    #print(f\"message_sizes beginning first loop {message_sizes}\")\n",
    "    where = data_sendModel.tell()\n",
    "    line = data_sendModel.readline()\n",
    "    if not line:\n",
    "        time.sleep(1)\n",
    "        data_sendModel.seek(where)\n",
    "    else:\n",
    "        sync_round = sync_round + 1\n",
    "        sync_rounds.append(sync_round)\n",
    "        # index 0 = time stamp\n",
    "        sync_time = float(line.split(\"\\t\")[0])\n",
    "        # here: index 3 = message size, index 2 = topic which contains nodes that the model is sent to\n",
    "        # count number of points in this string which coincides with the number of nodes receiving the model\n",
    "        message_size= message_size + int(line.split(\"\\t\")[3])* line.split(\"\\t\")[2].count(\".\")\n",
    "        #print(f\"message_sizes after sync {message_sizes}\")\n",
    "\n",
    "        # now check for violation messages up to sync time\n",
    "        while True:\n",
    "\n",
    "            # check in buffer (if not empty)\n",
    "            if vlines_buffer != []:\n",
    "                for vline in vlines_buffer:\n",
    "                    if float(vline[0].split(\"\\t\")[0]) < sync_time:\n",
    "                        message_size = message_size + int(vline[0].split(\"\\t\")[4])\n",
    "                        # delete message from buffer\n",
    "                        vlines_buffer.remove(vline)\n",
    "            \n",
    "            \n",
    "            # read new lines\n",
    "            where = data_violations.tell()\n",
    "            vline = data_violations.readline()\n",
    "\n",
    "            if not vline:\n",
    "                time.sleep(1)\n",
    "                data_violations.seek(where)\n",
    "            else:\n",
    "                if float(vline.split(\"\\t\")[0]) < sync_time:\n",
    "                    # if violation message was before synchronizing, add size of this message \n",
    "                    # here: index 4 = message size\n",
    "                    message_size = message_size + int(vline.split(\"\\t\")[4])\n",
    "                else:\n",
    "                    vlines_buffer.append([vline])\n",
    "                    break\n",
    "\n",
    "        \n",
    "        message_sizes.append(message_size)\n",
    "        \n",
    "        if sync_round % displayStep == 0:\n",
    "            clear_output(wait=True)\n",
    "            fig = plt.figure()\n",
    "            plt.plot(sync_rounds, message_sizes, label='cumulative communication', color='blue')\n",
    "            plt.legend(loc='upper left')\n",
    "            plt.grid()\n",
    "            plt.show()\n",
    "        if sync_round % recordStep == 0:\n",
    "            if recordUnique:\n",
    "                fig.savefig(os.path.join(experimentFolder, 'cumulative_communication' + str(sync_round) + '.png'), dpi=100)\n",
    "            else:\n",
    "                fig.savefig(os.path.join(experimentFolder, 'cumulative_communication.png'), dpi=100)"
   ]
  },
  {
   "cell_type": "code",
   "execution_count": 29,
   "metadata": {
    "collapsed": true,
    "jupyter": {
     "outputs_hidden": true
    }
   },
   "outputs": [],
   "source": [
    "for file in files:\n",
    "    file.close()"
   ]
  },
  {
   "cell_type": "code",
   "execution_count": null,
   "metadata": {
    "collapsed": true,
    "jupyter": {
     "outputs_hidden": true
    }
   },
   "outputs": [],
   "source": []
  },
  {
   "cell_type": "code",
   "execution_count": null,
   "metadata": {
    "collapsed": true,
    "jupyter": {
     "outputs_hidden": true
    }
   },
   "outputs": [],
   "source": []
  },
  {
   "cell_type": "code",
   "execution_count": null,
   "metadata": {
    "collapsed": true,
    "jupyter": {
     "outputs_hidden": true
    }
   },
   "outputs": [],
   "source": []
  },
  {
   "cell_type": "code",
   "execution_count": null,
   "metadata": {
    "collapsed": true,
    "jupyter": {
     "outputs_hidden": true
    }
   },
   "outputs": [],
   "source": []
  },
  {
   "cell_type": "code",
   "execution_count": null,
   "metadata": {
    "collapsed": true,
    "jupyter": {
     "outputs_hidden": true
    }
   },
   "outputs": [],
   "source": []
  },
  {
   "cell_type": "code",
   "execution_count": null,
   "metadata": {
    "collapsed": true,
    "jupyter": {
     "outputs_hidden": true
    }
   },
   "outputs": [],
   "source": []
  },
  {
   "cell_type": "code",
   "execution_count": null,
   "metadata": {
    "collapsed": true,
    "jupyter": {
     "outputs_hidden": true
    }
   },
   "outputs": [],
   "source": []
  },
  {
   "cell_type": "code",
   "execution_count": null,
   "metadata": {
    "collapsed": true,
    "jupyter": {
     "outputs_hidden": true
    }
   },
   "outputs": [],
   "source": []
  },
  {
   "cell_type": "code",
   "execution_count": null,
   "metadata": {
    "collapsed": true,
    "jupyter": {
     "outputs_hidden": true
    }
   },
   "outputs": [],
   "source": []
  },
  {
   "cell_type": "code",
   "execution_count": null,
   "metadata": {
    "collapsed": true,
    "jupyter": {
     "outputs_hidden": true
    }
   },
   "outputs": [],
   "source": []
  },
  {
   "cell_type": "code",
   "execution_count": null,
   "metadata": {
    "collapsed": true,
    "jupyter": {
     "outputs_hidden": true
    }
   },
   "outputs": [],
   "source": []
  },
  {
   "cell_type": "code",
   "execution_count": null,
   "metadata": {
    "collapsed": true,
    "jupyter": {
     "outputs_hidden": true
    }
   },
   "outputs": [],
   "source": []
  },
  {
   "cell_type": "code",
   "execution_count": null,
   "metadata": {
    "collapsed": true,
    "jupyter": {
     "outputs_hidden": true
    }
   },
   "outputs": [],
   "source": []
  },
  {
   "cell_type": "code",
   "execution_count": null,
   "metadata": {
    "collapsed": true,
    "jupyter": {
     "outputs_hidden": true
    }
   },
   "outputs": [],
   "source": []
  },
  {
   "cell_type": "code",
   "execution_count": null,
   "metadata": {
    "collapsed": true,
    "jupyter": {
     "outputs_hidden": true
    }
   },
   "outputs": [],
   "source": []
  },
  {
   "cell_type": "code",
   "execution_count": 37,
   "metadata": {
    "collapsed": true,
    "jupyter": {
     "outputs_hidden": true
    }
   },
   "outputs": [],
   "source": [
    "#####CHANGED: / in front of files\n",
    "\n",
    "def readExpParams(folder):\n",
    "    fileName = folder + \"/summary.txt\"    \n",
    "    result = {} \n",
    "    f = open(fileName, 'r')\n",
    "    lines = f.readlines()\n",
    "    for line in lines:\n",
    "        if \"Learner:\" in line:\n",
    "            for val in line.replace(\"Learner:\", \"\").split(\",\"):\n",
    "                if \"batchSize\" in val:\n",
    "                    result[\"batchSize\"] = int(val.split(\"=\")[1].strip())\n",
    "    return result\n",
    "\n",
    "def readCoordRegistration(folder):\n",
    "    fileName = folder + \"/coordinator/communication/registrations.txt\"    \n",
    "    result = []    \n",
    "    f = open(fileName, 'r')\n",
    "    lines = f.readlines()\n",
    "    for line in lines:\n",
    "        vals = line.split(\"\\t\")\n",
    "        time = float(vals[0])#datetime.fromtimestamp(float(vals[0]))\n",
    "        origin = int(vals[3])\n",
    "        result.append([time, origin])\n",
    "    return result\n",
    "        \n",
    "def readWorkerRegistration(folder, worker):\n",
    "    fileName = folder + \"/worker\"+str(worker)+\"/communication/registrations.txt\"    \n",
    "    result = []    \n",
    "    f = open(fileName, 'r')\n",
    "    lines = f.readlines()\n",
    "    for line in lines:\n",
    "        vals = line.split(\"\\t\")\n",
    "        time = float(vals[0])#datetime.fromtimestamp(float(vals[0]))\n",
    "        origin = int(vals[3])\n",
    "        result.append([time, origin])\n",
    "    return result\n",
    "\n",
    "def readCoordModel(folder):\n",
    "    fileName = folder + \"/coordinator/communication/send_model.txt\"    \n",
    "    result = []    \n",
    "    f = open(fileName, 'r')\n",
    "    lines = f.readlines()\n",
    "    for line in lines:\n",
    "        vals = line.split(\"\\t\")\n",
    "        time = float(vals[0])#datetime.fromtimestamp(float(vals[0]))\n",
    "        destinations = vals[2].replace(\"newModel.\",\"\").split(\".\")\n",
    "        for d in destinations:\n",
    "            result.append([time, int(d)])\n",
    "    return result\n",
    "        \n",
    "def readWorkerModel(folder, worker):\n",
    "    fileName = folder + \"/worker\"+str(worker)+\"/communication/send_model.txt\"    \n",
    "    result = []    \n",
    "    f = open(fileName, 'r')\n",
    "    lines = f.readlines()\n",
    "    for line in lines:\n",
    "        vals = line.split(\"\\t\")\n",
    "        time = float(vals[0])#datetime.fromtimestamp(float(vals[0]))\n",
    "        modelVersion = vals[2]\n",
    "        result.append([time, modelVersion])\n",
    "    return result\n",
    "\n",
    "def readCoordViolations(folder):\n",
    "    fileName = folder + \"/coordinator/communication/violations.txt\"    \n",
    "    result = []    \n",
    "    f = open(fileName, 'r')\n",
    "    lines = f.readlines()\n",
    "    for line in lines:\n",
    "        vals = line.split(\"\\t\")\n",
    "        time = float(vals[0])#datetime.fromtimestamp(float(vals[0]))\n",
    "        origin = int(vals[3])\n",
    "        result.append([time, origin])\n",
    "    return result\n",
    "        \n",
    "def readWorkerViolations(folder, worker):\n",
    "    fileName = folder + \"/worker\"+str(worker)+\"/communication/violations.txt\"    \n",
    "    result = []    \n",
    "    f = open(fileName, 'r')\n",
    "    lines = f.readlines()\n",
    "    for line in lines:\n",
    "        vals = line.split(\"\\t\")\n",
    "        time = float(vals[0])#datetime.fromtimestamp(float(vals[0]))\n",
    "        result.append([time])\n",
    "    return result\n",
    "\n",
    "def readWorkerLosses(folder, worker):\n",
    "    fileName = folder + \"/worker\"+str(worker)+\"/losses.txt\"\n",
    "    result = []    \n",
    "    f = open(fileName, 'r')\n",
    "    lines = f.readlines()\n",
    "    for line in lines:\n",
    "        vals = line.split(\"\\t\")\n",
    "        time = float(vals[0])#datetime.fromtimestamp(float(vals[0]))\n",
    "        result.append([time])\n",
    "    return result"
   ]
  },
  {
   "cell_type": "code",
   "execution_count": 39,
   "metadata": {
    "collapsed": true,
    "jupyter": {
     "outputs_hidden": true
    }
   },
   "outputs": [],
   "source": [
    "class TimeToFrame():\n",
    "    def __init__(self, batchSize, losses, registrations, framesPerExample): #for a proper maxTimestamp we would need the kill messages\n",
    "        self.batchSize = batchSize\n",
    "        self.lossTimestamps = sorted([l[0] for l in losses])\n",
    "        self.regTimestamps = sorted([r[0] for r in registrations])\n",
    "        self.framesPerExample = framesPerExample\n",
    "        self.minTimestamp = min([min(self.lossTimestamps),min(self.regTimestamps)])\n",
    "        self.maxTimestamp = max([max(self.lossTimestamps),max(self.regTimestamps)])\n",
    "        self.lastFrame = len(losses) * batchSize * framesPerExample\n",
    "        print(\"minTS: \", self.minTimestamp)\n",
    "        print(\"maxTS: \", self.maxTimestamp)\n",
    "    def convertTimestampsToFrames(self, messages):\n",
    "        newMessages = []\n",
    "        for m in messages:\n",
    "            ts = m[0]\n",
    "            new_m = m\n",
    "            new_m[0] = self._tsToFr(ts)\n",
    "            if not new_m[0] > self.lastFrame:#ignore messages after the last training was logged\n",
    "                newMessages.append(new_m)\n",
    "        return newMessages\n",
    "            \n",
    "    def _tsToFr(self, ts):\n",
    "        framesPerBatch = self.batchSize*self.framesPerExample\n",
    "        frame = 0\n",
    "        #print ts\n",
    "        #print framesPerBatch,\"\\n***\"\n",
    "        for i in range(len(self.lossTimestamps)):\n",
    "            l = self.lossTimestamps[i]\n",
    "            #print \"l: \",l\n",
    "            #print \"frame: \",frame\n",
    "            if ts > l:\n",
    "                frame += framesPerBatch\n",
    "            elif ts <= l and i > 0:\n",
    "                high = l\n",
    "                low = self.lossTimestamps[i-1]\n",
    "                pos = int((float(ts - low) /float(high - low))*framesPerBatch)\n",
    "                #print \"i: \",i,\" high: \",high,\" low: \",low, \"ts: \", ts\n",
    "                #print \"pos: \",pos, \"frame: \",frame\n",
    "                frame += pos\n",
    "                return frame\n",
    "            else:\n",
    "                high = l\n",
    "                low = self.minTimestamp\n",
    "                pos = int((float(ts - low) /float(high - low))*framesPerBatch)\n",
    "                #print \"end:\"\n",
    "                #print \"i: \",i,\" high: \",high,\" low: \",low, \"ts: \", ts\n",
    "                #print \"pos: \",pos, \"frame: \",frame\n",
    "                frame += pos\n",
    "                return frame\n",
    "        #print \"len losses\",len(self.lossTimestamps)\n",
    "        #print \"ts: \",ts,\" frame: \", frame,\" i: \",i\n",
    "        return self.lastFrame + 1"
   ]
  },
  {
   "cell_type": "code",
   "execution_count": 41,
   "metadata": {
    "collapsed": true,
    "jupyter": {
     "outputs_hidden": true
    }
   },
   "outputs": [],
   "source": [
    "expParams = readExpParams(experimentFolder)\n",
    "batchSize = expParams[\"batchSize\"]\n",
    "framesPerExample = 5\n",
    "\n",
    "coordRegistration   = readCoordRegistration(experimentFolder)\n",
    "worker0Registration = readWorkerRegistration(experimentFolder, 0)\n",
    "\n",
    "\n",
    "coordModel   = readCoordModel(experimentFolder)\n",
    "worker0Model = readWorkerModel(experimentFolder, 0) #these are just the \"receives\"\n",
    "\n",
    "\n",
    "coordViolations   = readCoordViolations(experimentFolder)\n",
    "worker0Violations = readWorkerViolations(experimentFolder, 0)\n",
    "\n",
    "\n",
    "worker0Losses = readWorkerLosses(experimentFolder, 0)"
   ]
  },
  {
   "cell_type": "code",
   "execution_count": 46,
   "metadata": {},
   "outputs": [
    {
     "name": "stdout",
     "output_type": "stream",
     "text": [
      "minTS:  1539264058.856\n",
      "maxTS:  1539264316.571\n",
      "aligning violations\n",
      "minTS:  1539264058.856\n",
      "maxTS:  1539264316.571\n",
      "WFT!?! len model messages =  11  len coord messages =  12\n"
     ]
    },
    {
     "ename": "IndexError",
     "evalue": "list index out of range",
     "output_type": "error",
     "traceback": [
      "\u001b[0;31m---------------------------------------------------------------------------\u001b[0m",
      "\u001b[0;31mIndexError\u001b[0m                                Traceback (most recent call last)",
      "\u001b[0;32m<ipython-input-46-087812fa2bc8>\u001b[0m in \u001b[0;36m<module>\u001b[0;34m()\u001b[0m\n\u001b[1;32m     26\u001b[0m     \u001b[0;32mwhile\u001b[0m \u001b[0;34m(\u001b[0m\u001b[0mreceive_frame\u001b[0m \u001b[0;34m<\u001b[0m \u001b[0msend_frame\u001b[0m\u001b[0;34m)\u001b[0m\u001b[0;34m:\u001b[0m\u001b[0;34m\u001b[0m\u001b[0m\n\u001b[1;32m     27\u001b[0m         \u001b[0mcoordPos\u001b[0m \u001b[0;34m+=\u001b[0m \u001b[0;36m1\u001b[0m\u001b[0;34m\u001b[0m\u001b[0m\n\u001b[0;32m---> 28\u001b[0;31m         \u001b[0mreceive_frame\u001b[0m \u001b[0;34m=\u001b[0m \u001b[0mcviolW\u001b[0m\u001b[0;34m[\u001b[0m\u001b[0mcoordPos\u001b[0m\u001b[0;34m]\u001b[0m\u001b[0;34m\u001b[0m\u001b[0m\n\u001b[0m\u001b[1;32m     29\u001b[0m         \u001b[0;32mif\u001b[0m \u001b[0mlen\u001b[0m\u001b[0;34m(\u001b[0m\u001b[0mreceive_frame\u001b[0m\u001b[0;34m)\u001b[0m\u001b[0;34m>\u001b[0m\u001b[0;36m1\u001b[0m\u001b[0;34m:\u001b[0m\u001b[0;34m\u001b[0m\u001b[0m\n\u001b[1;32m     30\u001b[0m             \u001b[0mreceive_frame\u001b[0m \u001b[0;34m=\u001b[0m \u001b[0mreceive_frame\u001b[0m\u001b[0;34m[\u001b[0m\u001b[0;36m0\u001b[0m\u001b[0;34m]\u001b[0m\u001b[0;34m\u001b[0m\u001b[0m\n",
      "\u001b[0;31mIndexError\u001b[0m: list index out of range"
     ]
    }
   ],
   "source": [
    "#In the following, I'm going to align the coordinator time with that of worker0\n",
    "\n",
    "#workerViolations = [worker0Violations,worker1Violations,worker2Violations,worker3Violations]\n",
    "#workerModels = [worker0Model,worker1Model,worker2Model,worker3Model]\n",
    "#workerRegistrations = [worker0Registration,worker1Registration,worker2Registration,worker3Registration]\n",
    "#workerLosses = [woker0Losses,woker1Losses,woker2Losses,woker3Losses]\n",
    "\n",
    "Tcoord = TimeToFrame(batchSize, worker0Losses, worker0Registration, framesPerExample)\n",
    "print(\"aligning violations\")\n",
    "cviol = Tcoord.convertTimestampsToFrames(coordViolations)\n",
    "violations = [] #containing send_frame, sender, receive_frame, receiver, type\n",
    "#for i in range(len(workerViolations)):\n",
    "#    print(\"worker \",i)\n",
    "T = TimeToFrame(batchSize, worker0Losses, worker0Registration, framesPerExample)\n",
    "wviol = T.convertTimestampsToFrames(worker0Violations)\n",
    "cviolW = [c for c in cviol if c[1] == 0] #only the violations received from worker i\n",
    "if len(wviol) != len(cviolW):\n",
    "    print(\"WFT!?! len model messages = \",len(wviol),\" len coord messages = \", len(cviolW))\n",
    "coordPos = 0\n",
    "for j in range(len(wviol)):\n",
    "    send_frame = wviol[j][0]\n",
    "    sender = \"worker\" + str(0)\n",
    "    receive_frame = cviolW[coordPos]\n",
    "    if len(receive_frame)>1:\n",
    "        receive_frame = receive_frame[0]\n",
    "    while (receive_frame < send_frame):\n",
    "        coordPos += 1\n",
    "        receive_frame = cviolW[coordPos]\n",
    "        if len(receive_frame)>1:\n",
    "            receive_frame = receive_frame[0]\n",
    "    violations.append([send_frame, sender, receive_frame, \"coordinator\", \"violation\"])\n",
    "#print violations    "
   ]
  },
  {
   "cell_type": "code",
   "execution_count": 23,
   "metadata": {},
   "outputs": [
    {
     "ename": "SyntaxError",
     "evalue": "Missing parentheses in call to 'print' (<ipython-input-23-419f0488b22d>, line 10)",
     "output_type": "error",
     "traceback": [
      "\u001b[0;36m  File \u001b[0;32m\"<ipython-input-23-419f0488b22d>\"\u001b[0;36m, line \u001b[0;32m10\u001b[0m\n\u001b[0;31m    print \"aligning violations\"\u001b[0m\n\u001b[0m                              ^\u001b[0m\n\u001b[0;31mSyntaxError\u001b[0m\u001b[0;31m:\u001b[0m Missing parentheses in call to 'print'\n"
     ]
    }
   ],
   "source": [
    "\n",
    "\n",
    "\n",
    "\n",
    "print \"aligning send_model messages:\"\n",
    "print \"lastFrame: \",Tcoord.lastFrame\n",
    "cmodel = Tcoord.convertTimestampsToFrames(coordModel)\n",
    "sendModels = [] #containing send_frame, sender, receive_frame, receiver, type\n",
    "for i in range(len(workerModels)):\n",
    "    print \"worker \",i\n",
    "    T = TimeToFrame(batchSize, workerLosses[i], workerRegistrations[i], framesPerExample)\n",
    "    wmodel = T.convertTimestampsToFrames(workerModels[i])\n",
    "    cmodelW = [c for c in cmodel if c[1] == i] #only the models send to worker i\n",
    "    if len(wmodel) != len(cmodelW):\n",
    "        print \"WFT!?! len model messages = \",len(wmodel),\" len coord messages = \", len(cmodelW)\n",
    "    workerPos = 0\n",
    "    for j in range(len(cmodelW)):\n",
    "        if not workerPos < len(wmodel):\n",
    "            break\n",
    "        send_frame = cmodelW[j][0]\n",
    "        sender = \"coordinator\"\n",
    "        receive_frame = wmodel[workerPos][0]\n",
    "        reveiver = \"worker\" + str(i)\n",
    "        while (receive_frame < send_frame):\n",
    "            workerPos += 1\n",
    "            if workerPos >= len(wmodel):\n",
    "                receive_frame = Tcoord.lastFrame\n",
    "                #print \"WFT... receive frame: \",receive_frame \n",
    "                break\n",
    "            receive_frame = wmodel[workerPos][0]\n",
    "        #print [send_frame, sender, receive_frame, reveiver, \"sendModel\"], \" workerPos: \",workerPos\n",
    "        sendModels.append([send_frame, sender, receive_frame, reveiver, \"sendModel\"])"
   ]
  }
 ],
 "metadata": {
  "anaconda-cloud": {},
  "kernelspec": {
   "display_name": "Python 3",
   "language": "python",
   "name": "python3"
  },
  "language_info": {
   "codemirror_mode": {
    "name": "ipython",
    "version": 3
   },
   "file_extension": ".py",
   "mimetype": "text/x-python",
   "name": "python",
   "nbconvert_exporter": "python",
   "pygments_lexer": "ipython3",
   "version": "3.8.3"
  }
 },
 "nbformat": 4,
 "nbformat_minor": 4
}

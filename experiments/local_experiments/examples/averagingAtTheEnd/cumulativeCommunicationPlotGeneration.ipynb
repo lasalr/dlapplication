{
 "cells": [
  {
   "cell_type": "markdown",
   "metadata": {},
   "source": [
    "# Cumulative Communication"
   ]
  },
  {
   "cell_type": "code",
   "execution_count": 1,
   "metadata": {},
   "outputs": [],
   "source": [
    "import matplotlib\n",
    "import numpy as np\n",
    "import matplotlib.pyplot as plt\n",
    "%matplotlib inline \n",
    "import time\n",
    "from IPython.display import clear_output\n",
    "import ipywidgets as widgets\n",
    "import os\n",
    "import math"
   ]
  },
  {
   "cell_type": "code",
   "execution_count": 2,
   "metadata": {},
   "outputs": [],
   "source": [
    "plt.rcParams[\"figure.figsize\"] = (16,8)"
   ]
  },
  {
   "cell_type": "code",
   "execution_count": 3,
   "metadata": {},
   "outputs": [
    {
     "data": {
      "application/vnd.jupyter.widget-view+json": {
       "model_id": "d6e8278309b34b30b65600a35bd8d14d",
       "version_major": 2,
       "version_minor": 0
      },
      "text/plain": [
       "Dropdown(description='Experiment:', options=('.ipynb_checkpoints', 'RadonMachine_test_2020-07-27_21-30-02', 'R…"
      ]
     },
     "metadata": {},
     "output_type": "display_data"
    }
   ],
   "source": [
    "dirs = [d for d in sorted(os.listdir('.')) if os.path.isdir(d)]\n",
    "wFolder = widgets.Dropdown(\n",
    "    options=dirs,\n",
    "    description='Experiment:',\n",
    ")\n",
    "display(wFolder)"
   ]
  },
  {
   "cell_type": "code",
   "execution_count": 5,
   "metadata": {},
   "outputs": [
    {
     "name": "stdout",
     "output_type": "stream",
     "text": [
      "RadonMachine_test_2020-08-11_21-46-58\n"
     ]
    }
   ],
   "source": [
    "experimentFolder = wFolder.value\n",
    "print(experimentFolder)"
   ]
  },
  {
   "cell_type": "code",
   "execution_count": 6,
   "metadata": {},
   "outputs": [
    {
     "name": "stdout",
     "output_type": "stream",
     "text": [
      "Learners amount is  3\n"
     ]
    }
   ],
   "source": [
    "# amount of folders named \"workerN\" is amount of local learners\n",
    "# be careful when running interactively, folders are not created right away - just when the learner is initialized\n",
    "nodesAmount = 0\n",
    "dirs = [d for d in os.listdir(experimentFolder) if os.path.isdir(os.path.join(experimentFolder,d))]\n",
    "for d in dirs:\n",
    "    if 'worker' in d:\n",
    "        nodesAmount += 1\n",
    "print(\"Learners amount is \", str(nodesAmount))"
   ]
  },
  {
   "cell_type": "code",
   "execution_count": 7,
   "metadata": {},
   "outputs": [],
   "source": [
    "# get zero timestamp, i.e., beginning of the experiment\n",
    "expSummary = open(os.path.join(experimentFolder,\"summary.txt\")).read()\n",
    "for l in expSummary.split(\"\\n\"):\n",
    "    if \"Start\" in l:\n",
    "        startTimestamp = float(l.split(\"\\t\")[-1][:-1])\n",
    "        break"
   ]
  },
  {
   "cell_type": "code",
   "execution_count": 8,
   "metadata": {},
   "outputs": [],
   "source": [
    "# take only coordinator communication logs, since workers communication logs duplicate them with opposite direction\n",
    "files = []\n",
    "for f in os.listdir(os.path.join(experimentFolder, \"coordinator\", \"communication\")):\n",
    "    files.append(open(os.path.join(experimentFolder, \"coordinator\", \"communication\", f), \"r\"))"
   ]
  },
  {
   "cell_type": "code",
   "execution_count": 9,
   "metadata": {},
   "outputs": [],
   "source": [
    "# setup of the plots saving\n",
    "displayStep = 1\n",
    "recordStep = 1\n",
    "recordUnique = False\n",
    "uniqueImageCounter = 0\n",
    "# draw a point for every second of experiment time\n",
    "frequencyStep = 10"
   ]
  },
  {
   "cell_type": "code",
   "execution_count": null,
   "metadata": {},
   "outputs": [
    {
     "data": {
      "image/png": "[encoded data removed]",
      "text/plain": [
       "<Figure size 1152x576 with 1 Axes>"
      ]
     },
     "metadata": {
      "needs_background": "light"
     },
     "output_type": "display_data"
    }
   ],
   "source": [
    "# we have zero communication at the beginning\n",
    "plot = [0]\n",
    "change = False\n",
    "while True:\n",
    "    for f in files:\n",
    "        where = f.tell()\n",
    "        line = f.readline()\n",
    "        if line:\n",
    "            change = True\n",
    "            parsedLine = line.split(\"\\t\")\n",
    "            lineTimestamp = float(parsedLine[0])\n",
    "            # identify to which point in time this line will go\n",
    "            xPoint = math.ceil((lineTimestamp - startTimestamp) / frequencyStep)\n",
    "            # the send_model log has only 4 elements in line since the learner ids to whom\n",
    "            # the model was sent are written in the topic, i.e., newModel.0.1.2\n",
    "            # that is why we need to multiply the size of this message by the amount of learners in the topic\n",
    "            if len(parsedLine) == 5:\n",
    "                messagesAmount = parsedLine[2].count(\".\")\n",
    "                messageSize = float(parsedLine[3]) * messagesAmount\n",
    "            else:\n",
    "                messageSize = float(parsedLine[4])\n",
    "            # if we do not yet have this point on our axis - add it and all the previous ones\n",
    "            # the value on all the new points is saved from the last position\n",
    "            if len(plot) < xPoint:\n",
    "                for i in range(xPoint - len(plot)):\n",
    "                    plot.append(plot[-1])\n",
    "            # now add the message size to all the points that are after the position of this message\n",
    "            # this can possibly lead to \"bumps\" on how the plot is growing, but it is the way\n",
    "            # to read all the files while they are being created\n",
    "            for i in range(len(plot) - xPoint):\n",
    "                plot[xPoint + i] += messageSize\n",
    "          \n",
    "    # do not need to call plotting if no new lines were read\n",
    "    if not change:\n",
    "        time.sleep(1)\n",
    "        continue\n",
    "    \n",
    "    change = False\n",
    "    if len(plot) % displayStep == 0:\n",
    "        clear_output(wait=True)\n",
    "        fig = plt.figure()\n",
    "        plt.plot(range(len(plot)), plot, label='Cumulative Communication', color='blue')\n",
    "        plt.legend(loc='upper left')\n",
    "        plt.xlabel(\"Time (every \" + str(frequencyStep) + \"s)\")\n",
    "        plt.ylabel(\"Cumulative Messages Size (bytes)\")\n",
    "        plt.grid()\n",
    "        plt.show()\n",
    "    if len(plot) % recordStep == 0:\n",
    "        if recordUnique:\n",
    "            fig.savefig(os.path.join(experimentFolder, \n",
    "                                     'cumulative_communication' + str(uniqueImageCounter) + '.png'), dpi=100)\n",
    "            uniqueImageCounter += 1\n",
    "        else:\n",
    "            fig.savefig(os.path.join(experimentFolder, 'cumulative_communication.png'), dpi=100)           "
   ]
  },
  {
   "cell_type": "code",
   "execution_count": null,
   "metadata": {},
   "outputs": [],
   "source": [
    "for file in files:\n",
    "    file.close()"
   ]
  },
  {
   "cell_type": "code",
   "execution_count": null,
   "metadata": {
    "collapsed": true,
    "jupyter": {
     "outputs_hidden": true
    }
   },
   "outputs": [],
   "source": []
  }
 ],
 "metadata": {
  "anaconda-cloud": {},
  "kernelspec": {
   "display_name": "Python 3",
   "language": "python",
   "name": "python3"
  },
  "language_info": {
   "codemirror_mode": {
    "name": "ipython",
    "version": 3
   },
   "file_extension": ".py",
   "mimetype": "text/x-python",
   "name": "python",
   "nbconvert_exporter": "python",
   "pygments_lexer": "ipython3",
   "version": "3.8.3"
  }
 },
 "nbformat": 4,
 "nbformat_minor": 4
}

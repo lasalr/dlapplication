{
 "cells": [
  {
   "cell_type": "markdown",
   "metadata": {},
   "source": [
    "# Cumulative Loss VS Cumulative Communication"
   ]
  },
  {
   "cell_type": "code",
   "execution_count": 12,
   "metadata": {},
   "outputs": [],
   "source": [
    "import matplotlib\n",
    "import numpy as np\n",
    "import matplotlib.pyplot as plt\n",
    "%matplotlib inline \n",
    "import ipywidgets as widgets\n",
    "from ipywidgets import Layout\n",
    "import os\n",
    "import operator"
   ]
  },
  {
   "cell_type": "code",
   "execution_count": 13,
   "metadata": {},
   "outputs": [],
   "source": [
    "plt.rcParams[\"figure.figsize\"] = (16,8)"
   ]
  },
  {
   "cell_type": "code",
   "execution_count": 14,
   "metadata": {},
   "outputs": [
    {
     "data": {
      "application/vnd.jupyter.widget-view+json": {
       "model_id": "f577686ffd3445c683c9e582f254371a",
       "version_major": 2,
       "version_minor": 0
      },
      "text/plain": [
       "SelectMultiple(description='Experiments:', layout=Layout(width='550px'), options=('.ipynb_checkpoints', 'Radon…"
      ]
     },
     "metadata": {},
     "output_type": "display_data"
    }
   ],
   "source": [
    "dirs = [d for d in sorted(os.listdir('.')) if os.path.isdir(d)]\n",
    "wFolders = widgets.SelectMultiple(\n",
    "    options=dirs,\n",
    "    #value=['Oranges'],\n",
    "    rows=10,\n",
    "    description='Experiments:',\n",
    "    disabled=False,\n",
    "    layout=Layout(width='550px')\n",
    ")\n",
    "display(wFolders)"
   ]
  },
  {
   "cell_type": "code",
   "execution_count": 15,
   "metadata": {},
   "outputs": [],
   "source": [
    "experimentFolders = list(wFolders.value)"
   ]
  },
  {
   "cell_type": "code",
   "execution_count": 16,
   "metadata": {},
   "outputs": [
    {
     "name": "stdout",
     "output_type": "stream",
     "text": [
      "{'RadonMachine_test_2020-08-10_10-08-20': ['Aggregation-at-the-end synchronization']}\n"
     ]
    }
   ],
   "source": [
    "# collect descriptions of experiments\n",
    "experiments = {}\n",
    "for d in experimentFolders:\n",
    "    expSummary = open(os.path.join(d,\"summary.txt\")).read()\n",
    "    for l in expSummary.split(\"\\n\"):\n",
    "        if \"Sync:\" in l:\n",
    "            sync = l.split(\"\\t\")[-1]\n",
    "        elif \"Learner:\" in l:\n",
    "            learnerSpec = l.split(\"\\t\")[-1]\n",
    "        elif \"Number of Nodes:\" in l:\n",
    "            nodesNumber = int(l.split(\"\\t\")[-1])\n",
    "    # form description of the synchronization method in the experiment\n",
    "    for e in learnerSpec.split(\",\"):\n",
    "        if \"batchSize\" in e:\n",
    "            batchSize = int(e.replace(\")\",\"\").replace(\"(\",\"\").split(\"=\")[-1])\n",
    "        elif \"syncPeriod\" in e:\n",
    "            syncPeriod = int(e.replace(\")\",\"\").replace(\"(\",\"\").split(\"=\")[-1])\n",
    "        elif \"delta\" in e:\n",
    "            delta = e.replace(\")\",\"\").replace(\"(\",\"\").split(\"=\")[-1]\n",
    "            if 'None' in delta:\n",
    "                delta = None\n",
    "            else:\n",
    "                delta = float(delta)\n",
    "    if nodesNumber == 1:\n",
    "        sync = \"serial (B=\" + str(batchSize) + \")\"\n",
    "    elif \"Dynamic\" in sync:\n",
    "        if \"hedge\" in sync:\n",
    "            sync = \"dynamic hedge\"\n",
    "        else:\n",
    "            sync = \"dynamic\"\n",
    "        sync += \" (B=\" + str(batchSize) + \", b=\" + str(syncPeriod) + \", $\\Delta$=\" + str(delta) + \")\"\n",
    "    elif \"Periodic\" in sync:\n",
    "        sync = \"periodic (B=\" + str(batchSize) + \", b=\" + str(syncPeriod) + \")\"\n",
    "    elif \"No sync\" in sync:\n",
    "        sync = \"no sync (B=\" + str(batchSize) + \")\"\n",
    "        \n",
    "    experiments[d] = [sync]\n",
    "print(experiments)"
   ]
  },
  {
   "cell_type": "code",
   "execution_count": 17,
   "metadata": {},
   "outputs": [
    {
     "name": "stdout",
     "output_type": "stream",
     "text": [
      "{'RadonMachine_test_2020-08-10_10-08-20': ['Aggregation-at-the-end synchronization', 3268.0]}\n"
     ]
    }
   ],
   "source": [
    "for d in experimentFolders:\n",
    "    cumulativeCommunication = 0\n",
    "    for f in os.listdir(os.path.join(d, \"coordinator\", \"communication\")):\n",
    "        f = open(os.path.join(d, \"coordinator\", \"communication\", f), \"r\")\n",
    "        for l in f.readlines():\n",
    "            parsedLine = l[:-1].split(\"\\t\")\n",
    "            if len(parsedLine) == 5:\n",
    "                messagesAmount = parsedLine[2].count(\".\")\n",
    "                cumulativeCommunication += float(parsedLine[3]) * messagesAmount\n",
    "            else:\n",
    "                cumulativeCommunication += float(parsedLine[4])\n",
    "        f.close()\n",
    "    experiments[d].append(cumulativeCommunication)\n",
    "print(experiments)"
   ]
  },
  {
   "cell_type": "code",
   "execution_count": 18,
   "metadata": {},
   "outputs": [
    {
     "name": "stdout",
     "output_type": "stream",
     "text": [
      "[('RadonMachine_test_2020-08-10_10-08-20', ['Aggregation-at-the-end synchronization', 3268.0, 2.0])]\n"
     ]
    }
   ],
   "source": [
    "for d in experimentFolders:\n",
    "    cumulativeLoss = 0\n",
    "    dirs = [wd for wd in os.listdir(d) if os.path.isdir(os.path.join(d,wd))]\n",
    "    for wd in dirs:\n",
    "        if 'worker' in wd:\n",
    "            f = open(os.path.join(d, wd, \"losses.txt\"), \"r\")\n",
    "            for l in f.readlines():\n",
    "                cumulativeLoss += float(l[:-1].split('\\t')[1])\n",
    "            f.close()\n",
    "    experiments[d].append(cumulativeLoss)\n",
    "experiments_dict = experiments\n",
    "experiments = sorted(experiments.items(), key=operator.itemgetter(1))\n",
    "print(experiments)"
   ]
  },
  {
   "cell_type": "code",
   "execution_count": 19,
   "metadata": {},
   "outputs": [
    {
     "ename": "NameError",
     "evalue": "name 'marker' is not defined",
     "output_type": "error",
     "traceback": [
      "\u001b[1;31m---------------------------------------------------------------------------\u001b[0m",
      "\u001b[1;31mNameError\u001b[0m                                 Traceback (most recent call last)",
      "\u001b[1;32m<ipython-input-19-607a6266d17e>\u001b[0m in \u001b[0;36m<module>\u001b[1;34m\u001b[0m\n\u001b[0;32m     10\u001b[0m         \u001b[1;32melif\u001b[0m \u001b[1;34m\"periodic\"\u001b[0m \u001b[1;32min\u001b[0m \u001b[0me\u001b[0m\u001b[1;33m[\u001b[0m\u001b[1;36m1\u001b[0m\u001b[1;33m]\u001b[0m\u001b[1;33m[\u001b[0m\u001b[1;36m0\u001b[0m\u001b[1;33m]\u001b[0m\u001b[1;33m:\u001b[0m\u001b[1;33m\u001b[0m\u001b[1;33m\u001b[0m\u001b[0m\n\u001b[0;32m     11\u001b[0m             \u001b[0mmarker\u001b[0m \u001b[1;33m=\u001b[0m \u001b[1;34m's'\u001b[0m\u001b[1;33m\u001b[0m\u001b[1;33m\u001b[0m\u001b[0m\n\u001b[1;32m---> 12\u001b[1;33m         \u001b[0mplt\u001b[0m\u001b[1;33m.\u001b[0m\u001b[0mscatter\u001b[0m\u001b[1;33m(\u001b[0m\u001b[0me\u001b[0m\u001b[1;33m[\u001b[0m\u001b[1;36m1\u001b[0m\u001b[1;33m]\u001b[0m\u001b[1;33m[\u001b[0m\u001b[1;36m1\u001b[0m\u001b[1;33m]\u001b[0m\u001b[1;33m,\u001b[0m \u001b[0me\u001b[0m\u001b[1;33m[\u001b[0m\u001b[1;36m1\u001b[0m\u001b[1;33m]\u001b[0m\u001b[1;33m[\u001b[0m\u001b[1;36m2\u001b[0m\u001b[1;33m]\u001b[0m\u001b[1;33m,\u001b[0m \u001b[0mlabel\u001b[0m \u001b[1;33m=\u001b[0m \u001b[0me\u001b[0m\u001b[1;33m[\u001b[0m\u001b[1;36m1\u001b[0m\u001b[1;33m]\u001b[0m\u001b[1;33m[\u001b[0m\u001b[1;36m0\u001b[0m\u001b[1;33m]\u001b[0m\u001b[1;33m,\u001b[0m \u001b[0mmarker\u001b[0m \u001b[1;33m=\u001b[0m \u001b[0mmarker\u001b[0m\u001b[1;33m,\u001b[0m \u001b[0ms\u001b[0m \u001b[1;33m=\u001b[0m \u001b[1;36m400\u001b[0m\u001b[1;33m,\u001b[0m \u001b[0malpha\u001b[0m \u001b[1;33m=\u001b[0m \u001b[1;36m0.7\u001b[0m\u001b[1;33m)\u001b[0m\u001b[1;33m\u001b[0m\u001b[1;33m\u001b[0m\u001b[0m\n\u001b[0m\u001b[0;32m     13\u001b[0m \u001b[0mplt\u001b[0m\u001b[1;33m.\u001b[0m\u001b[0mylabel\u001b[0m\u001b[1;33m(\u001b[0m\u001b[1;34m\"Cumulative Loss\"\u001b[0m\u001b[1;33m)\u001b[0m\u001b[1;33m\u001b[0m\u001b[1;33m\u001b[0m\u001b[0m\n\u001b[0;32m     14\u001b[0m \u001b[0mplt\u001b[0m\u001b[1;33m.\u001b[0m\u001b[0mxlabel\u001b[0m\u001b[1;33m(\u001b[0m\u001b[1;34m\"Cumulative Communication (bytes)\"\u001b[0m\u001b[1;33m)\u001b[0m\u001b[1;33m\u001b[0m\u001b[1;33m\u001b[0m\u001b[0m\n",
      "\u001b[1;31mNameError\u001b[0m: name 'marker' is not defined"
     ]
    },
    {
     "data": {
      "text/plain": [
       "<Figure size 1152x576 with 0 Axes>"
      ]
     },
     "metadata": {},
     "output_type": "display_data"
    }
   ],
   "source": [
    "fig = plt.figure()\n",
    "for e in experiments:\n",
    "    if \"no sync\" in e[1][0]:\n",
    "        plt.axhline(e[1][2], color = 'black', linestyle = '-', label = e[1][0])\n",
    "    elif \"serial\" in e[1][0]:\n",
    "        plt.axhline(e[1][2], color = 'black', linestyle = '-.', label = e[1][0])\n",
    "    else:\n",
    "        if \"dynamic\" in e[1][0]:\n",
    "            marker = '*'\n",
    "        elif \"periodic\" in e[1][0]:\n",
    "            marker = 's'\n",
    "        plt.scatter(e[1][1], e[1][2], label = e[1][0], marker = marker, s = 400, alpha = 0.7)\n",
    "plt.ylabel(\"Cumulative Loss\")\n",
    "plt.xlabel(\"Cumulative Communication (bytes)\")\n",
    "plt.grid(True)\n",
    "plt.legend(loc='center left', bbox_to_anchor=(1.0, 0.6), markerscale = 0.35)\n",
    "plt.show()\n",
    "\n",
    "fig.savefig('performance.png', dpi=100, bbox_inches='tight')"
   ]
  },
  {
   "cell_type": "markdown",
   "metadata": {},
   "source": [
    "Way to display driving evaluation"
   ]
  },
  {
   "cell_type": "code",
   "execution_count": 20,
   "metadata": {},
   "outputs": [
    {
     "ename": "KeyError",
     "evalue": "'deepDrivingExp_2018-12-04 09-45-56'",
     "output_type": "error",
     "traceback": [
      "\u001b[1;31m---------------------------------------------------------------------------\u001b[0m",
      "\u001b[1;31mKeyError\u001b[0m                                  Traceback (most recent call last)",
      "\u001b[1;32m<ipython-input-20-0d7809534f5a>\u001b[0m in \u001b[0;36m<module>\u001b[1;34m\u001b[0m\n\u001b[1;32m----> 1\u001b[1;33m \u001b[0mexperiments_dict\u001b[0m\u001b[1;33m[\u001b[0m\u001b[1;34m'deepDrivingExp_2018-12-04 09-45-56'\u001b[0m\u001b[1;33m]\u001b[0m\u001b[1;33m[\u001b[0m\u001b[1;36m2\u001b[0m\u001b[1;33m]\u001b[0m \u001b[1;33m=\u001b[0m \u001b[1;36m1\u001b[0m\u001b[1;33m\u001b[0m\u001b[1;33m\u001b[0m\u001b[0m\n\u001b[0m\u001b[0;32m      2\u001b[0m \u001b[0mexperiments_dict\u001b[0m\u001b[1;33m.\u001b[0m\u001b[0mpop\u001b[0m\u001b[1;33m(\u001b[0m\u001b[1;34m'deepDrivingExp_2018-12-04 12-25-34'\u001b[0m\u001b[1;33m)\u001b[0m\u001b[1;33m\u001b[0m\u001b[1;33m\u001b[0m\u001b[0m\n",
      "\u001b[1;31mKeyError\u001b[0m: 'deepDrivingExp_2018-12-04 09-45-56'"
     ]
    }
   ],
   "source": [
    "experiments_dict['deepDrivingExp_2018-12-04 09-45-56'][2] = 1\n",
    "experiments_dict.pop('deepDrivingExp_2018-12-04 12-25-34')"
   ]
  },
  {
   "cell_type": "code",
   "execution_count": 21,
   "metadata": {},
   "outputs": [
    {
     "ename": "NameError",
     "evalue": "name 'marker' is not defined",
     "output_type": "error",
     "traceback": [
      "\u001b[1;31m---------------------------------------------------------------------------\u001b[0m",
      "\u001b[1;31mNameError\u001b[0m                                 Traceback (most recent call last)",
      "\u001b[1;32m<ipython-input-21-ffaa50fb4b66>\u001b[0m in \u001b[0;36m<module>\u001b[1;34m\u001b[0m\n\u001b[0;32m     12\u001b[0m         \u001b[1;32melif\u001b[0m \u001b[1;34m\"periodic\"\u001b[0m \u001b[1;32min\u001b[0m \u001b[0me\u001b[0m\u001b[1;33m[\u001b[0m\u001b[1;36m1\u001b[0m\u001b[1;33m]\u001b[0m\u001b[1;33m[\u001b[0m\u001b[1;36m0\u001b[0m\u001b[1;33m]\u001b[0m\u001b[1;33m:\u001b[0m\u001b[1;33m\u001b[0m\u001b[1;33m\u001b[0m\u001b[0m\n\u001b[0;32m     13\u001b[0m             \u001b[0mmarker\u001b[0m \u001b[1;33m=\u001b[0m \u001b[1;34m's'\u001b[0m\u001b[1;33m\u001b[0m\u001b[1;33m\u001b[0m\u001b[0m\n\u001b[1;32m---> 14\u001b[1;33m         \u001b[0mplt\u001b[0m\u001b[1;33m.\u001b[0m\u001b[0mscatter\u001b[0m\u001b[1;33m(\u001b[0m\u001b[0me\u001b[0m\u001b[1;33m[\u001b[0m\u001b[1;36m1\u001b[0m\u001b[1;33m]\u001b[0m\u001b[1;33m[\u001b[0m\u001b[1;36m1\u001b[0m\u001b[1;33m]\u001b[0m\u001b[1;33m,\u001b[0m \u001b[0me\u001b[0m\u001b[1;33m[\u001b[0m\u001b[1;36m1\u001b[0m\u001b[1;33m]\u001b[0m\u001b[1;33m[\u001b[0m\u001b[1;36m2\u001b[0m\u001b[1;33m]\u001b[0m\u001b[1;33m,\u001b[0m \u001b[0mlabel\u001b[0m \u001b[1;33m=\u001b[0m \u001b[0me\u001b[0m\u001b[1;33m[\u001b[0m\u001b[1;36m1\u001b[0m\u001b[1;33m]\u001b[0m\u001b[1;33m[\u001b[0m\u001b[1;36m0\u001b[0m\u001b[1;33m]\u001b[0m\u001b[1;33m,\u001b[0m \u001b[0mmarker\u001b[0m \u001b[1;33m=\u001b[0m \u001b[0mmarker\u001b[0m\u001b[1;33m,\u001b[0m \u001b[0ms\u001b[0m \u001b[1;33m=\u001b[0m \u001b[1;36m400\u001b[0m\u001b[1;33m,\u001b[0m \u001b[0malpha\u001b[0m \u001b[1;33m=\u001b[0m \u001b[1;36m0.7\u001b[0m\u001b[1;33m)\u001b[0m\u001b[1;33m\u001b[0m\u001b[1;33m\u001b[0m\u001b[0m\n\u001b[0m\u001b[0;32m     15\u001b[0m \u001b[0mplt\u001b[0m\u001b[1;33m.\u001b[0m\u001b[0mylabel\u001b[0m\u001b[1;33m(\u001b[0m\u001b[1;34m\"Cumulative Loss\"\u001b[0m\u001b[1;33m)\u001b[0m\u001b[1;33m\u001b[0m\u001b[1;33m\u001b[0m\u001b[0m\n\u001b[0;32m     16\u001b[0m \u001b[0mplt\u001b[0m\u001b[1;33m.\u001b[0m\u001b[0mxlabel\u001b[0m\u001b[1;33m(\u001b[0m\u001b[1;34m\"Cumulative Communication (bytes)\"\u001b[0m\u001b[1;33m)\u001b[0m\u001b[1;33m\u001b[0m\u001b[1;33m\u001b[0m\u001b[0m\n",
      "\u001b[1;31mNameError\u001b[0m: name 'marker' is not defined"
     ]
    },
    {
     "data": {
      "text/plain": [
       "<Figure size 1152x576 with 0 Axes>"
      ]
     },
     "metadata": {},
     "output_type": "display_data"
    }
   ],
   "source": [
    "experiments = sorted(experiments_dict.items(), key=operator.itemgetter(1))\n",
    "\n",
    "fig = plt.figure()\n",
    "for e in experiments:\n",
    "    if \"no sync\" in e[1][0]:\n",
    "        plt.axhline(e[1][2], color = 'black', linestyle = '-', label = e[1][0])\n",
    "    elif \"serial\" in e[1][0]:\n",
    "        plt.axhline(e[1][2], color = 'black', linestyle = '-.', label = e[1][0])\n",
    "    else:\n",
    "        if \"dynamic\" in e[1][0]:\n",
    "            marker = '*'\n",
    "        elif \"periodic\" in e[1][0]:\n",
    "            marker = 's'\n",
    "        plt.scatter(e[1][1], e[1][2], label = e[1][0], marker = marker, s = 400, alpha = 0.7)\n",
    "plt.ylabel(\"Cumulative Loss\")\n",
    "plt.xlabel(\"Cumulative Communication (bytes)\")\n",
    "plt.grid(True)\n",
    "plt.legend(loc='center left', bbox_to_anchor=(1.0, 0.6), markerscale = 0.35)\n",
    "plt.show()"
   ]
  },
  {
   "cell_type": "code",
   "execution_count": null,
   "metadata": {},
   "outputs": [],
   "source": []
  },
  {
   "cell_type": "code",
   "execution_count": null,
   "metadata": {},
   "outputs": [],
   "source": []
  }
 ],
 "metadata": {
  "anaconda-cloud": {},
  "kernelspec": {
   "display_name": "Python 3",
   "language": "python",
   "name": "python3"
  },
  "language_info": {
   "codemirror_mode": {
    "name": "ipython",
    "version": 3
   },
   "file_extension": ".py",
   "mimetype": "text/x-python",
   "name": "python",
   "nbconvert_exporter": "python",
   "pygments_lexer": "ipython3",
   "version": "3.8.3"
  }
 },
 "nbformat": 4,
 "nbformat_minor": 4
}

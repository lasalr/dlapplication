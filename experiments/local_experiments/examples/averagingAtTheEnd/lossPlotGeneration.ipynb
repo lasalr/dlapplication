{
 "cells": [
  {
   "cell_type": "markdown",
   "metadata": {},
   "source": [
    "# Loss Development"
   ]
  },
  {
   "cell_type": "code",
   "execution_count": 1,
   "metadata": {},
   "outputs": [],
   "source": [
    "import matplotlib\n",
    "import numpy as np\n",
    "import matplotlib.pyplot as plt\n",
    "%matplotlib inline \n",
    "import time\n",
    "from IPython.display import clear_output\n",
    "import ipywidgets as widgets\n",
    "import os\n",
    "import math\n",
    "from collections import OrderedDict"
   ]
  },
  {
   "cell_type": "code",
   "execution_count": 2,
   "metadata": {},
   "outputs": [],
   "source": [
    "plt.rcParams[\"figure.figsize\"] = (16,8)"
   ]
  },
  {
   "cell_type": "code",
   "execution_count": 3,
   "metadata": {},
   "outputs": [],
   "source": [
    "def movingAverage(a, n=3) :\n",
    "    ret = np.cumsum(a, dtype=float)\n",
    "    ret[n:] = ret[n:] - ret[:-n]\n",
    "    return ret / n"
   ]
  },
  {
   "cell_type": "code",
   "execution_count": 4,
   "metadata": {},
   "outputs": [
    {
     "data": {
      "application/vnd.jupyter.widget-view+json": {
       "model_id": "c2439898fa964ece958e7ab068d0fb6c",
       "version_major": 2,
       "version_minor": 0
      },
      "text/plain": [
       "Dropdown(description='Experiment:', options=('.ipynb_checkpoints', 'RadonMachine_test_2020-07-27_21-30-02', 'R…"
      ]
     },
     "metadata": {},
     "output_type": "display_data"
    }
   ],
   "source": [
    "dirs = [d for d in sorted(os.listdir('.')) if os.path.isdir(d)]\n",
    "wFolder = widgets.Dropdown(\n",
    "    options=dirs,\n",
    "    description='Experiment:',\n",
    ")\n",
    "display(wFolder)"
   ]
  },
  {
   "cell_type": "code",
   "execution_count": 6,
   "metadata": {},
   "outputs": [
    {
     "name": "stdout",
     "output_type": "stream",
     "text": [
      "RadonMachine_test_2020-08-10_10-08-20\n"
     ]
    }
   ],
   "source": [
    "experimentFolder = wFolder.value\n",
    "print(experimentFolder)"
   ]
  },
  {
   "cell_type": "code",
   "execution_count": 7,
   "metadata": {},
   "outputs": [
    {
     "name": "stdout",
     "output_type": "stream",
     "text": [
      "Learners amount is  2\n"
     ]
    }
   ],
   "source": [
    "nodesAmount = 0\n",
    "dirs = [d for d in os.listdir(experimentFolder) if os.path.isdir(os.path.join(experimentFolder,d))]\n",
    "for d in dirs:\n",
    "    if 'worker' in d:\n",
    "        nodesAmount += 1\n",
    "print(\"Learners amount is \", str(nodesAmount))"
   ]
  },
  {
   "cell_type": "markdown",
   "metadata": {},
   "source": [
    "## Mean Loss Development Aligned by Amount of Examples Seen"
   ]
  },
  {
   "cell_type": "code",
   "execution_count": 8,
   "metadata": {},
   "outputs": [],
   "source": [
    "displayStep = 100\n",
    "# should be larger or equal to displayStep or it will just record same image several times\n",
    "recordStep = 100\n",
    "recordUnique = False\n",
    "useMovingAverage = True\n",
    "movingAverageWindow = 100"
   ]
  },
  {
   "cell_type": "code",
   "execution_count": null,
   "metadata": {},
   "outputs": [],
   "source": [
    "files = []\n",
    "losses = []\n",
    "for i in range(nodesAmount):\n",
    "    files.append(open(os.path.join(experimentFolder, \"worker\" + str(i), \"losses.txt\"), \"r\"))\n",
    "    losses.append([])\n",
    "    \n",
    "t = [0]\n",
    "commonStep = 0\n",
    "count = 0\n",
    "\n",
    "while 1:\n",
    "    for i in range(nodesAmount):\n",
    "        file = files[i]\n",
    "        where = file.tell()\n",
    "        line = file.readline()\n",
    "        if not line:\n",
    "            time.sleep(1)\n",
    "            file.seek(where)\n",
    "        else:\n",
    "            count += 1\n",
    "            losses[i].append(float(line[:-1].split('\\t')[1]))            \n",
    "    currentStep = min([len(l) for l in losses])\n",
    "    if currentStep > commonStep:\n",
    "        commonStep = currentStep\n",
    "        if commonStep % displayStep == 0:\n",
    "            clear_output(wait=True)\n",
    "            cutLosses = [l[:commonStep] for l in losses]\n",
    "            mu = np.array(cutLosses).mean(axis=0)\n",
    "            sigma = np.array(cutLosses).std(axis=0)\n",
    "            fig = plt.figure()\n",
    "            plt.plot(t, mu, lw=2, label='Mean Loss', color='red')\n",
    "            plt.ylabel(\"Loss\")\n",
    "            plt.xlabel(\"# Batches per Learner\")\n",
    "            plt.fill_between(t, mu+sigma, mu-sigma, facecolor='red', alpha=0.5)\n",
    "            if useMovingAverage and len(mu) > movingAverageWindow:\n",
    "                muMA = movingAverage(mu, movingAverageWindow)\n",
    "                plt.plot(t[movingAverageWindow:], muMA[movingAverageWindow:], lw=2, label='Moving Average-' + str(movingAverageWindow) + ' (mean loss)', \n",
    "                         color='orange')\n",
    "            plt.legend(loc='upper center')\n",
    "            plt.grid()\n",
    "            plt.show()\n",
    "        t.append(t[-1] + 1)        \n",
    "        if commonStep % recordStep == 0:\n",
    "            if recordUnique:\n",
    "                fig.savefig(os.path.join(experimentFolder, 'loss' + str(commonStep) + '.png'), dpi=100)\n",
    "            else:\n",
    "                fig.savefig(os.path.join(experimentFolder, 'loss.png'), dpi=100)"
   ]
  },
  {
   "cell_type": "code",
   "execution_count": null,
   "metadata": {},
   "outputs": [],
   "source": [
    "for file in files:\n",
    "    file.close()"
   ]
  },
  {
   "cell_type": "markdown",
   "metadata": {},
   "source": [
    "## Loss Development per Learner"
   ]
  },
  {
   "cell_type": "code",
   "execution_count": null,
   "metadata": {},
   "outputs": [],
   "source": [
    "displayStep = 1000\n",
    "recordStep = 1000\n",
    "recordUnique = False"
   ]
  },
  {
   "cell_type": "code",
   "execution_count": null,
   "metadata": {},
   "outputs": [],
   "source": [
    "files = []\n",
    "losses = []\n",
    "for i in range(nodesAmount):\n",
    "    files.append(open(os.path.join(experimentFolder, \"worker\" + str(i), \"losses.txt\"), \"r\"))\n",
    "    losses.append([])\n",
    "t = [0]\n",
    "commonStep = 0\n",
    "\n",
    "figs = []\n",
    "while 1:\n",
    "    for i in range(nodesAmount):\n",
    "        file = files[i]\n",
    "        where = file.tell()\n",
    "        line = file.readline()\n",
    "        if not line:\n",
    "            time.sleep(1)\n",
    "            file.seek(where)\n",
    "        else:\n",
    "            losses[i].append(float(line[:-1].split('\\t')[1]))\n",
    "    currentStep = min([len(l) for l in losses])\n",
    "    if currentStep > commonStep:\n",
    "        commonStep = currentStep\n",
    "        if commonStep % displayStep == 0:\n",
    "            clear_output(wait=True)\n",
    "            cutLosses = [l[:commonStep] for l in losses]\n",
    "            figs = []\n",
    "            for i in range(nodesAmount):\n",
    "                figs.append(plt.figure())\n",
    "                plt.plot(t, cutLosses[i], lw=2, label='Loss Learner ' + str(i), color='red')\n",
    "                plt.legend(loc='upper center')\n",
    "                plt.ylabel(\"Loss\")\n",
    "                plt.xlabel(\"# Batches\")\n",
    "                plt.grid()\n",
    "                # was used for video - not to change size of the plot and not to display ticks\n",
    "                #plt.xlim(0,260)\n",
    "                #plt.ylim(0,0.15)\n",
    "                #plt.tick_params(colors=(0,0,0,0))\n",
    "                plt.show()\n",
    "        t.append(t[-1] + 1)\n",
    "        if commonStep % recordStep == 0:\n",
    "            j = 0\n",
    "            for fig in figs:\n",
    "                if recordUnique:\n",
    "                    fig.savefig(os.path.join(experimentFolder, \n",
    "                                             'loss_learner' + str(j) + '_' + str(commonStep) + '.png'), dpi=100)\n",
    "                else:\n",
    "                    fig.savefig(os.path.join(experimentFolder, 'loss_learner' + str(j) + '.png'), dpi=100)\n",
    "                j += 1"
   ]
  },
  {
   "cell_type": "code",
   "execution_count": null,
   "metadata": {},
   "outputs": [],
   "source": [
    "for file in files:\n",
    "    file.close()"
   ]
  },
  {
   "cell_type": "markdown",
   "metadata": {},
   "source": [
    "## Mean Loss Development Aligned by Time"
   ]
  },
  {
   "cell_type": "markdown",
   "metadata": {},
   "source": [
    "Here we have mean and deviation throught the whole system in some frequency step of time - not throughout local learners, but all the losses that occured during this time, i.e., it might be the case that one of the learners contributed more in current n seconds and the other less."
   ]
  },
  {
   "cell_type": "code",
   "execution_count": null,
   "metadata": {},
   "outputs": [],
   "source": [
    "# setup of the plots saving\n",
    "displayStep = 1\n",
    "recordStep = 1\n",
    "recordUnique = False\n",
    "uniqueImageCounter = 0\n",
    "# draw a point for every second of experiment time\n",
    "frequencyStep = 2\n",
    "displaySync = True"
   ]
  },
  {
   "cell_type": "code",
   "execution_count": null,
   "metadata": {},
   "outputs": [],
   "source": [
    "# get zero timestamp, i.e., beginning of the experiment\n",
    "expSummary = open(os.path.join(experimentFolder,\"summary.txt\")).read()\n",
    "for l in expSummary.split(\"\\n\"):\n",
    "    if \"Start\" in l:\n",
    "        startTimestamp = float(l.split(\"\\t\")[-1][:-1])\n",
    "        break"
   ]
  },
  {
   "cell_type": "code",
   "execution_count": null,
   "metadata": {},
   "outputs": [],
   "source": [
    "files = []\n",
    "for i in range(nodesAmount):\n",
    "    files.append(open(os.path.join(experimentFolder, \"worker\" + str(i), \"losses.txt\"), \"r\"))\n",
    "\n",
    "if displaySync:\n",
    "    syncFile = open(os.path.join(experimentFolder, \"coordinator\", \"communication\", \"send_model.txt\"), \"r\")\n",
    "\n",
    "plot = {}\n",
    "syncPoints = []\n",
    "change = False\n",
    "while True:\n",
    "    for f in files:\n",
    "        where = f.tell()\n",
    "        line = f.readline()\n",
    "        if line:\n",
    "            change = True\n",
    "            parsedLine = line[:-1].split(\"\\t\")\n",
    "            lineTimestamp = float(parsedLine[0])\n",
    "            # identify to which point in time this line will go\n",
    "            xPoint = math.ceil((lineTimestamp - startTimestamp) / frequencyStep)\n",
    "            loss = float(parsedLine[1])\n",
    "            if plot.get(xPoint) is None:\n",
    "                plot[xPoint] = [loss]\n",
    "            else:\n",
    "                plot[xPoint].append(loss)\n",
    "    if displaySync:\n",
    "        where = syncFile.tell()\n",
    "        line = syncFile.readline()\n",
    "        if line:\n",
    "            change = True\n",
    "            parsedLine = line[:-1].split(\"\\t\")\n",
    "            lineTimestamp = float(parsedLine[0])\n",
    "            # if model was sent only to one learner it is not a synchronization\n",
    "            if parsedLine[2].count(\".\") > 1:\n",
    "                syncPoints.append(math.ceil((lineTimestamp - startTimestamp) / frequencyStep))\n",
    "          \n",
    "    # do not need to call plotting if no new lines were read\n",
    "    if not change:\n",
    "        time.sleep(1)\n",
    "        continue\n",
    "    \n",
    "    change = False\n",
    "    if len(plot) % displayStep == 0:\n",
    "        clear_output(wait=True)\n",
    "        fig = plt.figure()\n",
    "        orderedPlot = OrderedDict(sorted(plot.items(), key=lambda t: t[0]))\n",
    "        mu = np.array([np.array(v).mean() for v in list(orderedPlot.values())])\n",
    "        sigma = np.array([np.array(v).std() for v in list(orderedPlot.values())])\n",
    "        plt.plot(list(orderedPlot.keys()), mu, lw=2, label='Mean Loss', color='red')\n",
    "        if displaySync:\n",
    "            displayedSyncs = [p for p in syncPoints if p < max(list(orderedPlot.keys()))]\n",
    "            syncValues = []\n",
    "            for s in displayedSyncs:\n",
    "                if orderedPlot.get(s) is None:\n",
    "                    val = orderedPlot.get(s, orderedPlot[min(orderedPlot.keys(), key=lambda k: abs(k-s))])\n",
    "                    syncValues.append(np.array(val).mean())\n",
    "                    #syncValues.append(np.array(next(iter(orderedPlot.items()))[1]).mean())\n",
    "                else:\n",
    "                    syncValues.append(np.array(orderedPlot[s]).mean())\n",
    "            plt.scatter(displayedSyncs, syncValues, color='blue', alpha=0.6, lw=5, s=2500, marker='|')\n",
    "        plt.fill_between(list(orderedPlot.keys()), mu+sigma, mu-sigma, facecolor='red', alpha=0.5)\n",
    "        plt.legend(loc='upper center')\n",
    "        plt.xlabel(\"Time (every \" + str(frequencyStep) + \"s)\")\n",
    "        plt.ylabel(\"Mean Loss\")\n",
    "        plt.ylim(ymax=0.205)\n",
    "        plt.grid()\n",
    "        plt.show()\n",
    "    if len(plot) % recordStep == 0:\n",
    "        if recordUnique:\n",
    "            fig.savefig(os.path.join(experimentFolder, \n",
    "                                     'loss_time' + str(uniqueImageCounter) + '.png'), dpi=100)\n",
    "            uniqueImageCounter += 1\n",
    "        else:\n",
    "            fig.savefig(os.path.join(experimentFolder, 'loss_time.png'), dpi=100)        "
   ]
  },
  {
   "cell_type": "code",
   "execution_count": null,
   "metadata": {},
   "outputs": [],
   "source": [
    "for file in files:\n",
    "    file.close()\n",
    "\n",
    "if displaySync:\n",
    "    syncFile.close()"
   ]
  },
  {
   "cell_type": "code",
   "execution_count": null,
   "metadata": {},
   "outputs": [],
   "source": []
  }
 ],
 "metadata": {
  "anaconda-cloud": {},
  "kernelspec": {
   "display_name": "Python 3",
   "language": "python",
   "name": "python3"
  },
  "language_info": {
   "codemirror_mode": {
    "name": "ipython",
    "version": 3
   },
   "file_extension": ".py",
   "mimetype": "text/x-python",
   "name": "python",
   "nbconvert_exporter": "python",
   "pygments_lexer": "ipython3",
   "version": "3.8.3"
  }
 },
 "nbformat": 4,
 "nbformat_minor": 4
}

{
 "cells": [
  {
   "cell_type": "markdown",
   "metadata": {},
   "source": [
    "# Accuracy"
   ]
  },
  {
   "cell_type": "code",
   "execution_count": 1,
   "metadata": {},
   "outputs": [],
   "source": [
    "import matplotlib\n",
    "import numpy as np\n",
    "import matplotlib.pyplot as plt\n",
    "%matplotlib inline \n",
    "import time\n",
    "from IPython.display import clear_output\n",
    "import ipywidgets as widgets\n",
    "import os\n",
    "import math"
   ]
  },
  {
   "cell_type": "code",
   "execution_count": 2,
   "metadata": {},
   "outputs": [],
   "source": [
    "plt.rcParams[\"figure.figsize\"] = (16,8)"
   ]
  },
  {
   "cell_type": "code",
   "execution_count": 3,
   "metadata": {},
   "outputs": [],
   "source": [
    "def checkPrediction(prediction, label):\n",
    "    correctness = 0\n",
    "    if len(label) == 1 and len(prediction) == 1:\n",
    "        correctness = int(abs(label[0] - prediction[0]) < 0.1)\n",
    "    elif len(label) == 1 and len(prediction) != 1:\n",
    "        correctness = int(label[0] == np.argmax(prediction))\n",
    "    elif len(label) != 1 and len(prediction) != 1:\n",
    "        correctness = int(np.argmax(label) == np.argmax(prediction))\n",
    "    return correctness"
   ]
  },
  {
   "cell_type": "code",
   "execution_count": 4,
   "metadata": {},
   "outputs": [
    {
     "data": {
      "application/vnd.jupyter.widget-view+json": {
       "model_id": "cad1081fecb24407a4595b70255e5648",
       "version_major": 2,
       "version_minor": 0
      },
      "text/plain": [
       "Dropdown(description='Experiment:', options=('.ipynb_checkpoints', 'RadonMachine_test_2020-07-27_21-30-02', 'R…"
      ]
     },
     "metadata": {},
     "output_type": "display_data"
    }
   ],
   "source": [
    "dirs = [d for d in sorted(os.listdir('.')) if os.path.isdir(d)]\n",
    "wFolder = widgets.Dropdown(\n",
    "    options=dirs,\n",
    "    description='Experiment:',\n",
    ")\n",
    "display(wFolder)"
   ]
  },
  {
   "cell_type": "code",
   "execution_count": 5,
   "metadata": {},
   "outputs": [
    {
     "name": "stdout",
     "output_type": "stream",
     "text": [
      "RadonMachine_test_2020-08-11_21-46-58\n"
     ]
    }
   ],
   "source": [
    "experimentFolder = wFolder.value\n",
    "print(experimentFolder)"
   ]
  },
  {
   "cell_type": "code",
   "execution_count": 6,
   "metadata": {},
   "outputs": [
    {
     "name": "stdout",
     "output_type": "stream",
     "text": [
      "Learners amount is  3\n"
     ]
    }
   ],
   "source": [
    "nodesAmount = 0\n",
    "dirs = [d for d in os.listdir(experimentFolder) if os.path.isdir(os.path.join(experimentFolder,d))]\n",
    "for d in dirs:\n",
    "    if 'worker' in d:\n",
    "        nodesAmount += 1\n",
    "print(\"Learners amount is \", str(nodesAmount))"
   ]
  },
  {
   "cell_type": "markdown",
   "metadata": {},
   "source": [
    "## Mean Accuracy Aligned by Amount of Examples Seen"
   ]
  },
  {
   "cell_type": "code",
   "execution_count": 7,
   "metadata": {},
   "outputs": [],
   "source": [
    "displayStep = 100000\n",
    "# should be larger or equal to displayStep or it will just record same image several times\n",
    "recordStep = 100000\n",
    "recordUnique = False"
   ]
  },
  {
   "cell_type": "code",
   "execution_count": null,
   "metadata": {},
   "outputs": [],
   "source": [
    "%matplotlib inline\n",
    "files = []\n",
    "correctSums = []\n",
    "accuracies = []\n",
    "for i in range(nodesAmount):\n",
    "    files.append(open(os.path.join(experimentFolder, \"worker\" + str(i), \"predictions.txt\"), \"r\"))\n",
    "    accuracies.append([0])\n",
    "    correctSums.append([0])\n",
    "t = [0]\n",
    "commonStep = 0\n",
    "\n",
    "while 1:\n",
    "    for i in range(nodesAmount):\n",
    "        file = files[i]\n",
    "        where = file.tell()\n",
    "        line = file.readline()\n",
    "        if not line:\n",
    "            time.sleep(1)\n",
    "            file.seek(where)\n",
    "        else:\n",
    "            pred = [float(x) for x in line[:-1].split('\\t')[1].split(',')]\n",
    "            label = [float(x) for x in line[:-1].split('\\t')[2].split(',')]\n",
    "            correctness = checkPrediction(pred, label)\n",
    "            correctSums[i].append(correctSums[i][-1] + correctness)\n",
    "            accuracies[i].append(correctSums[i][-1]*100.0/(commonStep+1))\n",
    "    currentStep = min([len(a) for a in accuracies])\n",
    "    if currentStep > commonStep:\n",
    "        commonStep = currentStep\n",
    "        if commonStep % displayStep == 0:\n",
    "            clear_output(wait=True)\n",
    "            cutAccuracies = [a[1:commonStep] for a in accuracies]\n",
    "            mu = np.array(cutAccuracies).mean(axis=0)\n",
    "            sigma = np.array(cutAccuracies).std(axis=0)\n",
    "            fig = plt.figure()\n",
    "            plt.plot(t, mu, lw=2, label='Mean Accuracy', color='green')\n",
    "            plt.fill_between(t, mu+sigma, mu-sigma, facecolor='green', alpha=0.5)\n",
    "            plt.legend(loc='lower center')\n",
    "            plt.xlabel(\"# Examples per Learner\")\n",
    "            plt.ylabel(\"Accuracy (percent)\")\n",
    "            plt.grid()\n",
    "            plt.show()\n",
    "        t.append(t[-1] + 1)\n",
    "        if commonStep % recordStep == 0:\n",
    "            if recordUnique:\n",
    "                fig.savefig(os.path.join(experimentFolder, 'accuracy' + str(commonStep) + '.png'), dpi=100)\n",
    "            else:\n",
    "                fig.savefig(os.path.join(experimentFolder, 'accuracy.png'), dpi=100)"
   ]
  },
  {
   "cell_type": "code",
   "execution_count": null,
   "metadata": {},
   "outputs": [],
   "source": [
    "for file in files:\n",
    "    file.close()"
   ]
  },
  {
   "cell_type": "markdown",
   "metadata": {},
   "source": [
    "## System Accuracy Aligned by Time"
   ]
  },
  {
   "cell_type": "markdown",
   "metadata": {},
   "source": [
    "There is not such thing as average accuracy aligned by time, until unless we are counting accuracy individually for each learner. So this plot does not have mean and deviation - it is just one line of development of accuracy for the whole system."
   ]
  },
  {
   "cell_type": "code",
   "execution_count": null,
   "metadata": {},
   "outputs": [],
   "source": [
    "# setup of the plots saving\n",
    "displayStep = 1\n",
    "recordStep = 10\n",
    "recordUnique = False\n",
    "uniqueImageCounter = 0\n",
    "# draw a point for every second of experiment time\n",
    "frequencyStep = 2\n",
    "displaySync = True"
   ]
  },
  {
   "cell_type": "code",
   "execution_count": null,
   "metadata": {},
   "outputs": [],
   "source": [
    "# get zero timestamp, i.e., beginning of the experiment\n",
    "expSummary = open(os.path.join(experimentFolder,\"summary.txt\")).read()\n",
    "for l in expSummary.split(\"\\n\"):\n",
    "    if \"Start\" in l:\n",
    "        startTimestamp = float(l.split(\"\\t\")[-1][:-1])\n",
    "        break"
   ]
  },
  {
   "cell_type": "code",
   "execution_count": null,
   "metadata": {},
   "outputs": [],
   "source": [
    "files = []\n",
    "for i in range(nodesAmount):\n",
    "    files.append(open(os.path.join(experimentFolder, \"worker\" + str(i), \"predictions.txt\"), \"r\"))\n",
    "\n",
    "if displaySync:\n",
    "    syncFile = open(os.path.join(experimentFolder, \"coordinator\", \"communication\", \"send_model.txt\"), \"r\")"
   ]
  },
  {
   "cell_type": "code",
   "execution_count": null,
   "metadata": {},
   "outputs": [],
   "source": [
    "# we have zero accuracy at the beginning\n",
    "plot = [0]\n",
    "# in order to avoid division by 0 we start with amount 1 - but that slightly decreases accuracy, since \n",
    "# amount is always larger by 1\n",
    "amounts = [1]\n",
    "syncPoints = []\n",
    "change = False\n",
    "while True:\n",
    "    for f in files:\n",
    "        where = f.tell()\n",
    "        line = f.readline()\n",
    "        if line:\n",
    "            change = True\n",
    "            parsedLine = line[:-1].split(\"\\t\")\n",
    "            lineTimestamp = float(parsedLine[0])\n",
    "            # identify to which point in time this line will go\n",
    "            xPoint = math.ceil((lineTimestamp - startTimestamp) / frequencyStep)\n",
    "            \n",
    "            pred = [float(x) for x in parsedLine[1].split(',')]\n",
    "            label = [float(x) for x in parsedLine[2].split(',')]\n",
    "            correctness = checkPrediction(pred, label)\n",
    "\n",
    "            if len(plot) < xPoint:\n",
    "                for i in range(xPoint - len(plot)):\n",
    "                    plot.append(plot[-1])\n",
    "                    amounts.append(amounts[-1])\n",
    "            for i in range(len(plot) - xPoint + xPoint, xPoint + 1, 1):\n",
    "                plot[i-1] += correctness\n",
    "                amounts[i-1] += 1\n",
    "    if displaySync:\n",
    "        where = syncFile.tell()\n",
    "        line = syncFile.readline()\n",
    "        if line:\n",
    "            parsedLine = line[:-1].split(\"\\t\")\n",
    "            lineTimestamp = float(parsedLine[0])\n",
    "            # if model was sent only to one learner it is not a synchronization\n",
    "            if parsedLine[2].count(\".\") > 1:\n",
    "                syncPoints.append(math.ceil((lineTimestamp - startTimestamp) / frequencyStep))\n",
    "          \n",
    "    # do not need to call plotting if no new lines were read\n",
    "    if not change:\n",
    "        time.sleep(1)\n",
    "        continue\n",
    "\n",
    "    change = False\n",
    "    if len(plot) % displayStep == 0:\n",
    "        clear_output(wait=True)\n",
    "        fig = plt.figure()\n",
    "        accuracies = np.array(plot) * 100.0 / np.array(amounts)\n",
    "        plt.plot(range(len(plot)), accuracies, label='Accuracy', color='green')\n",
    "        if displaySync:\n",
    "            displayedSyncs = [p for p in syncPoints if p < len(plot)]\n",
    "            plt.scatter(displayedSyncs, accuracies[displayedSyncs], color='blue', alpha=0.6, lw=5, s=2500, marker='|')\n",
    "        plt.legend(loc='lower center')\n",
    "        plt.xlabel(\"Time (every \" + str(frequencyStep) + \"s)\")\n",
    "        plt.ylabel(\"Accuracy (percent)\")\n",
    "        plt.grid()\n",
    "        plt.show()\n",
    "    if len(plot) % recordStep == 0:\n",
    "        if recordUnique:\n",
    "            fig.savefig(os.path.join(experimentFolder, \n",
    "                                     'accuracy_time' + str(uniqueImageCounter) + '.png'), dpi=100)\n",
    "            uniqueImageCounter += 1\n",
    "        else:\n",
    "            fig.savefig(os.path.join(experimentFolder, 'accuracy_time.png'), dpi=100) "
   ]
  },
  {
   "cell_type": "code",
   "execution_count": null,
   "metadata": {},
   "outputs": [],
   "source": [
    "for file in files:\n",
    "    file.close()\n",
    "\n",
    "if displaySync:\n",
    "    syncFile.close()"
   ]
  },
  {
   "cell_type": "code",
   "execution_count": null,
   "metadata": {},
   "outputs": [],
   "source": []
  },
  {
   "cell_type": "code",
   "execution_count": null,
   "metadata": {},
   "outputs": [],
   "source": []
  }
 ],
 "metadata": {
  "anaconda-cloud": {},
  "kernelspec": {
   "display_name": "Python 3",
   "language": "python",
   "name": "python3"
  },
  "language_info": {
   "codemirror_mode": {
    "name": "ipython",
    "version": 3
   },
   "file_extension": ".py",
   "mimetype": "text/x-python",
   "name": "python",
   "nbconvert_exporter": "python",
   "pygments_lexer": "ipython3",
   "version": "3.8.3"
  }
 },
 "nbformat": 4,
 "nbformat_minor": 4
}
